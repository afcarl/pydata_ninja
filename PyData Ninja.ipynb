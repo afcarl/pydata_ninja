{
 "cells": [
  {
   "cell_type": "markdown",
   "metadata": {
    "slideshow": {
     "slide_type": "slide"
    }
   },
   "source": [
    "<center>\n",
    "<h1>Introduction to Data Analysis with Python</h1>\n",
    "<br>\n",
    "<h3>Dr. Thomas Wiecki</h3><br>\n",
    "<h3>Lead Data Scientist</h3>\n",
    "<img width=40% src=\"http://i2.wp.com/stuffled.com/wp-content/uploads/2014/09/Quantopian-Logo-EPS-vector-image.png?resize=1020%2C680\">\n",
    "</center>"
   ]
  },
  {
   "cell_type": "markdown",
   "metadata": {
    "slideshow": {
     "slide_type": "slide"
    }
   },
   "source": [
    "<img src=\"http://cdn.nutanix.com/wp-content/uploads/2013/09/5530553658_cf0a5dd64d_z.jpg\">\n",
    "\n",
    "Source: http://www.nutanix.com/2013/09/16/the-cup-has-been-flipped/"
   ]
  },
  {
   "cell_type": "markdown",
   "metadata": {
    "slideshow": {
     "slide_type": "slide"
    }
   },
   "source": [
    "<center>\n",
    "<h1><strike>Introduction to Data Analysis with Python</strike></h1>\n",
    "<h1>The Path of the PyData Ninja</h1>\n",
    "<br>\n",
    "<h3>Dr. Thomas Wiecki</h3><br>\n",
    "<h3>Lead Data Scientist</h3>\n",
    "<img width=40% src=\"http://i2.wp.com/stuffled.com/wp-content/uploads/2014/09/Quantopian-Logo-EPS-vector-image.png?resize=1020%2C680\">\n",
    "</center>"
   ]
  },
  {
   "cell_type": "markdown",
   "metadata": {
    "slideshow": {
     "slide_type": "slide"
    }
   },
   "source": [
    "# About me\n",
    "\n",
    "* Lead Data Scientist at [Quantopian Inc](https://www.quantopian.com): Building a crowd sourced hedge fund.\n",
    "* PhD from Brown University -- research on computational neuroscience and machine learning using Bayesian modeling.\n",
    "* Twitter: [@twiecki](https://twitter.com/twiecki)\n",
    "* GitHub: [@twiecki](https://github.com/twiecki)\n",
    "* Blog: [http://twiecki.github.io](https://twiecki.github.io)\n",
    "* Developer of [PyMC3](https://github.com/pymc-devs/pymc3)."
   ]
  },
  {
   "cell_type": "markdown",
   "metadata": {
    "slideshow": {
     "slide_type": "slide"
    }
   },
   "source": [
    "<a href=\"https://quantopian.com\"><img width=40% src=\"http://i2.wp.com/stuffled.com/wp-content/uploads/2014/09/Quantopian-Logo-EPS-vector-image.png?resize=1020%2C680\"></a>\n",
    "\n",
    "* We back the best investment algorithms with investor capital, trading operations, and technology.\n",
    "* Do your research in our hosted IPython environment using stock price history, corporate fundamental data, and other data sets.\n",
    "* Write your algorithm in your browser. Then backtest it, for free, over 13 years of minute-level data.\n",
    "* When you enter the contest, your algorithm will also be considered for our hedge fund.\n",
    "* [We're hiring in Düsseldorf: Operations Engineer!](https://www.quantopian.com/about#op-37090-operations-engineer-israel)"
   ]
  },
  {
   "cell_type": "markdown",
   "metadata": {
    "slideshow": {
     "slide_type": "slide"
    }
   },
   "source": [
    "## Why use Python for data analysis?"
   ]
  },
  {
   "cell_type": "markdown",
   "metadata": {
    "slideshow": {
     "slide_type": "fragment"
    }
   },
   "source": [
    "* Python is a **general purpose language** -> No hodge-podge of perl, bash, matlab, fortran.\n",
    "* Very easy to learn.\n",
    "* Quality and quantity of data analysis libraries is very high and growing at a rapid pace.\n",
    "* What are the alternatives?\n",
    "  - R: \"The best thing about R is that it was written by statisticians. The worst thing about R is that it was written by statisticians.\" Bow Cogwill\n",
    "  - Matlab: $$$, not open"
   ]
  },
  {
   "cell_type": "markdown",
   "metadata": {
    "slideshow": {
     "slide_type": "slide"
    }
   },
   "source": [
    "## Jobs!\n",
    "\n",
    "<img src=\"http://www.indeed.com/trendgraph/jobgraph.png?q=R++and+%28%22big+data%22+or+%22statistical+analysis%22+or+%22data+mining%22+or+%22data+analytics%22+or+%22machine+learning%22+or+%22quantitative+analysis%22+or+%22business+analytics%22+or+%22statistical+software%22+or+%22predictive+modeling%22%29+%21%22R+D%22+%21%22A+R%22+%21%22H+R%22+%21%22R+N%22++%21toys+%21kids+%21%22+R+Walgreen%22+%21walmart+%21%22HVAC+R%22+%21%22R+Bard%22++%2C+python+and+%28%22big+data%22+or+%22statistical+analysis%22+or+%22data+mining%22+or+%22data+analytics%22+or+%22machine+learning%22+or+%22quantitative+analysis%22+or+%22business+analytics%22+or+%22statistical+software%22+or+%22predictive+modeling%22%29\">"
   ]
  },
  {
   "cell_type": "markdown",
   "metadata": {
    "slideshow": {
     "slide_type": "slide"
    }
   },
   "source": [
    "<center> <h2>The PyData Stack</h2>\n",
    "Source: [Jake VanderPlas: State of the Tools](https://www.youtube.com/watch?v=5GlNDD7qbP4)\n",
    "<center><img src='pydata_stack-0.jpg' width=50%></center>"
   ]
  },
  {
   "cell_type": "markdown",
   "metadata": {
    "slideshow": {
     "slide_type": "slide"
    }
   },
   "source": [
    "<center> <h2>The PyData Stack</h2>\n",
    "\n",
    "<center><img src='pydata_stack-1.jpg' width=50%></center>"
   ]
  },
  {
   "cell_type": "markdown",
   "metadata": {
    "slideshow": {
     "slide_type": "slide"
    }
   },
   "source": [
    "<center> <h2>The PyData Stack</h2>\n",
    "\n",
    "<center><img src='pydata_stack-2.jpg' width=50%></center>"
   ]
  },
  {
   "cell_type": "markdown",
   "metadata": {
    "slideshow": {
     "slide_type": "slide"
    }
   },
   "source": [
    "<center> <h2>The PyData Stack</h2>\n",
    "\n",
    "<center><img src='pydata_stack-3.jpg' width=50%></center>"
   ]
  },
  {
   "cell_type": "markdown",
   "metadata": {
    "slideshow": {
     "slide_type": "slide"
    }
   },
   "source": [
    "<center> <h2>The PyData Stack</h2>\n",
    "\n",
    "<center><img src='pydata_stack-4.jpg' width=50%></center>"
   ]
  },
  {
   "cell_type": "markdown",
   "metadata": {
    "slideshow": {
     "slide_type": "slide"
    }
   },
   "source": [
    "## Level 0: n00b\n",
    "\n",
    "<img src=\"beginner.png\">"
   ]
  },
  {
   "cell_type": "markdown",
   "metadata": {
    "slideshow": {
     "slide_type": "slide"
    }
   },
   "source": [
    "# How to get started\n",
    "\n",
    "* Start by installing the [Anaconda Python distribution](http://continuum.io/downloads#py34) (use Python 3.4)\n",
    "* Install the jupyter notebook (former IPython)\n",
    "* Do a basic Python tutorial to get a handle on the syntax, e.g. [Learn Python the Hard Way](http://learnpythonthehardway.org/)\n"
   ]
  },
  {
   "cell_type": "markdown",
   "metadata": {
    "slideshow": {
     "slide_type": "slide"
    }
   },
   "source": [
    "# Python basics"
   ]
  },
  {
   "cell_type": "markdown",
   "metadata": {
    "slideshow": {
     "slide_type": "fragment"
    }
   },
   "source": [
    "### Interpreted and interactive"
   ]
  },
  {
   "cell_type": "code",
   "execution_count": 1,
   "metadata": {
    "collapsed": false,
    "slideshow": {
     "slide_type": "fragment"
    }
   },
   "outputs": [
    {
     "data": {
      "text/plain": [
       "12"
      ]
     },
     "execution_count": 1,
     "metadata": {},
     "output_type": "execute_result"
    }
   ],
   "source": [
    "3 * 4"
   ]
  },
  {
   "cell_type": "markdown",
   "metadata": {
    "slideshow": {
     "slide_type": "slide"
    }
   },
   "source": [
    "### Lists"
   ]
  },
  {
   "cell_type": "code",
   "execution_count": 2,
   "metadata": {
    "collapsed": false,
    "slideshow": {
     "slide_type": "fragment"
    }
   },
   "outputs": [
    {
     "name": "stdout",
     "output_type": "stream",
     "text": [
      "[1, 2, 3]\n"
     ]
    }
   ],
   "source": [
    "x = [1, 2, 3]\n",
    "print(x)"
   ]
  },
  {
   "cell_type": "code",
   "execution_count": 3,
   "metadata": {
    "collapsed": false,
    "slideshow": {
     "slide_type": "fragment"
    }
   },
   "outputs": [
    {
     "name": "stdout",
     "output_type": "stream",
     "text": [
      "[1, 2, 3, 4]\n"
     ]
    }
   ],
   "source": [
    "x.append(4)\n",
    "print(x)"
   ]
  },
  {
   "cell_type": "markdown",
   "metadata": {
    "slideshow": {
     "slide_type": "slide"
    }
   },
   "source": [
    "### Dictionaries"
   ]
  },
  {
   "cell_type": "code",
   "execution_count": 4,
   "metadata": {
    "collapsed": false,
    "slideshow": {
     "slide_type": "fragment"
    }
   },
   "outputs": [
    {
     "data": {
      "text/plain": [
       "{'height': [1.7, 1.8, 1.5], 'weight': [60, 120, 50]}"
      ]
     },
     "execution_count": 4,
     "metadata": {},
     "output_type": "execute_result"
    }
   ],
   "source": [
    "measurements = {'height': [1.70, 1.80, 1.50], 'weight': [60, 120, 50]}\n",
    "measurements"
   ]
  },
  {
   "cell_type": "code",
   "execution_count": 5,
   "metadata": {
    "collapsed": false
   },
   "outputs": [
    {
     "data": {
      "text/plain": [
       "[1.7, 1.8, 1.5]"
      ]
     },
     "execution_count": 5,
     "metadata": {},
     "output_type": "execute_result"
    }
   ],
   "source": [
    "measurements['height']"
   ]
  },
  {
   "cell_type": "markdown",
   "metadata": {
    "slideshow": {
     "slide_type": "slide"
    }
   },
   "source": [
    "### Comprehensions"
   ]
  },
  {
   "cell_type": "code",
   "execution_count": 6,
   "metadata": {
    "collapsed": false,
    "slideshow": {
     "slide_type": "fragment"
    }
   },
   "outputs": [
    {
     "data": {
      "text/plain": [
       "[1, 4, 9, 16]"
      ]
     },
     "execution_count": 6,
     "metadata": {},
     "output_type": "execute_result"
    }
   ],
   "source": [
    "x = [1, 2, 3, 4]\n",
    "[i**2 for i in x]"
   ]
  },
  {
   "cell_type": "code",
   "execution_count": 7,
   "metadata": {
    "collapsed": false,
    "slideshow": {
     "slide_type": "fragment"
    }
   },
   "outputs": [
    {
     "data": {
      "text/plain": [
       "[20.761245674740486, 37.03703703703704, 22.22222222222222]"
      ]
     },
     "execution_count": 7,
     "metadata": {},
     "output_type": "execute_result"
    }
   ],
   "source": [
    "def calc_bmi(weight, height):\n",
    "    return weight / height**2\n",
    "\n",
    "[calc_bmi(w, h) for w, h in zip(measurements['weight'], measurements['height'])]"
   ]
  },
  {
   "cell_type": "markdown",
   "metadata": {
    "slideshow": {
     "slide_type": "slide"
    }
   },
   "source": [
    "## Level 1: \"The Pandas Wrangler\"\n",
    "\n",
    "<img src=\"amateur.png\">"
   ]
  },
  {
   "cell_type": "markdown",
   "metadata": {
    "slideshow": {
     "slide_type": "slide"
    }
   },
   "source": [
    "## How to become a \"Pandas Wrangler\"\n",
    "\n",
    "* Learn Pandas (data wrangling): http://pandas.pydata.org/pandas-docs/stable/tutorials.html\n",
    "* Learn Seaborn (data visualization): http://stanford.edu/~mwaskom/software/seaborn/"
   ]
  },
  {
   "cell_type": "markdown",
   "metadata": {
    "slideshow": {
     "slide_type": "fragment"
    }
   },
   "source": [
    "### Why not start with NumPy and Matplotlib?\n",
    "* These libraries have become core libraries.\n",
    "* Better results can be achieved starting with Pandas and Seaborn.\n",
    "* For more motivation, see http://twiecki.github.io/blog/2014/11/18/python-for-data-science/"
   ]
  },
  {
   "cell_type": "markdown",
   "metadata": {
    "slideshow": {
     "slide_type": "slide"
    }
   },
   "source": [
    "## Pandas"
   ]
  },
  {
   "cell_type": "code",
   "execution_count": 8,
   "metadata": {
    "collapsed": true,
    "slideshow": {
     "slide_type": "fragment"
    }
   },
   "outputs": [],
   "source": [
    "import pandas as pd\n",
    "import numpy as np"
   ]
  },
  {
   "cell_type": "code",
   "execution_count": 9,
   "metadata": {
    "collapsed": false,
    "slideshow": {
     "slide_type": "fragment"
    }
   },
   "outputs": [
    {
     "data": {
      "text/plain": [
       "0     1\n",
       "1     3\n",
       "2     5\n",
       "3   NaN\n",
       "4     6\n",
       "5     8\n",
       "dtype: float64"
      ]
     },
     "execution_count": 9,
     "metadata": {},
     "output_type": "execute_result"
    }
   ],
   "source": [
    "s = pd.Series([1,3,5,np.nan,6,8])\n",
    "s"
   ]
  },
  {
   "cell_type": "code",
   "execution_count": 10,
   "metadata": {
    "collapsed": false,
    "slideshow": {
     "slide_type": "slide"
    }
   },
   "outputs": [
    {
     "data": {
      "text/html": [
       "<div>\n",
       "<table border=\"1\" class=\"dataframe\">\n",
       "  <thead>\n",
       "    <tr style=\"text-align: right;\">\n",
       "      <th></th>\n",
       "      <th>A</th>\n",
       "      <th>B</th>\n",
       "      <th>C</th>\n",
       "      <th>D</th>\n",
       "    </tr>\n",
       "  </thead>\n",
       "  <tbody>\n",
       "    <tr>\n",
       "      <th>2013-01-01</th>\n",
       "      <td>-1.825304</td>\n",
       "      <td>0.016285</td>\n",
       "      <td>-0.306601</td>\n",
       "      <td>0.004272</td>\n",
       "    </tr>\n",
       "    <tr>\n",
       "      <th>2013-01-02</th>\n",
       "      <td>0.192045</td>\n",
       "      <td>-0.291267</td>\n",
       "      <td>1.951792</td>\n",
       "      <td>1.708918</td>\n",
       "    </tr>\n",
       "    <tr>\n",
       "      <th>2013-01-03</th>\n",
       "      <td>-0.672820</td>\n",
       "      <td>-2.051800</td>\n",
       "      <td>0.113415</td>\n",
       "      <td>-0.594967</td>\n",
       "    </tr>\n",
       "    <tr>\n",
       "      <th>2013-01-04</th>\n",
       "      <td>-1.453007</td>\n",
       "      <td>1.282767</td>\n",
       "      <td>-0.113163</td>\n",
       "      <td>-1.824503</td>\n",
       "    </tr>\n",
       "    <tr>\n",
       "      <th>2013-01-05</th>\n",
       "      <td>0.824425</td>\n",
       "      <td>2.156586</td>\n",
       "      <td>-0.047000</td>\n",
       "      <td>-1.042518</td>\n",
       "    </tr>\n",
       "    <tr>\n",
       "      <th>2013-01-06</th>\n",
       "      <td>0.359821</td>\n",
       "      <td>-0.896814</td>\n",
       "      <td>0.617897</td>\n",
       "      <td>-0.723848</td>\n",
       "    </tr>\n",
       "  </tbody>\n",
       "</table>\n",
       "</div>"
      ],
      "text/plain": [
       "                   A         B         C         D\n",
       "2013-01-01 -1.825304  0.016285 -0.306601  0.004272\n",
       "2013-01-02  0.192045 -0.291267  1.951792  1.708918\n",
       "2013-01-03 -0.672820 -2.051800  0.113415 -0.594967\n",
       "2013-01-04 -1.453007  1.282767 -0.113163 -1.824503\n",
       "2013-01-05  0.824425  2.156586 -0.047000 -1.042518\n",
       "2013-01-06  0.359821 -0.896814  0.617897 -0.723848"
      ]
     },
     "execution_count": 10,
     "metadata": {},
     "output_type": "execute_result"
    }
   ],
   "source": [
    "dates = pd.date_range('20130101', periods=6)\n",
    "\n",
    "df = pd.DataFrame(np.random.randn(6,4), index=dates, columns=list('ABCD'))\n",
    "df"
   ]
  },
  {
   "cell_type": "code",
   "execution_count": 11,
   "metadata": {
    "collapsed": false,
    "slideshow": {
     "slide_type": "slide"
    }
   },
   "outputs": [
    {
     "data": {
      "text/html": [
       "<div>\n",
       "<table border=\"1\" class=\"dataframe\">\n",
       "  <thead>\n",
       "    <tr style=\"text-align: right;\">\n",
       "      <th></th>\n",
       "      <th>A</th>\n",
       "      <th>B</th>\n",
       "      <th>C</th>\n",
       "      <th>D</th>\n",
       "    </tr>\n",
       "  </thead>\n",
       "  <tbody>\n",
       "    <tr>\n",
       "      <th>2013-01-02</th>\n",
       "      <td>0.192045</td>\n",
       "      <td>-0.291267</td>\n",
       "      <td>1.951792</td>\n",
       "      <td>1.708918</td>\n",
       "    </tr>\n",
       "    <tr>\n",
       "      <th>2013-01-05</th>\n",
       "      <td>0.824425</td>\n",
       "      <td>2.156586</td>\n",
       "      <td>-0.047000</td>\n",
       "      <td>-1.042518</td>\n",
       "    </tr>\n",
       "    <tr>\n",
       "      <th>2013-01-06</th>\n",
       "      <td>0.359821</td>\n",
       "      <td>-0.896814</td>\n",
       "      <td>0.617897</td>\n",
       "      <td>-0.723848</td>\n",
       "    </tr>\n",
       "  </tbody>\n",
       "</table>\n",
       "</div>"
      ],
      "text/plain": [
       "                   A         B         C         D\n",
       "2013-01-02  0.192045 -0.291267  1.951792  1.708918\n",
       "2013-01-05  0.824425  2.156586 -0.047000 -1.042518\n",
       "2013-01-06  0.359821 -0.896814  0.617897 -0.723848"
      ]
     },
     "execution_count": 11,
     "metadata": {},
     "output_type": "execute_result"
    }
   ],
   "source": [
    "df[df.A > 0]"
   ]
  },
  {
   "cell_type": "code",
   "execution_count": 12,
   "metadata": {
    "collapsed": false,
    "slideshow": {
     "slide_type": "slide"
    }
   },
   "outputs": [
    {
     "data": {
      "text/plain": [
       "A   -0.429140\n",
       "B    0.035960\n",
       "C    0.369390\n",
       "D   -0.412108\n",
       "dtype: float64"
      ]
     },
     "execution_count": 12,
     "metadata": {},
     "output_type": "execute_result"
    }
   ],
   "source": [
    "df.mean()"
   ]
  },
  {
   "cell_type": "code",
   "execution_count": 13,
   "metadata": {
    "collapsed": false,
    "slideshow": {
     "slide_type": "slide"
    }
   },
   "outputs": [
    {
     "data": {
      "text/plain": [
       "2013-01-01   -0.527837\n",
       "2013-01-02    0.890372\n",
       "2013-01-03   -0.801543\n",
       "2013-01-04   -0.526977\n",
       "2013-01-05    0.472873\n",
       "2013-01-06   -0.160736\n",
       "Freq: D, dtype: float64"
      ]
     },
     "execution_count": 13,
     "metadata": {},
     "output_type": "execute_result"
    }
   ],
   "source": [
    "df.mean(axis='columns')"
   ]
  },
  {
   "cell_type": "markdown",
   "metadata": {
    "slideshow": {
     "slide_type": "slide"
    }
   },
   "source": [
    "## Mixed types"
   ]
  },
  {
   "cell_type": "code",
   "execution_count": 14,
   "metadata": {
    "collapsed": false,
    "slideshow": {
     "slide_type": "slide"
    }
   },
   "outputs": [
    {
     "data": {
      "text/html": [
       "<div>\n",
       "<table border=\"1\" class=\"dataframe\">\n",
       "  <thead>\n",
       "    <tr style=\"text-align: right;\">\n",
       "      <th></th>\n",
       "      <th>A</th>\n",
       "      <th>B</th>\n",
       "      <th>C</th>\n",
       "      <th>D</th>\n",
       "      <th>E</th>\n",
       "      <th>F</th>\n",
       "    </tr>\n",
       "  </thead>\n",
       "  <tbody>\n",
       "    <tr>\n",
       "      <th>0</th>\n",
       "      <td>1</td>\n",
       "      <td>2013-01-02</td>\n",
       "      <td>1</td>\n",
       "      <td>3</td>\n",
       "      <td>test</td>\n",
       "      <td>foo</td>\n",
       "    </tr>\n",
       "    <tr>\n",
       "      <th>1</th>\n",
       "      <td>1</td>\n",
       "      <td>2013-01-02</td>\n",
       "      <td>1</td>\n",
       "      <td>3</td>\n",
       "      <td>train</td>\n",
       "      <td>foo</td>\n",
       "    </tr>\n",
       "    <tr>\n",
       "      <th>2</th>\n",
       "      <td>1</td>\n",
       "      <td>2013-01-02</td>\n",
       "      <td>1</td>\n",
       "      <td>3</td>\n",
       "      <td>test</td>\n",
       "      <td>foo</td>\n",
       "    </tr>\n",
       "    <tr>\n",
       "      <th>3</th>\n",
       "      <td>1</td>\n",
       "      <td>2013-01-02</td>\n",
       "      <td>1</td>\n",
       "      <td>3</td>\n",
       "      <td>train</td>\n",
       "      <td>foo</td>\n",
       "    </tr>\n",
       "  </tbody>\n",
       "</table>\n",
       "</div>"
      ],
      "text/plain": [
       "   A          B  C  D      E    F\n",
       "0  1 2013-01-02  1  3   test  foo\n",
       "1  1 2013-01-02  1  3  train  foo\n",
       "2  1 2013-01-02  1  3   test  foo\n",
       "3  1 2013-01-02  1  3  train  foo"
      ]
     },
     "execution_count": 14,
     "metadata": {},
     "output_type": "execute_result"
    }
   ],
   "source": [
    "df2 = pd.DataFrame({ 'A' : 1.,\n",
    "                     'B' : pd.Timestamp('20130102'),\n",
    "                     'C' : pd.Series(1,index=list(range(4)),dtype='float32'),\n",
    "                     'D' : np.array([3] * 4,dtype='int32'),\n",
    "                     'E' : pd.Categorical([\"test\",\"train\",\"test\",\"train\"]),\n",
    "                     'F' : 'foo' })\n",
    "\n",
    "df2"
   ]
  },
  {
   "cell_type": "code",
   "execution_count": 15,
   "metadata": {
    "collapsed": false
   },
   "outputs": [
    {
     "data": {
      "text/plain": [
       "A           float64\n",
       "B    datetime64[ns]\n",
       "C           float32\n",
       "D             int32\n",
       "E          category\n",
       "F            object\n",
       "dtype: object"
      ]
     },
     "execution_count": 15,
     "metadata": {},
     "output_type": "execute_result"
    }
   ],
   "source": [
    "df2.dtypes"
   ]
  },
  {
   "cell_type": "markdown",
   "metadata": {
    "slideshow": {
     "slide_type": "slide"
    }
   },
   "source": [
    "### Grouping"
   ]
  },
  {
   "cell_type": "code",
   "execution_count": 16,
   "metadata": {
    "collapsed": true,
    "slideshow": {
     "slide_type": "slide"
    }
   },
   "outputs": [],
   "source": [
    "df = pd.DataFrame({'A' : ['foo', 'bar', 'foo', 'bar',\n",
    "                          'foo', 'bar', 'foo', 'foo'],\n",
    "                   'B' : ['one', 'one', 'two', 'three',\n",
    "                          'two', 'two', 'one', 'three'],\n",
    "                   'C' : np.random.randn(8),\n",
    "                   'D' : np.random.randn(8)})"
   ]
  },
  {
   "cell_type": "code",
   "execution_count": 17,
   "metadata": {
    "collapsed": false,
    "slideshow": {
     "slide_type": "slide"
    }
   },
   "outputs": [
    {
     "data": {
      "text/html": [
       "<div>\n",
       "<table border=\"1\" class=\"dataframe\">\n",
       "  <thead>\n",
       "    <tr style=\"text-align: right;\">\n",
       "      <th></th>\n",
       "      <th>A</th>\n",
       "      <th>B</th>\n",
       "      <th>C</th>\n",
       "      <th>D</th>\n",
       "    </tr>\n",
       "  </thead>\n",
       "  <tbody>\n",
       "    <tr>\n",
       "      <th>0</th>\n",
       "      <td>foo</td>\n",
       "      <td>one</td>\n",
       "      <td>0.343733</td>\n",
       "      <td>-0.387430</td>\n",
       "    </tr>\n",
       "    <tr>\n",
       "      <th>1</th>\n",
       "      <td>bar</td>\n",
       "      <td>one</td>\n",
       "      <td>2.061690</td>\n",
       "      <td>2.454234</td>\n",
       "    </tr>\n",
       "    <tr>\n",
       "      <th>2</th>\n",
       "      <td>foo</td>\n",
       "      <td>two</td>\n",
       "      <td>0.626621</td>\n",
       "      <td>-1.106039</td>\n",
       "    </tr>\n",
       "    <tr>\n",
       "      <th>3</th>\n",
       "      <td>bar</td>\n",
       "      <td>three</td>\n",
       "      <td>1.511600</td>\n",
       "      <td>0.963582</td>\n",
       "    </tr>\n",
       "    <tr>\n",
       "      <th>4</th>\n",
       "      <td>foo</td>\n",
       "      <td>two</td>\n",
       "      <td>-1.187094</td>\n",
       "      <td>-1.310974</td>\n",
       "    </tr>\n",
       "    <tr>\n",
       "      <th>5</th>\n",
       "      <td>bar</td>\n",
       "      <td>two</td>\n",
       "      <td>-1.065222</td>\n",
       "      <td>-0.983320</td>\n",
       "    </tr>\n",
       "    <tr>\n",
       "      <th>6</th>\n",
       "      <td>foo</td>\n",
       "      <td>one</td>\n",
       "      <td>-0.924636</td>\n",
       "      <td>0.349164</td>\n",
       "    </tr>\n",
       "    <tr>\n",
       "      <th>7</th>\n",
       "      <td>foo</td>\n",
       "      <td>three</td>\n",
       "      <td>2.093810</td>\n",
       "      <td>-0.913885</td>\n",
       "    </tr>\n",
       "  </tbody>\n",
       "</table>\n",
       "</div>"
      ],
      "text/plain": [
       "     A      B         C         D\n",
       "0  foo    one  0.343733 -0.387430\n",
       "1  bar    one  2.061690  2.454234\n",
       "2  foo    two  0.626621 -1.106039\n",
       "3  bar  three  1.511600  0.963582\n",
       "4  foo    two -1.187094 -1.310974\n",
       "5  bar    two -1.065222 -0.983320\n",
       "6  foo    one -0.924636  0.349164\n",
       "7  foo  three  2.093810 -0.913885"
      ]
     },
     "execution_count": 17,
     "metadata": {},
     "output_type": "execute_result"
    }
   ],
   "source": [
    "df"
   ]
  },
  {
   "cell_type": "code",
   "execution_count": 18,
   "metadata": {
    "collapsed": false,
    "slideshow": {
     "slide_type": "fragment"
    }
   },
   "outputs": [
    {
     "data": {
      "text/html": [
       "<div>\n",
       "<table border=\"1\" class=\"dataframe\">\n",
       "  <thead>\n",
       "    <tr style=\"text-align: right;\">\n",
       "      <th></th>\n",
       "      <th>C</th>\n",
       "      <th>D</th>\n",
       "    </tr>\n",
       "    <tr>\n",
       "      <th>A</th>\n",
       "      <th></th>\n",
       "      <th></th>\n",
       "    </tr>\n",
       "  </thead>\n",
       "  <tbody>\n",
       "    <tr>\n",
       "      <th>bar</th>\n",
       "      <td>2.508068</td>\n",
       "      <td>2.434496</td>\n",
       "    </tr>\n",
       "    <tr>\n",
       "      <th>foo</th>\n",
       "      <td>0.952434</td>\n",
       "      <td>-3.369164</td>\n",
       "    </tr>\n",
       "  </tbody>\n",
       "</table>\n",
       "</div>"
      ],
      "text/plain": [
       "            C         D\n",
       "A                      \n",
       "bar  2.508068  2.434496\n",
       "foo  0.952434 -3.369164"
      ]
     },
     "execution_count": 18,
     "metadata": {},
     "output_type": "execute_result"
    }
   ],
   "source": [
    "df.groupby('A').sum()"
   ]
  },
  {
   "cell_type": "code",
   "execution_count": 19,
   "metadata": {
    "collapsed": false,
    "slideshow": {
     "slide_type": "fragment"
    }
   },
   "outputs": [
    {
     "data": {
      "text/html": [
       "<div>\n",
       "<table border=\"1\" class=\"dataframe\">\n",
       "  <thead>\n",
       "    <tr style=\"text-align: right;\">\n",
       "      <th></th>\n",
       "      <th></th>\n",
       "      <th>C</th>\n",
       "      <th>D</th>\n",
       "    </tr>\n",
       "    <tr>\n",
       "      <th>A</th>\n",
       "      <th>B</th>\n",
       "      <th></th>\n",
       "      <th></th>\n",
       "    </tr>\n",
       "  </thead>\n",
       "  <tbody>\n",
       "    <tr>\n",
       "      <th rowspan=\"3\" valign=\"top\">bar</th>\n",
       "      <th>one</th>\n",
       "      <td>2.061690</td>\n",
       "      <td>2.454234</td>\n",
       "    </tr>\n",
       "    <tr>\n",
       "      <th>three</th>\n",
       "      <td>1.511600</td>\n",
       "      <td>0.963582</td>\n",
       "    </tr>\n",
       "    <tr>\n",
       "      <th>two</th>\n",
       "      <td>-1.065222</td>\n",
       "      <td>-0.983320</td>\n",
       "    </tr>\n",
       "    <tr>\n",
       "      <th rowspan=\"3\" valign=\"top\">foo</th>\n",
       "      <th>one</th>\n",
       "      <td>-0.580903</td>\n",
       "      <td>-0.038266</td>\n",
       "    </tr>\n",
       "    <tr>\n",
       "      <th>three</th>\n",
       "      <td>2.093810</td>\n",
       "      <td>-0.913885</td>\n",
       "    </tr>\n",
       "    <tr>\n",
       "      <th>two</th>\n",
       "      <td>-0.560473</td>\n",
       "      <td>-2.417013</td>\n",
       "    </tr>\n",
       "  </tbody>\n",
       "</table>\n",
       "</div>"
      ],
      "text/plain": [
       "                  C         D\n",
       "A   B                        \n",
       "bar one    2.061690  2.454234\n",
       "    three  1.511600  0.963582\n",
       "    two   -1.065222 -0.983320\n",
       "foo one   -0.580903 -0.038266\n",
       "    three  2.093810 -0.913885\n",
       "    two   -0.560473 -2.417013"
      ]
     },
     "execution_count": 19,
     "metadata": {},
     "output_type": "execute_result"
    }
   ],
   "source": [
    "df.groupby(['A', 'B']).sum()"
   ]
  },
  {
   "cell_type": "markdown",
   "metadata": {
    "slideshow": {
     "slide_type": "slide"
    }
   },
   "source": [
    "## Seaborn: Generating statistical plots"
   ]
  },
  {
   "cell_type": "code",
   "execution_count": 20,
   "metadata": {
    "collapsed": true,
    "slideshow": {
     "slide_type": "fragment"
    }
   },
   "outputs": [],
   "source": [
    "%matplotlib inline\n",
    "import seaborn as sns"
   ]
  },
  {
   "cell_type": "code",
   "execution_count": 21,
   "metadata": {
    "collapsed": false,
    "slideshow": {
     "slide_type": "fragment"
    }
   },
   "outputs": [
    {
     "data": {
      "image/png": "[encoded data removed]",
      "text/plain": [
       "<matplotlib.figure.Figure at 0x7fa7e82c65c0>"
      ]
     },
     "metadata": {},
     "output_type": "display_data"
    }
   ],
   "source": [
    "x = np.random.normal(size=100)\n",
    "sns.distplot(x);"
   ]
  },
  {
   "cell_type": "markdown",
   "metadata": {
    "slideshow": {
     "slide_type": "slide"
    }
   },
   "source": [
    "### 2D distributions"
   ]
  },
  {
   "cell_type": "code",
   "execution_count": 22,
   "metadata": {
    "collapsed": false,
    "slideshow": {
     "slide_type": "fragment"
    }
   },
   "outputs": [
    {
     "data": {
      "text/html": [
       "<div>\n",
       "<table border=\"1\" class=\"dataframe\">\n",
       "  <thead>\n",
       "    <tr style=\"text-align: right;\">\n",
       "      <th></th>\n",
       "      <th>x</th>\n",
       "      <th>y</th>\n",
       "    </tr>\n",
       "  </thead>\n",
       "  <tbody>\n",
       "    <tr>\n",
       "      <th>0</th>\n",
       "      <td>1.086599</td>\n",
       "      <td>0.232294</td>\n",
       "    </tr>\n",
       "    <tr>\n",
       "      <th>1</th>\n",
       "      <td>-0.443143</td>\n",
       "      <td>-0.354076</td>\n",
       "    </tr>\n",
       "    <tr>\n",
       "      <th>2</th>\n",
       "      <td>0.652826</td>\n",
       "      <td>1.165967</td>\n",
       "    </tr>\n",
       "    <tr>\n",
       "      <th>3</th>\n",
       "      <td>-0.903281</td>\n",
       "      <td>0.170521</td>\n",
       "    </tr>\n",
       "    <tr>\n",
       "      <th>4</th>\n",
       "      <td>-1.148413</td>\n",
       "      <td>2.050707</td>\n",
       "    </tr>\n",
       "    <tr>\n",
       "      <th>5</th>\n",
       "      <td>-0.176674</td>\n",
       "      <td>2.375160</td>\n",
       "    </tr>\n",
       "    <tr>\n",
       "      <th>6</th>\n",
       "      <td>0.845552</td>\n",
       "      <td>1.879006</td>\n",
       "    </tr>\n",
       "    <tr>\n",
       "      <th>7</th>\n",
       "      <td>-0.962104</td>\n",
       "      <td>0.340105</td>\n",
       "    </tr>\n",
       "    <tr>\n",
       "      <th>8</th>\n",
       "      <td>0.038327</td>\n",
       "      <td>0.011257</td>\n",
       "    </tr>\n",
       "    <tr>\n",
       "      <th>9</th>\n",
       "      <td>-0.704808</td>\n",
       "      <td>-0.132214</td>\n",
       "    </tr>\n",
       "    <tr>\n",
       "      <th>10</th>\n",
       "      <td>-0.265136</td>\n",
       "      <td>0.426827</td>\n",
       "    </tr>\n",
       "    <tr>\n",
       "      <th>11</th>\n",
       "      <td>1.327651</td>\n",
       "      <td>3.319972</td>\n",
       "    </tr>\n",
       "    <tr>\n",
       "      <th>12</th>\n",
       "      <td>-0.044100</td>\n",
       "      <td>0.249657</td>\n",
       "    </tr>\n",
       "    <tr>\n",
       "      <th>13</th>\n",
       "      <td>0.451112</td>\n",
       "      <td>0.740770</td>\n",
       "    </tr>\n",
       "    <tr>\n",
       "      <th>14</th>\n",
       "      <td>0.596272</td>\n",
       "      <td>1.360725</td>\n",
       "    </tr>\n",
       "    <tr>\n",
       "      <th>15</th>\n",
       "      <td>-0.137805</td>\n",
       "      <td>1.041698</td>\n",
       "    </tr>\n",
       "    <tr>\n",
       "      <th>16</th>\n",
       "      <td>1.168201</td>\n",
       "      <td>2.713771</td>\n",
       "    </tr>\n",
       "    <tr>\n",
       "      <th>17</th>\n",
       "      <td>-1.319453</td>\n",
       "      <td>-0.503621</td>\n",
       "    </tr>\n",
       "    <tr>\n",
       "      <th>18</th>\n",
       "      <td>0.461970</td>\n",
       "      <td>2.389124</td>\n",
       "    </tr>\n",
       "    <tr>\n",
       "      <th>19</th>\n",
       "      <td>-0.334954</td>\n",
       "      <td>1.328563</td>\n",
       "    </tr>\n",
       "    <tr>\n",
       "      <th>20</th>\n",
       "      <td>-0.649478</td>\n",
       "      <td>1.537904</td>\n",
       "    </tr>\n",
       "    <tr>\n",
       "      <th>21</th>\n",
       "      <td>0.310419</td>\n",
       "      <td>1.523426</td>\n",
       "    </tr>\n",
       "    <tr>\n",
       "      <th>22</th>\n",
       "      <td>0.710832</td>\n",
       "      <td>0.943226</td>\n",
       "    </tr>\n",
       "    <tr>\n",
       "      <th>23</th>\n",
       "      <td>-0.823799</td>\n",
       "      <td>1.775166</td>\n",
       "    </tr>\n",
       "    <tr>\n",
       "      <th>24</th>\n",
       "      <td>0.992667</td>\n",
       "      <td>1.022176</td>\n",
       "    </tr>\n",
       "    <tr>\n",
       "      <th>25</th>\n",
       "      <td>0.568753</td>\n",
       "      <td>0.557493</td>\n",
       "    </tr>\n",
       "    <tr>\n",
       "      <th>26</th>\n",
       "      <td>-0.301274</td>\n",
       "      <td>1.079018</td>\n",
       "    </tr>\n",
       "    <tr>\n",
       "      <th>27</th>\n",
       "      <td>-1.733951</td>\n",
       "      <td>0.567187</td>\n",
       "    </tr>\n",
       "    <tr>\n",
       "      <th>28</th>\n",
       "      <td>0.952436</td>\n",
       "      <td>1.852690</td>\n",
       "    </tr>\n",
       "    <tr>\n",
       "      <th>29</th>\n",
       "      <td>-1.174882</td>\n",
       "      <td>0.873883</td>\n",
       "    </tr>\n",
       "    <tr>\n",
       "      <th>...</th>\n",
       "      <td>...</td>\n",
       "      <td>...</td>\n",
       "    </tr>\n",
       "    <tr>\n",
       "      <th>170</th>\n",
       "      <td>0.563523</td>\n",
       "      <td>2.138955</td>\n",
       "    </tr>\n",
       "    <tr>\n",
       "      <th>171</th>\n",
       "      <td>1.033686</td>\n",
       "      <td>4.141070</td>\n",
       "    </tr>\n",
       "    <tr>\n",
       "      <th>172</th>\n",
       "      <td>0.292181</td>\n",
       "      <td>1.408222</td>\n",
       "    </tr>\n",
       "    <tr>\n",
       "      <th>173</th>\n",
       "      <td>-2.301801</td>\n",
       "      <td>-0.042128</td>\n",
       "    </tr>\n",
       "    <tr>\n",
       "      <th>174</th>\n",
       "      <td>0.104059</td>\n",
       "      <td>0.542621</td>\n",
       "    </tr>\n",
       "    <tr>\n",
       "      <th>175</th>\n",
       "      <td>0.588103</td>\n",
       "      <td>0.567352</td>\n",
       "    </tr>\n",
       "    <tr>\n",
       "      <th>176</th>\n",
       "      <td>-1.073328</td>\n",
       "      <td>-0.120820</td>\n",
       "    </tr>\n",
       "    <tr>\n",
       "      <th>177</th>\n",
       "      <td>1.853767</td>\n",
       "      <td>0.099758</td>\n",
       "    </tr>\n",
       "    <tr>\n",
       "      <th>178</th>\n",
       "      <td>1.075379</td>\n",
       "      <td>2.611514</td>\n",
       "    </tr>\n",
       "    <tr>\n",
       "      <th>179</th>\n",
       "      <td>0.559673</td>\n",
       "      <td>3.366675</td>\n",
       "    </tr>\n",
       "    <tr>\n",
       "      <th>180</th>\n",
       "      <td>0.747945</td>\n",
       "      <td>2.053162</td>\n",
       "    </tr>\n",
       "    <tr>\n",
       "      <th>181</th>\n",
       "      <td>-2.927040</td>\n",
       "      <td>-0.621391</td>\n",
       "    </tr>\n",
       "    <tr>\n",
       "      <th>182</th>\n",
       "      <td>0.134816</td>\n",
       "      <td>0.727113</td>\n",
       "    </tr>\n",
       "    <tr>\n",
       "      <th>183</th>\n",
       "      <td>0.015388</td>\n",
       "      <td>2.829295</td>\n",
       "    </tr>\n",
       "    <tr>\n",
       "      <th>184</th>\n",
       "      <td>0.742623</td>\n",
       "      <td>2.058462</td>\n",
       "    </tr>\n",
       "    <tr>\n",
       "      <th>185</th>\n",
       "      <td>-0.229863</td>\n",
       "      <td>1.139025</td>\n",
       "    </tr>\n",
       "    <tr>\n",
       "      <th>186</th>\n",
       "      <td>-1.033777</td>\n",
       "      <td>-0.642099</td>\n",
       "    </tr>\n",
       "    <tr>\n",
       "      <th>187</th>\n",
       "      <td>0.428791</td>\n",
       "      <td>0.762164</td>\n",
       "    </tr>\n",
       "    <tr>\n",
       "      <th>188</th>\n",
       "      <td>-0.596019</td>\n",
       "      <td>2.079460</td>\n",
       "    </tr>\n",
       "    <tr>\n",
       "      <th>189</th>\n",
       "      <td>1.819033</td>\n",
       "      <td>1.434940</td>\n",
       "    </tr>\n",
       "    <tr>\n",
       "      <th>190</th>\n",
       "      <td>0.254380</td>\n",
       "      <td>1.494345</td>\n",
       "    </tr>\n",
       "    <tr>\n",
       "      <th>191</th>\n",
       "      <td>2.276169</td>\n",
       "      <td>0.408099</td>\n",
       "    </tr>\n",
       "    <tr>\n",
       "      <th>192</th>\n",
       "      <td>-0.076959</td>\n",
       "      <td>-1.321194</td>\n",
       "    </tr>\n",
       "    <tr>\n",
       "      <th>193</th>\n",
       "      <td>0.496929</td>\n",
       "      <td>-0.174779</td>\n",
       "    </tr>\n",
       "    <tr>\n",
       "      <th>194</th>\n",
       "      <td>0.723700</td>\n",
       "      <td>1.561495</td>\n",
       "    </tr>\n",
       "    <tr>\n",
       "      <th>195</th>\n",
       "      <td>1.097657</td>\n",
       "      <td>2.438591</td>\n",
       "    </tr>\n",
       "    <tr>\n",
       "      <th>196</th>\n",
       "      <td>0.460952</td>\n",
       "      <td>2.506192</td>\n",
       "    </tr>\n",
       "    <tr>\n",
       "      <th>197</th>\n",
       "      <td>0.458422</td>\n",
       "      <td>1.522599</td>\n",
       "    </tr>\n",
       "    <tr>\n",
       "      <th>198</th>\n",
       "      <td>1.411305</td>\n",
       "      <td>1.632619</td>\n",
       "    </tr>\n",
       "    <tr>\n",
       "      <th>199</th>\n",
       "      <td>-1.533196</td>\n",
       "      <td>2.016695</td>\n",
       "    </tr>\n",
       "  </tbody>\n",
       "</table>\n",
       "<p>200 rows × 2 columns</p>\n",
       "</div>"
      ],
      "text/plain": [
       "            x         y\n",
       "0    1.086599  0.232294\n",
       "1   -0.443143 -0.354076\n",
       "2    0.652826  1.165967\n",
       "3   -0.903281  0.170521\n",
       "4   -1.148413  2.050707\n",
       "5   -0.176674  2.375160\n",
       "6    0.845552  1.879006\n",
       "7   -0.962104  0.340105\n",
       "8    0.038327  0.011257\n",
       "9   -0.704808 -0.132214\n",
       "10  -0.265136  0.426827\n",
       "11   1.327651  3.319972\n",
       "12  -0.044100  0.249657\n",
       "13   0.451112  0.740770\n",
       "14   0.596272  1.360725\n",
       "15  -0.137805  1.041698\n",
       "16   1.168201  2.713771\n",
       "17  -1.319453 -0.503621\n",
       "18   0.461970  2.389124\n",
       "19  -0.334954  1.328563\n",
       "20  -0.649478  1.537904\n",
       "21   0.310419  1.523426\n",
       "22   0.710832  0.943226\n",
       "23  -0.823799  1.775166\n",
       "24   0.992667  1.022176\n",
       "25   0.568753  0.557493\n",
       "26  -0.301274  1.079018\n",
       "27  -1.733951  0.567187\n",
       "28   0.952436  1.852690\n",
       "29  -1.174882  0.873883\n",
       "..        ...       ...\n",
       "170  0.563523  2.138955\n",
       "171  1.033686  4.141070\n",
       "172  0.292181  1.408222\n",
       "173 -2.301801 -0.042128\n",
       "174  0.104059  0.542621\n",
       "175  0.588103  0.567352\n",
       "176 -1.073328 -0.120820\n",
       "177  1.853767  0.099758\n",
       "178  1.075379  2.611514\n",
       "179  0.559673  3.366675\n",
       "180  0.747945  2.053162\n",
       "181 -2.927040 -0.621391\n",
       "182  0.134816  0.727113\n",
       "183  0.015388  2.829295\n",
       "184  0.742623  2.058462\n",
       "185 -0.229863  1.139025\n",
       "186 -1.033777 -0.642099\n",
       "187  0.428791  0.762164\n",
       "188 -0.596019  2.079460\n",
       "189  1.819033  1.434940\n",
       "190  0.254380  1.494345\n",
       "191  2.276169  0.408099\n",
       "192 -0.076959 -1.321194\n",
       "193  0.496929 -0.174779\n",
       "194  0.723700  1.561495\n",
       "195  1.097657  2.438591\n",
       "196  0.460952  2.506192\n",
       "197  0.458422  1.522599\n",
       "198  1.411305  1.632619\n",
       "199 -1.533196  2.016695\n",
       "\n",
       "[200 rows x 2 columns]"
      ]
     },
     "execution_count": 22,
     "metadata": {},
     "output_type": "execute_result"
    }
   ],
   "source": [
    "mean, cov = [0, 1], [(1, .5), (.5, 1)]\n",
    "data = np.random.multivariate_normal(mean, cov, 200)\n",
    "df = pd.DataFrame(data, columns=[\"x\", \"y\"])\n",
    "df"
   ]
  },
  {
   "cell_type": "code",
   "execution_count": 23,
   "metadata": {
    "collapsed": false,
    "slideshow": {
     "slide_type": "slide"
    }
   },
   "outputs": [
    {
     "data": {
      "image/png": "[encoded data removed]",
      "text/plain": [
       "<matplotlib.figure.Figure at 0x7fa7de619940>"
      ]
     },
     "metadata": {},
     "output_type": "display_data"
    }
   ],
   "source": [
    "sns.jointplot(x=\"x\", y=\"y\", data=df, kind=\"kde\");"
   ]
  },
  {
   "cell_type": "markdown",
   "metadata": {
    "slideshow": {
     "slide_type": "slide"
    }
   },
   "source": [
    "### All pairwise combinations"
   ]
  },
  {
   "cell_type": "code",
   "execution_count": 24,
   "metadata": {
    "collapsed": false,
    "slideshow": {
     "slide_type": "fragment"
    }
   },
   "outputs": [
    {
     "data": {
      "image/png": "[encoded data removed]",
      "text/plain": [
       "<matplotlib.figure.Figure at 0x7fa7de4a0780>"
      ]
     },
     "metadata": {},
     "output_type": "display_data"
    }
   ],
   "source": [
    "iris = sns.load_dataset(\"iris\")\n",
    "sns.pairplot(iris);"
   ]
  },
  {
   "cell_type": "markdown",
   "metadata": {
    "slideshow": {
     "slide_type": "slide"
    }
   },
   "source": [
    "## Seaborn: Regressions"
   ]
  },
  {
   "cell_type": "code",
   "execution_count": 25,
   "metadata": {
    "collapsed": true,
    "slideshow": {
     "slide_type": "fragment"
    }
   },
   "outputs": [],
   "source": [
    "tips = sns.load_dataset(\"tips\")"
   ]
  },
  {
   "cell_type": "code",
   "execution_count": 26,
   "metadata": {
    "collapsed": false,
    "slideshow": {
     "slide_type": "fragment"
    }
   },
   "outputs": [
    {
     "data": {
      "text/html": [
       "<div>\n",
       "<table border=\"1\" class=\"dataframe\">\n",
       "  <thead>\n",
       "    <tr style=\"text-align: right;\">\n",
       "      <th></th>\n",
       "      <th>total_bill</th>\n",
       "      <th>tip</th>\n",
       "      <th>sex</th>\n",
       "      <th>smoker</th>\n",
       "      <th>day</th>\n",
       "      <th>time</th>\n",
       "      <th>size</th>\n",
       "    </tr>\n",
       "  </thead>\n",
       "  <tbody>\n",
       "    <tr>\n",
       "      <th>0</th>\n",
       "      <td>16.99</td>\n",
       "      <td>1.01</td>\n",
       "      <td>Female</td>\n",
       "      <td>No</td>\n",
       "      <td>Sun</td>\n",
       "      <td>Dinner</td>\n",
       "      <td>2</td>\n",
       "    </tr>\n",
       "    <tr>\n",
       "      <th>1</th>\n",
       "      <td>10.34</td>\n",
       "      <td>1.66</td>\n",
       "      <td>Male</td>\n",
       "      <td>No</td>\n",
       "      <td>Sun</td>\n",
       "      <td>Dinner</td>\n",
       "      <td>3</td>\n",
       "    </tr>\n",
       "    <tr>\n",
       "      <th>2</th>\n",
       "      <td>21.01</td>\n",
       "      <td>3.50</td>\n",
       "      <td>Male</td>\n",
       "      <td>No</td>\n",
       "      <td>Sun</td>\n",
       "      <td>Dinner</td>\n",
       "      <td>3</td>\n",
       "    </tr>\n",
       "    <tr>\n",
       "      <th>3</th>\n",
       "      <td>23.68</td>\n",
       "      <td>3.31</td>\n",
       "      <td>Male</td>\n",
       "      <td>No</td>\n",
       "      <td>Sun</td>\n",
       "      <td>Dinner</td>\n",
       "      <td>2</td>\n",
       "    </tr>\n",
       "    <tr>\n",
       "      <th>4</th>\n",
       "      <td>24.59</td>\n",
       "      <td>3.61</td>\n",
       "      <td>Female</td>\n",
       "      <td>No</td>\n",
       "      <td>Sun</td>\n",
       "      <td>Dinner</td>\n",
       "      <td>4</td>\n",
       "    </tr>\n",
       "  </tbody>\n",
       "</table>\n",
       "</div>"
      ],
      "text/plain": [
       "   total_bill   tip     sex smoker  day    time  size\n",
       "0       16.99  1.01  Female     No  Sun  Dinner     2\n",
       "1       10.34  1.66    Male     No  Sun  Dinner     3\n",
       "2       21.01  3.50    Male     No  Sun  Dinner     3\n",
       "3       23.68  3.31    Male     No  Sun  Dinner     2\n",
       "4       24.59  3.61  Female     No  Sun  Dinner     4"
      ]
     },
     "execution_count": 26,
     "metadata": {},
     "output_type": "execute_result"
    }
   ],
   "source": [
    "tips.head()"
   ]
  },
  {
   "cell_type": "code",
   "execution_count": 27,
   "metadata": {
    "collapsed": false,
    "slideshow": {
     "slide_type": "slide"
    }
   },
   "outputs": [
    {
     "data": {
      "image/png": "[encoded data removed]",
      "text/plain": [
       "<matplotlib.figure.Figure at 0x7fa7de0b0f28>"
      ]
     },
     "metadata": {},
     "output_type": "display_data"
    }
   ],
   "source": [
    "sns.lmplot(x=\"total_bill\", y=\"tip\", hue=\"smoker\", data=tips);"
   ]
  },
  {
   "cell_type": "code",
   "execution_count": 28,
   "metadata": {
    "collapsed": false,
    "slideshow": {
     "slide_type": "slide"
    }
   },
   "outputs": [
    {
     "data": {
      "image/png": "[encoded data removed]",
      "text/plain": [
       "<matplotlib.figure.Figure at 0x7fa7de0ca518>"
      ]
     },
     "metadata": {},
     "output_type": "display_data"
    }
   ],
   "source": [
    "sns.lmplot(x=\"total_bill\", y=\"tip\", col=\"day\", data=tips,\n",
    "           col_wrap=2, size=3);"
   ]
  },
  {
   "cell_type": "code",
   "execution_count": 29,
   "metadata": {
    "collapsed": false,
    "slideshow": {
     "slide_type": "slide"
    }
   },
   "outputs": [
    {
     "data": {
      "image/png": "[encoded data removed]",
      "text/plain": [
       "<matplotlib.figure.Figure at 0x7fa7ddfdb1d0>"
      ]
     },
     "metadata": {},
     "output_type": "display_data"
    }
   ],
   "source": [
    "sns.factorplot(x=\"time\", y=\"total_bill\", hue=\"smoker\",\n",
    "               col=\"day\", data=tips, kind=\"box\", size=4, aspect=.5);"
   ]
  },
  {
   "cell_type": "markdown",
   "metadata": {
    "slideshow": {
     "slide_type": "slide"
    }
   },
   "source": [
    "## Level 2: \"The Kaggle top scorer\"\n",
    "\n",
    "<img src=\"semi-pro.png\">"
   ]
  },
  {
   "cell_type": "markdown",
   "metadata": {
    "slideshow": {
     "slide_type": "slide"
    }
   },
   "source": [
    "## Lots of machine learning and stats libraries\n",
    "\n",
    "* SciPy: comprehensive library of numerical routines like optimizers, integrators, FFT.\n",
    "* scikit-learn: **The** ML library out there\n",
    "* statsmodels: Frequentist statistics\n",
    "* SymPy: Symbolic Math\n",
    "* PyMC3: Probabilistic programming in Python"
   ]
  },
  {
   "cell_type": "markdown",
   "metadata": {
    "slideshow": {
     "slide_type": "slide"
    }
   },
   "source": [
    "## scikit-learn\n",
    "\n",
    "Taken from http://scikit-learn.org/stable/modules/generated/sklearn.svm.SVC.html"
   ]
  },
  {
   "cell_type": "code",
   "execution_count": 30,
   "metadata": {
    "collapsed": false,
    "slideshow": {
     "slide_type": "fragment"
    }
   },
   "outputs": [
    {
     "data": {
      "text/plain": [
       "SVC(C=1.0, cache_size=200, class_weight=None, coef0=0.0, degree=3, gamma=0.0,\n",
       "  kernel='rbf', max_iter=-1, probability=False, random_state=None,\n",
       "  shrinking=True, tol=0.001, verbose=False)"
      ]
     },
     "execution_count": 30,
     "metadata": {},
     "output_type": "execute_result"
    }
   ],
   "source": [
    "from sklearn import svm\n",
    "X = [[0, 0], [1, 1]]\n",
    "y = [0, 1]\n",
    "clf = svm.SVC()\n",
    "clf.fit(X, y)"
   ]
  },
  {
   "cell_type": "code",
   "execution_count": 31,
   "metadata": {
    "collapsed": false
   },
   "outputs": [
    {
     "data": {
      "text/plain": [
       "array([0])"
      ]
     },
     "execution_count": 31,
     "metadata": {},
     "output_type": "execute_result"
    }
   ],
   "source": [
    "clf.predict([[0, .5]])"
   ]
  },
  {
   "cell_type": "markdown",
   "metadata": {
    "slideshow": {
     "slide_type": "slide"
    }
   },
   "source": [
    "### Advanced example: Grid Search with Cross-Validation to find hyper parameters\n",
    "\n",
    "Taken from http://scikit-learn.org/stable/auto_examples/grid_search_digits.html and http://scikit-learn.org/stable/auto_examples/datasets/plot_digits_last_image.html"
   ]
  },
  {
   "cell_type": "code",
   "execution_count": 32,
   "metadata": {
    "collapsed": false,
    "slideshow": {
     "slide_type": "slide"
    }
   },
   "outputs": [],
   "source": [
    "from sklearn import datasets\n",
    "from sklearn.cross_validation import train_test_split\n",
    "from sklearn.grid_search import GridSearchCV\n",
    "from sklearn.metrics import confusion_matrix\n",
    "from sklearn.svm import SVC\n",
    "\n",
    "digits = datasets.load_digits()"
   ]
  },
  {
   "cell_type": "code",
   "execution_count": 33,
   "metadata": {
    "collapsed": false,
    "slideshow": {
     "slide_type": "slide"
    }
   },
   "outputs": [
    {
     "data": {
      "image/png": "[encoded data removed]",
      "text/plain": [
       "<matplotlib.figure.Figure at 0x7fa7de274f98>"
      ]
     },
     "metadata": {},
     "output_type": "display_data"
    }
   ],
   "source": [
    "import matplotlib.pyplot as plt\n",
    "#Display the first digit\n",
    "plt.figure(1, figsize=(3, 3))\n",
    "plt.imshow(digits.images[-1], cmap=plt.cm.gray_r, interpolation='nearest')\n",
    "plt.grid('off')"
   ]
  },
  {
   "cell_type": "code",
   "execution_count": 34,
   "metadata": {
    "collapsed": true,
    "slideshow": {
     "slide_type": "slide"
    }
   },
   "outputs": [],
   "source": [
    "n_samples = len(digits.images)\n",
    "X = digits.images.reshape((n_samples, -1))\n",
    "y = digits.target\n",
    "\n",
    "# Split the dataset in two equal parts\n",
    "X_train, X_test, y_train, y_test = train_test_split(\n",
    "    X, y, test_size=0.5, random_state=0)"
   ]
  },
  {
   "cell_type": "code",
   "execution_count": 35,
   "metadata": {
    "collapsed": false,
    "slideshow": {
     "slide_type": "slide"
    }
   },
   "outputs": [
    {
     "data": {
      "text/plain": [
       "GridSearchCV(cv=5, error_score='raise',\n",
       "       estimator=SVC(C=1, cache_size=200, class_weight=None, coef0=0.0, degree=3, gamma=0.0,\n",
       "  kernel='rbf', max_iter=-1, probability=False, random_state=None,\n",
       "  shrinking=True, tol=0.001, verbose=False),\n",
       "       fit_params={}, iid=True, loss_func=None, n_jobs=1,\n",
       "       param_grid=[{'C': [1, 10, 100, 1000], 'kernel': ['rbf'], 'gamma': [0.001, 0.0001]}, {'C': [1, 10, 100, 1000], 'kernel': ['linear']}],\n",
       "       pre_dispatch='2*n_jobs', refit=True, score_func=None, scoring=None,\n",
       "       verbose=0)"
      ]
     },
     "execution_count": 35,
     "metadata": {},
     "output_type": "execute_result"
    }
   ],
   "source": [
    "# Set the parameters by cross-validation\n",
    "tuned_parameters = [{'kernel': ['rbf'], 'gamma': [1e-3, 1e-4],\n",
    "                     'C': [1, 10, 100, 1000]},\n",
    "                    {'kernel': ['linear'], 'C': [1, 10, 100, 1000]}]\n",
    "\n",
    "clf = GridSearchCV(SVC(C=1), tuned_parameters, cv=5)\n",
    "clf.fit(X_train, y_train)"
   ]
  },
  {
   "cell_type": "code",
   "execution_count": 36,
   "metadata": {
    "collapsed": false,
    "slideshow": {
     "slide_type": "slide"
    }
   },
   "outputs": [
    {
     "name": "stdout",
     "output_type": "stream",
     "text": [
      "{'C': 10, 'gamma': 0.001, 'kernel': 'rbf'}\n"
     ]
    }
   ],
   "source": [
    "print(clf.best_params_)"
   ]
  },
  {
   "cell_type": "code",
   "execution_count": 37,
   "metadata": {
    "collapsed": false,
    "slideshow": {
     "slide_type": "slide"
    }
   },
   "outputs": [
    {
     "data": {
      "image/png": "[encoded data removed]",
      "text/plain": [
       "<matplotlib.figure.Figure at 0x7fa7de2d6ba8>"
      ]
     },
     "metadata": {},
     "output_type": "display_data"
    }
   ],
   "source": [
    "y_true, y_pred = y_test, clf.predict(X_test)\n",
    "ax = sns.heatmap(confusion_matrix(y_true, y_pred))\n",
    "ax.set(xlabel='true label', ylabel='predicted label');"
   ]
  },
  {
   "cell_type": "markdown",
   "metadata": {
    "slideshow": {
     "slide_type": "slide"
    }
   },
   "source": [
    "## Level 3: \"Lord of Speed\"\n",
    "\n",
    "<img src=\"pro.png\">"
   ]
  },
  {
   "cell_type": "markdown",
   "metadata": {
    "slideshow": {
     "slide_type": "slide"
    }
   },
   "source": [
    "## Python is slow!\n",
    "\n",
    "* The interpreted language is indeed quite slow (just like matlab and R are slow)\n",
    "* Vectorize computations (i.e. the matlab way): leads to unreadable code.\n",
    "\n",
    "## Great tools to generate C-code\n",
    "\n",
    "* Cython: Write Python-like syntax that can be translated to fast C-code and called from Python.\n",
    "* Numba: Directly write Python and auto-translate to LLVM.\n",
    "* Theano: Write numerical expressions in a NumPy-like syntax to build up compute-graph that can be compiled.\n",
    "* PyCUDA: GPU programming."
   ]
  },
  {
   "cell_type": "markdown",
   "metadata": {
    "slideshow": {
     "slide_type": "slide"
    }
   },
   "source": [
    "## Comparing Python, Cython and Numba\n",
    "\n",
    "Taken from https://jakevdp.github.io/blog/2013/06/15/numba-vs-cython-take-2/"
   ]
  },
  {
   "cell_type": "code",
   "execution_count": 38,
   "metadata": {
    "collapsed": true,
    "slideshow": {
     "slide_type": "slide"
    }
   },
   "outputs": [],
   "source": [
    "import numpy as np\n",
    "X = np.random.random((1000, 3))"
   ]
  },
  {
   "cell_type": "code",
   "execution_count": 39,
   "metadata": {
    "collapsed": false,
    "slideshow": {
     "slide_type": "slide"
    }
   },
   "outputs": [
    {
     "name": "stdout",
     "output_type": "stream",
     "text": [
      "1 loops, best of 3: 6.34 s per loop\n"
     ]
    }
   ],
   "source": [
    "def pairwise_python(X):\n",
    "    M = X.shape[0]\n",
    "    N = X.shape[1]\n",
    "    D = np.empty((M, M), dtype=np.float)\n",
    "    for i in range(M):\n",
    "        for j in range(M):\n",
    "            d = 0.0\n",
    "            for k in range(N):\n",
    "                tmp = X[i, k] - X[j, k]\n",
    "                d += tmp * tmp\n",
    "            D[i, j] = np.sqrt(d)\n",
    "    return D\n",
    "%timeit pairwise_python(X)"
   ]
  },
  {
   "cell_type": "markdown",
   "metadata": {
    "slideshow": {
     "slide_type": "slide"
    }
   },
   "source": [
    "## Cython"
   ]
  },
  {
   "cell_type": "code",
   "execution_count": 40,
   "metadata": {
    "collapsed": false,
    "slideshow": {
     "slide_type": "fragment"
    }
   },
   "outputs": [],
   "source": [
    "%load_ext cython"
   ]
  },
  {
   "cell_type": "code",
   "execution_count": 41,
   "metadata": {
    "collapsed": false,
    "slideshow": {
     "slide_type": "fragment"
    }
   },
   "outputs": [],
   "source": [
    "%%cython\n",
    "import numpy as np\n",
    "cimport cython\n",
    "from libc.math cimport sqrt\n",
    "\n",
    "@cython.boundscheck(False)\n",
    "@cython.wraparound(False)\n",
    "def pairwise_cython(double[:, ::1] X):\n",
    "    cdef int M = X.shape[0]\n",
    "    cdef int N = X.shape[1]\n",
    "    cdef double tmp, d\n",
    "    cdef double[:, ::1] D = np.empty((M, M), dtype=np.float64)\n",
    "    for i in range(M):\n",
    "        for j in range(M):\n",
    "            d = 0.0\n",
    "            for k in range(N):\n",
    "                tmp = X[i, k] - X[j, k]\n",
    "                d += tmp * tmp\n",
    "            D[i, j] = sqrt(d)\n",
    "    return np.asarray(D)"
   ]
  },
  {
   "cell_type": "code",
   "execution_count": 42,
   "metadata": {
    "collapsed": false,
    "slideshow": {
     "slide_type": "slide"
    }
   },
   "outputs": [
    {
     "name": "stdout",
     "output_type": "stream",
     "text": [
      "100 loops, best of 3: 7.11 ms per loop\n"
     ]
    }
   ],
   "source": [
    "%timeit pairwise_cython(X)"
   ]
  },
  {
   "cell_type": "markdown",
   "metadata": {
    "slideshow": {
     "slide_type": "slide"
    }
   },
   "source": [
    "## Numba"
   ]
  },
  {
   "cell_type": "code",
   "execution_count": 43,
   "metadata": {
    "collapsed": false,
    "slideshow": {
     "slide_type": "fragment"
    }
   },
   "outputs": [
    {
     "name": "stdout",
     "output_type": "stream",
     "text": [
      "100 loops, best of 3: 7.31 ms per loop\n"
     ]
    }
   ],
   "source": [
    "from numba.decorators import jit\n",
    "\n",
    "pairwise_numba = jit(pairwise_python)\n",
    "\n",
    "# Run once to compile before timing\n",
    "pairwise_numba(X)\n",
    "\n",
    "%timeit pairwise_numba(X)"
   ]
  },
  {
   "cell_type": "markdown",
   "metadata": {
    "slideshow": {
     "slide_type": "slide"
    }
   },
   "source": [
    "# Level 4: \"High Priest of Big Data\"\n",
    "\n",
    "<img src=\"master.png\">"
   ]
  },
  {
   "cell_type": "markdown",
   "metadata": {
    "slideshow": {
     "slide_type": "slide"
    }
   },
   "source": [
    "# Lots of things happening!\n",
    "\n",
    "## Big Data\n",
    "* [Blaze](http://blaze.pydata.org/en/latest/) + [Dask](http://dask.pydata.org/en/latest/)\n",
    "* [Ibis](https://github.com/cloudera/ibis)\n",
    "* [PySpark](https://spark.apache.org/docs/0.9.0/python-programming-guide.html)\n",
    "* [bcolz](https://github.com/Blosc/bcolz)\n",
    "\n",
    "## Interactive data visualization\n",
    "* [Bokeh](http://bokeh.pydata.org/en/latest/)\n",
    "* [Plotly](https://plot.ly)\n",
    "* [pyxley](https://github.com/stitchfix/pyxley)"
   ]
  },
  {
   "cell_type": "markdown",
   "metadata": {
    "slideshow": {
     "slide_type": "slide"
    }
   },
   "source": [
    "## Work interactively on Big Data with Dask\n",
    "\n",
    "Taken from https://jakevdp.github.io/blog/2015/08/14/out-of-core-dataframes-in-python/"
   ]
  },
  {
   "cell_type": "code",
   "execution_count": 44,
   "metadata": {
    "collapsed": false,
    "slideshow": {
     "slide_type": "slide"
    }
   },
   "outputs": [
    {
     "name": "stdout",
     "output_type": "stream",
     "text": [
      "-rw-rw-r-- 1 wiecki wiecki 774M Sep  8 14:43 POIWorld.csv\r\n"
     ]
    }
   ],
   "source": [
    "!ls -lahL POIWorld.csv"
   ]
  },
  {
   "cell_type": "code",
   "execution_count": 45,
   "metadata": {
    "collapsed": false,
    "slideshow": {
     "slide_type": "slide"
    }
   },
   "outputs": [
    {
     "data": {
      "text/plain": [
       "dd.DataFrame<read-csv-POIWorld.csv-74f130b10caf7d8ca68886970e302ba2, divisions=(None, None, None, ..., None, None)>"
      ]
     },
     "execution_count": 45,
     "metadata": {},
     "output_type": "execute_result"
    }
   ],
   "source": [
    "from dask import dataframe as dd\n",
    "columns = [\"name\", \"amenity\", \"Longitude\", \"Latitude\"]\n",
    "data = dd.read_csv('POIWorld.csv', usecols=columns)\n",
    "data"
   ]
  },
  {
   "cell_type": "code",
   "execution_count": 46,
   "metadata": {
    "collapsed": true,
    "slideshow": {
     "slide_type": "slide"
    }
   },
   "outputs": [],
   "source": [
    "with_name = data[data.name.notnull()]"
   ]
  },
  {
   "cell_type": "code",
   "execution_count": 47,
   "metadata": {
    "collapsed": true,
    "slideshow": {
     "slide_type": "slide"
    }
   },
   "outputs": [],
   "source": [
    "is_starbucks = with_name.name.str.contains('[Ss]tarbucks')\n",
    "is_dunkin = with_name.name.str.contains('[Dd]unkin')\n",
    "\n",
    "starbucks = with_name[is_starbucks]\n",
    "dunkin = with_name[is_dunkin]"
   ]
  },
  {
   "cell_type": "code",
   "execution_count": 48,
   "metadata": {
    "collapsed": true,
    "slideshow": {
     "slide_type": "skip"
    }
   },
   "outputs": [],
   "source": [
    "from dask.diagnostics import ProgressBar"
   ]
  },
  {
   "cell_type": "code",
   "execution_count": 49,
   "metadata": {
    "collapsed": false,
    "slideshow": {
     "slide_type": "slide"
    }
   },
   "outputs": [
    {
     "name": "stdout",
     "output_type": "stream",
     "text": [
      "[########################################] | 100% Completed |  1min  5.8s\n"
     ]
    }
   ],
   "source": [
    "with ProgressBar():\n",
    "    starbucks_count, dunkin_count = dd.compute(starbucks.name.count(), dunkin.name.count())"
   ]
  },
  {
   "cell_type": "code",
   "execution_count": 50,
   "metadata": {
    "collapsed": false
   },
   "outputs": [
    {
     "data": {
      "text/plain": [
       "(5416, 1320)"
      ]
     },
     "execution_count": 50,
     "metadata": {},
     "output_type": "execute_result"
    }
   ],
   "source": [
    "starbucks_count, dunkin_count"
   ]
  },
  {
   "cell_type": "code",
   "execution_count": 51,
   "metadata": {
    "collapsed": true,
    "slideshow": {
     "slide_type": "slide"
    }
   },
   "outputs": [],
   "source": [
    "locs = dd.compute(starbucks.Longitude,\n",
    "                  starbucks.Latitude,\n",
    "                  dunkin.Longitude,\n",
    "                  dunkin.Latitude)\n",
    "\n",
    "# extract arrays of values fro the series:\n",
    "lon_s, lat_s, lon_d, lat_d = [loc.values for loc in locs]"
   ]
  },
  {
   "cell_type": "code",
   "execution_count": 52,
   "metadata": {
    "collapsed": false,
    "slideshow": {
     "slide_type": "slide"
    }
   },
   "outputs": [
    {
     "data": {
      "image/png": "[encoded data removed]",
      "text/plain": [
       "<matplotlib.figure.Figure at 0x7fa7a9b15a90>"
      ]
     },
     "metadata": {},
     "output_type": "display_data"
    }
   ],
   "source": [
    "import matplotlib.pyplot as plt\n",
    "from mpl_toolkits.basemap import Basemap\n",
    "\n",
    "def draw_USA():\n",
    "    \"\"\"initialize a basemap centered on the continental USA\"\"\"\n",
    "    plt.figure(figsize=(14, 10))\n",
    "    return Basemap(projection='lcc', resolution='l',\n",
    "                   llcrnrlon=-119, urcrnrlon=-64,\n",
    "                   llcrnrlat=22, urcrnrlat=49,\n",
    "                   lat_1=33, lat_2=45, lon_0=-95,\n",
    "                   area_thresh=10000)\n",
    "\n",
    "m = draw_USA()\n",
    "    \n",
    "# Draw map background\n",
    "m.fillcontinents(color='white', lake_color='#eeeeee')\n",
    "m.drawstates(color='lightgray')\n",
    "m.drawcoastlines(color='lightgray')\n",
    "m.drawcountries(color='lightgray')\n",
    "m.drawmapboundary(fill_color='#eeeeee')\n",
    "\n",
    "# Plot the values in Starbucks Green and Dunkin Donuts Orange\n",
    "style = dict(s=5, marker='o', alpha=0.5, zorder=2)\n",
    "m.scatter(lon_s, lat_s, latlon=True,\n",
    "          label=\"Starbucks\", color='#00592D', **style)\n",
    "m.scatter(lon_d, lat_d, latlon=True,\n",
    "          label=\"Dunkin' Donuts\", color='#FC772A', **style)\n",
    "plt.legend(loc='lower left', frameon=False);"
   ]
  },
  {
   "cell_type": "markdown",
   "metadata": {
    "slideshow": {
     "slide_type": "slide"
    }
   },
   "source": [
    "## Interactive data visualization with Bokeh"
   ]
  },
  {
   "cell_type": "code",
   "execution_count": 55,
   "metadata": {
    "collapsed": false,
    "slideshow": {
     "slide_type": "skip"
    }
   },
   "outputs": [
    {
     "data": {
      "text/html": [
       "    \n",
       "        <link rel=\"stylesheet\" href=\"http://cdn.pydata.org/bokeh/release/bokeh-0.9.3.min.css\" type=\"text/css\" />\n",
       "        <script type=\"text/javascript\" src=\"http://cdn.pydata.org/bokeh/release/bokeh-0.9.3.min.js\"></script>\n",
       "        <script type=\"text/javascript\">\n",
       "            Bokeh.set_log_level(\"info\");\n",
       "        </script>\n",
       "    <div>\n",
       "        <a href=\"http://bokeh.pydata.org\" target=\"_blank\" class=\"bk-logo bk-logo-small bk-logo-notebook\"></a>\n",
       "        <span>BokehJS successfully loaded.</span>\n",
       "    </div>"
      ]
     },
     "metadata": {},
     "output_type": "display_data"
    }
   ],
   "source": [
    "from bokeh.io import output_notebook\n",
    "from bokeh.resources import CDN\n",
    "from bokeh.plotting import figure, show\n",
    "output_notebook(resources=CDN)\n",
    "\n",
    "from __future__ import print_function\n",
    "\n",
    "from math import pi\n",
    "\n",
    "from bokeh.browserlib import view\n",
    "from bokeh.document import Document\n",
    "from bokeh.embed import file_html\n",
    "from bokeh.models.glyphs import Circle, Text\n",
    "from bokeh.models import (\n",
    "    BasicTicker, ColumnDataSource, Grid, GridPlot, LinearAxis,\n",
    "    DataRange1d, PanTool, Plot, WheelZoomTool\n",
    ")\n",
    "from bokeh.resources import INLINE\n",
    "from bokeh.sampledata.iris import flowers\n",
    "from bokeh.plotting import show\n",
    "\n",
    "colormap = {'setosa': 'red', 'versicolor': 'green', 'virginica': 'blue'}\n",
    "\n",
    "flowers['color'] = flowers['species'].map(lambda x: colormap[x])\n",
    "\n",
    "\n",
    "source = ColumnDataSource(\n",
    "    data=dict(\n",
    "        petal_length=flowers['petal_length'],\n",
    "        petal_width=flowers['petal_width'],\n",
    "        sepal_length=flowers['sepal_length'],\n",
    "        sepal_width=flowers['sepal_width'],\n",
    "        color=flowers['color']\n",
    "    )\n",
    ")\n",
    "\n",
    "text_source = ColumnDataSource(\n",
    "    data=dict(xcenter=[125], ycenter=[135])\n",
    ")\n",
    "\n",
    "xdr = DataRange1d()\n",
    "ydr = DataRange1d()\n",
    "\n",
    "def make_plot(xname, yname, xax=False, yax=False, text=None):\n",
    "    plot = Plot(\n",
    "        x_range=xdr, y_range=ydr, background_fill=\"#efe8e2\",\n",
    "        border_fill='white', title=\"\", min_border=2, h_symmetry=False, v_symmetry=False,\n",
    "        plot_width=150, plot_height=150)\n",
    "\n",
    "    circle = Circle(x=xname, y=yname, fill_color=\"color\", fill_alpha=0.2, size=4, line_color=\"color\")\n",
    "    r = plot.add_glyph(source, circle)\n",
    "\n",
    "    xdr.renderers.append(r)\n",
    "    ydr.renderers.append(r)\n",
    "\n",
    "    xticker = BasicTicker()\n",
    "    if xax:\n",
    "        xaxis = LinearAxis()\n",
    "        plot.add_layout(xaxis, 'below')\n",
    "        xticker = xaxis.ticker\n",
    "    plot.add_layout(Grid(dimension=0, ticker=xticker))\n",
    "\n",
    "    yticker = BasicTicker()\n",
    "    if yax:\n",
    "        yaxis = LinearAxis()\n",
    "        plot.add_layout(yaxis, 'left')\n",
    "        yticker = yaxis.ticker\n",
    "    plot.add_layout(Grid(dimension=1, ticker=yticker))\n",
    "\n",
    "    plot.add_tools(PanTool(), WheelZoomTool())\n",
    "\n",
    "    if text:\n",
    "        text = \" \".join(text.split('_'))\n",
    "        text = Text(\n",
    "            x={'field':'xcenter', 'units':'screen'},\n",
    "            y={'field':'ycenter', 'units':'screen'},\n",
    "            text=[text], angle=pi/4, text_font_style=\"bold\", text_baseline=\"top\",\n",
    "            text_color=\"#ffaaaa\", text_alpha=0.7, text_align=\"center\", text_font_size=\"28pt\"\n",
    "        )\n",
    "        plot.add_glyph(text_source, text)\n",
    "\n",
    "    return plot\n",
    "\n",
    "xattrs = [\"petal_length\", \"petal_width\", \"sepal_width\", \"sepal_length\"]\n",
    "yattrs = list(reversed(xattrs))\n",
    "plots = []\n",
    "\n",
    "for y in yattrs:\n",
    "    row = []\n",
    "    for x in xattrs:\n",
    "        xax = (y == yattrs[-1])\n",
    "        yax = (x == xattrs[0])\n",
    "        text = x if (x==y) else None\n",
    "        plot = make_plot(x, y, xax, yax, text)\n",
    "        row.append(plot)\n",
    "    plots.append(row)\n",
    "\n",
    "grid = GridPlot(children=plots, title=\"iris_splom\")\n"
   ]
  },
  {
   "cell_type": "code",
   "execution_count": 56,
   "metadata": {
    "collapsed": false,
    "slideshow": {
     "slide_type": "fragment"
    }
   },
   "outputs": [
    {
     "data": {
      "text/html": [
       "<script type=\"text/javascript\">\n",
       "        Bokeh.$(function() {\n",
       "        var all_models = [{\"id\": \"fc28b94a-09c4-4548-a329-238f1cbc4082\", \"attributes\": {\"glyph\": {\"id\": \"08d3a944-9cc1-49c4-a7b1-b4f6df4115eb\", \"type\": \"Circle\"}, \"id\": \"fc28b94a-09c4-4548-a329-238f1cbc4082\", \"nonselection_glyph\": null, \"data_source\": {\"id\": \"180ecab9-aad1-4ecd-86dd-707521237e53\", \"type\": \"ColumnDataSource\"}, \"doc\": null, \"selection_glyph\": null, \"tags\": []}, \"type\": \"GlyphRenderer\"}, {\"id\": \"40317b1b-e78e-47fb-a072-9701cac82a04\", \"attributes\": {\"id\": \"40317b1b-e78e-47fb-a072-9701cac82a04\", \"plot\": {\"id\": \"b7f438ce-7135-4047-b283-ab00bfffd361\", \"type\": \"Plot\"}, \"doc\": null, \"formatter\": {\"id\": \"1354511c-28bd-4a04-9693-146e63daa05a\", \"type\": \"BasicTickFormatter\"}, \"ticker\": {\"id\": \"f03b9102-268e-414e-bf9f-59ed5605de80\", \"type\": \"BasicTicker\"}, \"tags\": []}, \"type\": \"LinearAxis\"}, {\"id\": \"9640b2d9-ef60-49f3-b9cc-4e373990ad4f\", \"attributes\": {\"id\": \"9640b2d9-ef60-49f3-b9cc-4e373990ad4f\", \"doc\": null, \"geometries\": [], \"tags\": []}, \"type\": \"ToolEvents\"}, {\"id\": \"d33fbecc-9a6b-4719-ae93-0631e76b14c0\", \"attributes\": {\"angle\": {\"value\": 0.7853981633974483, \"units\": \"rad\"}, \"doc\": null, \"text_alpha\": {\"value\": 0.7}, \"y\": {\"units\": \"screen\", \"field\": \"ycenter\"}, \"x\": {\"units\": \"screen\", \"field\": \"xcenter\"}, \"text_font_size\": {\"value\": \"28pt\"}, \"id\": \"d33fbecc-9a6b-4719-ae93-0631e76b14c0\", \"text_color\": {\"value\": \"#ffaaaa\"}, \"text_align\": \"center\", \"text\": {\"value\": \"petal length\"}, \"text_baseline\": \"top\", \"tags\": [], \"text_font_style\": \"bold\"}, \"type\": \"Text\"}, {\"id\": \"eb407229-f45a-4903-8308-fbde08c25544\", \"attributes\": {\"id\": \"eb407229-f45a-4903-8308-fbde08c25544\", \"plot\": {\"id\": \"d53207ec-03f0-47b5-a846-1307bda36b41\", \"type\": \"Plot\"}, \"doc\": null, \"dimensions\": [\"width\", \"height\"], \"tags\": []}, \"type\": \"PanTool\"}, {\"id\": \"cf8433a0-4983-410a-846c-dee111309a9e\", \"attributes\": {\"id\": \"cf8433a0-4983-410a-846c-dee111309a9e\", \"plot\": {\"id\": \"7433c4ce-47a4-4ab7-a560-53ca3d217d3f\", \"type\": \"Plot\"}, \"doc\": null, \"formatter\": {\"id\": \"bcf9db8e-5832-45d5-acc3-974ff0a5198f\", \"type\": \"BasicTickFormatter\"}, \"ticker\": {\"id\": \"9831a7a5-d1fa-4a81-9bae-304eaf3284a2\", \"type\": \"BasicTicker\"}, \"tags\": []}, \"type\": \"LinearAxis\"}, {\"id\": \"931b3598-5371-47c2-a194-9a13d7d25005\", \"attributes\": {\"id\": \"931b3598-5371-47c2-a194-9a13d7d25005\", \"plot\": {\"id\": \"d53207ec-03f0-47b5-a846-1307bda36b41\", \"type\": \"Plot\"}, \"doc\": null, \"formatter\": {\"id\": \"a8db6d5e-8a7e-49df-914a-c98db48318b9\", \"type\": \"BasicTickFormatter\"}, \"ticker\": {\"id\": \"311f6aae-e1ef-478c-a05a-39c6028db679\", \"type\": \"BasicTicker\"}, \"tags\": []}, \"type\": \"LinearAxis\"}, {\"id\": \"0e3d10e1-0ace-4215-92f9-c5d9a47b78f9\", \"attributes\": {\"id\": \"0e3d10e1-0ace-4215-92f9-c5d9a47b78f9\", \"mantissas\": [2, 5, 10], \"doc\": null, \"tags\": []}, \"type\": \"BasicTicker\"}, {\"id\": \"74e3f1d1-c9f3-4553-8338-a254ff9a2b8d\", \"attributes\": {\"id\": \"74e3f1d1-c9f3-4553-8338-a254ff9a2b8d\", \"dimension\": 0, \"doc\": null, \"plot\": {\"id\": \"d38402f6-ff0e-451a-a27f-2a3921c34773\", \"type\": \"Plot\"}, \"ticker\": {\"id\": \"f4fae22d-ee03-4f04-871c-503261608f98\", \"type\": \"BasicTicker\"}, \"tags\": []}, \"type\": \"Grid\"}, {\"id\": \"9831a7a5-d1fa-4a81-9bae-304eaf3284a2\", \"attributes\": {\"id\": \"9831a7a5-d1fa-4a81-9bae-304eaf3284a2\", \"mantissas\": [2, 5, 10], \"doc\": null, \"tags\": []}, \"type\": \"BasicTicker\"}, {\"id\": \"f6b4e7c3-513b-49ab-aac8-887392f5199d\", \"attributes\": {\"id\": \"f6b4e7c3-513b-49ab-aac8-887392f5199d\", \"doc\": null, \"size\": {\"value\": 4, \"units\": \"screen\"}, \"line_color\": {\"field\": \"color\"}, \"x\": {\"field\": \"petal_width\"}, \"y\": {\"field\": \"sepal_length\"}, \"fill_alpha\": {\"value\": 0.2}, \"fill_color\": {\"field\": \"color\"}, \"tags\": []}, \"type\": \"Circle\"}, {\"id\": \"a8db6d5e-8a7e-49df-914a-c98db48318b9\", \"attributes\": {\"id\": \"a8db6d5e-8a7e-49df-914a-c98db48318b9\", \"doc\": null, \"tags\": []}, \"type\": \"BasicTickFormatter\"}, {\"id\": \"8a7bedf6-5011-4460-924a-eaf6ca42d4de\", \"attributes\": {\"id\": \"8a7bedf6-5011-4460-924a-eaf6ca42d4de\", \"dimension\": 0, \"doc\": null, \"plot\": {\"id\": \"8fa8c051-ae3e-47a4-852f-5eb0104ca2c5\", \"type\": \"Plot\"}, \"ticker\": {\"id\": \"0e3d10e1-0ace-4215-92f9-c5d9a47b78f9\", \"type\": \"BasicTicker\"}, \"tags\": []}, \"type\": \"Grid\"}, {\"id\": \"180535d1-716c-42fb-8e9a-52fef6b9a8f5\", \"attributes\": {\"id\": \"180535d1-716c-42fb-8e9a-52fef6b9a8f5\", \"doc\": null, \"size\": {\"value\": 4, \"units\": \"screen\"}, \"line_color\": {\"field\": \"color\"}, \"x\": {\"field\": \"sepal_length\"}, \"y\": {\"field\": \"petal_width\"}, \"fill_alpha\": {\"value\": 0.2}, \"fill_color\": {\"field\": \"color\"}, \"tags\": []}, \"type\": \"Circle\"}, {\"id\": \"311f6aae-e1ef-478c-a05a-39c6028db679\", \"attributes\": {\"id\": \"311f6aae-e1ef-478c-a05a-39c6028db679\", \"mantissas\": [2, 5, 10], \"doc\": null, \"tags\": []}, \"type\": \"BasicTicker\"}, {\"id\": \"66f5c0c9-1daa-4009-a672-33cae2334388\", \"attributes\": {\"id\": \"66f5c0c9-1daa-4009-a672-33cae2334388\", \"doc\": null, \"geometries\": [], \"tags\": []}, \"type\": \"ToolEvents\"}, {\"id\": \"63eefd3c-f154-4ab4-ac9c-2ece081978ab\", \"attributes\": {\"id\": \"63eefd3c-f154-4ab4-ac9c-2ece081978ab\", \"doc\": null, \"geometries\": [], \"tags\": []}, \"type\": \"ToolEvents\"}, {\"id\": \"9b79e9ce-ceb6-4332-bbb1-88358810b0ef\", \"attributes\": {\"id\": \"9b79e9ce-ceb6-4332-bbb1-88358810b0ef\", \"plot\": {\"id\": \"a27f9cdc-14cd-42f4-8d83-eca16b18c50a\", \"type\": \"Plot\"}, \"doc\": null, \"dimensions\": [\"width\", \"height\"], \"tags\": []}, \"type\": \"PanTool\"}, {\"id\": \"4f72c3cb-a510-416f-90c3-02f1e1292fee\", \"attributes\": {\"id\": \"4f72c3cb-a510-416f-90c3-02f1e1292fee\", \"dimension\": 1, \"doc\": null, \"plot\": {\"id\": \"8fa8c051-ae3e-47a4-852f-5eb0104ca2c5\", \"type\": \"Plot\"}, \"ticker\": {\"id\": \"87a51118-8042-4028-9137-8f8e1d4b1000\", \"type\": \"BasicTicker\"}, \"tags\": []}, \"type\": \"Grid\"}, {\"id\": \"a53d9771-5394-44da-b64f-e0d155a2b360\", \"attributes\": {\"id\": \"a53d9771-5394-44da-b64f-e0d155a2b360\", \"mantissas\": [2, 5, 10], \"doc\": null, \"tags\": []}, \"type\": \"BasicTicker\"}, {\"id\": \"bf561a16-894f-4dfb-8c06-353d0a40c0d3\", \"attributes\": {\"id\": \"bf561a16-894f-4dfb-8c06-353d0a40c0d3\", \"plot\": {\"id\": \"f8d22ff5-8e38-4f59-ae61-976f444e161c\", \"type\": \"Plot\"}, \"doc\": null, \"dimensions\": [\"width\", \"height\"], \"tags\": []}, \"type\": \"WheelZoomTool\"}, {\"id\": \"a27f9cdc-14cd-42f4-8d83-eca16b18c50a\", \"attributes\": {\"renderers\": [{\"id\": \"885887dc-beac-4dbe-8488-affb84dbad9a\", \"type\": \"GlyphRenderer\"}, {\"id\": \"73b94c5a-d4f6-4198-b08c-1bfbbba88246\", \"type\": \"Grid\"}, {\"id\": \"5eca74bc-d60a-4621-93ac-637e0b0e4c13\", \"type\": \"Grid\"}], \"min_border\": 2, \"above\": [], \"extra_y_ranges\": {}, \"background_fill\": \"#efe8e2\", \"id\": \"a27f9cdc-14cd-42f4-8d83-eca16b18c50a\", \"x_range\": {\"id\": \"2f21dfdd-f07e-4589-94ef-8badd17aebcd\", \"type\": \"DataRange1d\"}, \"h_symmetry\": false, \"tool_events\": {\"id\": \"66f5c0c9-1daa-4009-a672-33cae2334388\", \"type\": \"ToolEvents\"}, \"v_symmetry\": false, \"tools\": [{\"id\": \"9b79e9ce-ceb6-4332-bbb1-88358810b0ef\", \"type\": \"PanTool\"}, {\"id\": \"2353ed18-ce7e-42d8-951b-20fde3ca3fa5\", \"type\": \"WheelZoomTool\"}], \"below\": [], \"y_range\": {\"id\": \"968cc2ad-f835-4752-979b-bc538cc62538\", \"type\": \"DataRange1d\"}, \"doc\": null, \"right\": [], \"extra_x_ranges\": {}, \"title\": \"\", \"plot_width\": 150, \"plot_height\": 150, \"border_fill\": \"white\", \"left\": [], \"tags\": []}, \"type\": \"Plot\"}, {\"id\": \"3c34c553-e67e-4fe4-b197-794740924300\", \"attributes\": {\"id\": \"3c34c553-e67e-4fe4-b197-794740924300\", \"mantissas\": [2, 5, 10], \"doc\": null, \"tags\": []}, \"type\": \"BasicTicker\"}, {\"id\": \"b04b6810-5865-4bcf-961d-45ccebbd7f10\", \"attributes\": {\"id\": \"b04b6810-5865-4bcf-961d-45ccebbd7f10\", \"dimension\": 0, \"doc\": null, \"plot\": {\"id\": \"97e3e8fe-0056-49ec-acad-b0fce7510491\", \"type\": \"Plot\"}, \"ticker\": {\"id\": \"a53d9771-5394-44da-b64f-e0d155a2b360\", \"type\": \"BasicTicker\"}, \"tags\": []}, \"type\": \"Grid\"}, {\"id\": \"7433c4ce-47a4-4ab7-a560-53ca3d217d3f\", \"attributes\": {\"renderers\": [{\"id\": \"bf7772dc-3602-41b8-a41c-82e2e47013de\", \"type\": \"GlyphRenderer\"}, {\"id\": \"cf8433a0-4983-410a-846c-dee111309a9e\", \"type\": \"LinearAxis\"}, {\"id\": \"5c6987a2-b2e3-4039-9a0a-5afe819d3c35\", \"type\": \"Grid\"}, {\"id\": \"7db5ae39-3b96-4cba-8b4e-98a11aafcbd6\", \"type\": \"LinearAxis\"}, {\"id\": \"4eca8080-bd49-420a-8ca0-c5b3e9e97899\", \"type\": \"Grid\"}, {\"id\": \"0d10ba0c-f44d-4f18-a389-9e877a14c6ef\", \"type\": \"GlyphRenderer\"}], \"min_border\": 2, \"above\": [], \"extra_y_ranges\": {}, \"background_fill\": \"#efe8e2\", \"id\": \"7433c4ce-47a4-4ab7-a560-53ca3d217d3f\", \"x_range\": {\"id\": \"2f21dfdd-f07e-4589-94ef-8badd17aebcd\", \"type\": \"DataRange1d\"}, \"h_symmetry\": false, \"tool_events\": {\"id\": \"72b5cd03-1c28-4c62-a283-7a694686948b\", \"type\": \"ToolEvents\"}, \"v_symmetry\": false, \"tools\": [{\"id\": \"ba8ee5a9-5eae-4fdb-8f6a-938fe306247f\", \"type\": \"PanTool\"}, {\"id\": \"8c46a57b-8c32-4ef4-9584-7c024b4ffed0\", \"type\": \"WheelZoomTool\"}], \"below\": [{\"id\": \"cf8433a0-4983-410a-846c-dee111309a9e\", \"type\": \"LinearAxis\"}], \"y_range\": {\"id\": \"968cc2ad-f835-4752-979b-bc538cc62538\", \"type\": \"DataRange1d\"}, \"doc\": null, \"right\": [], \"extra_x_ranges\": {}, \"title\": \"\", \"plot_width\": 150, \"plot_height\": 150, \"border_fill\": \"white\", \"left\": [{\"id\": \"7db5ae39-3b96-4cba-8b4e-98a11aafcbd6\", \"type\": \"LinearAxis\"}], \"tags\": []}, \"type\": \"Plot\"}, {\"id\": \"4bce08dc-d952-492d-b9f9-66a2782e83c3\", \"attributes\": {\"id\": \"4bce08dc-d952-492d-b9f9-66a2782e83c3\", \"doc\": null, \"size\": {\"value\": 4, \"units\": \"screen\"}, \"line_color\": {\"field\": \"color\"}, \"x\": {\"field\": \"sepal_length\"}, \"y\": {\"field\": \"sepal_width\"}, \"fill_alpha\": {\"value\": 0.2}, \"fill_color\": {\"field\": \"color\"}, \"tags\": []}, \"type\": \"Circle\"}, {\"id\": \"822abc7d-e88a-499c-8903-b7f19e2f76b7\", \"attributes\": {\"id\": \"822abc7d-e88a-499c-8903-b7f19e2f76b7\", \"plot\": {\"id\": \"8fa8c051-ae3e-47a4-852f-5eb0104ca2c5\", \"type\": \"Plot\"}, \"doc\": null, \"dimensions\": [\"width\", \"height\"], \"tags\": []}, \"type\": \"PanTool\"}, {\"id\": \"5eca74bc-d60a-4621-93ac-637e0b0e4c13\", \"attributes\": {\"id\": \"5eca74bc-d60a-4621-93ac-637e0b0e4c13\", \"dimension\": 1, \"doc\": null, \"plot\": {\"id\": \"a27f9cdc-14cd-42f4-8d83-eca16b18c50a\", \"type\": \"Plot\"}, \"ticker\": {\"id\": \"52a2de20-92fe-44c6-84bc-ae269d8dc6fa\", \"type\": \"BasicTicker\"}, \"tags\": []}, \"type\": \"Grid\"}, {\"id\": \"f63f3a38-a4af-47dd-9d29-3947044a0d76\", \"attributes\": {\"id\": \"f63f3a38-a4af-47dd-9d29-3947044a0d76\", \"mantissas\": [2, 5, 10], \"doc\": null, \"tags\": []}, \"type\": \"BasicTicker\"}, {\"id\": \"95840b23-dd76-479d-95ea-b262fec7465b\", \"attributes\": {\"id\": \"95840b23-dd76-479d-95ea-b262fec7465b\", \"dimension\": 0, \"doc\": null, \"plot\": {\"id\": \"5336e983-ab6f-4b00-bf75-f5fd4805120c\", \"type\": \"Plot\"}, \"ticker\": {\"id\": \"2a1f3ae6-bd93-4a09-a788-d93a5e510dcf\", \"type\": \"BasicTicker\"}, \"tags\": []}, \"type\": \"Grid\"}, {\"id\": \"d248aca9-730d-43c5-8140-e1ca56abd30b\", \"attributes\": {\"id\": \"d248aca9-730d-43c5-8140-e1ca56abd30b\", \"mantissas\": [2, 5, 10], \"doc\": null, \"tags\": []}, \"type\": \"BasicTicker\"}, {\"id\": \"73b94c5a-d4f6-4198-b08c-1bfbbba88246\", \"attributes\": {\"id\": \"73b94c5a-d4f6-4198-b08c-1bfbbba88246\", \"dimension\": 0, \"doc\": null, \"plot\": {\"id\": \"a27f9cdc-14cd-42f4-8d83-eca16b18c50a\", \"type\": \"Plot\"}, \"ticker\": {\"id\": \"e053343f-170a-481f-ba89-9d45d4be36f8\", \"type\": \"BasicTicker\"}, \"tags\": []}, \"type\": \"Grid\"}, {\"id\": \"f7c9f8d8-32c0-4872-b3a8-eadd07aade25\", \"attributes\": {\"id\": \"f7c9f8d8-32c0-4872-b3a8-eadd07aade25\", \"plot\": {\"id\": \"8fa8c051-ae3e-47a4-852f-5eb0104ca2c5\", \"type\": \"Plot\"}, \"doc\": null, \"dimensions\": [\"width\", \"height\"], \"tags\": []}, \"type\": \"WheelZoomTool\"}, {\"id\": \"52a2de20-92fe-44c6-84bc-ae269d8dc6fa\", \"attributes\": {\"id\": \"52a2de20-92fe-44c6-84bc-ae269d8dc6fa\", \"mantissas\": [2, 5, 10], \"doc\": null, \"tags\": []}, \"type\": \"BasicTicker\"}, {\"id\": \"7db5ae39-3b96-4cba-8b4e-98a11aafcbd6\", \"attributes\": {\"id\": \"7db5ae39-3b96-4cba-8b4e-98a11aafcbd6\", \"plot\": {\"id\": \"7433c4ce-47a4-4ab7-a560-53ca3d217d3f\", \"type\": \"Plot\"}, \"doc\": null, \"formatter\": {\"id\": \"9c6e6133-276c-4ff6-84eb-13354a9c4f62\", \"type\": \"BasicTickFormatter\"}, \"ticker\": {\"id\": \"f63f3a38-a4af-47dd-9d29-3947044a0d76\", \"type\": \"BasicTicker\"}, \"tags\": []}, \"type\": \"LinearAxis\"}, {\"id\": \"a8ef6f48-a1ed-454b-a9bf-fc001691d195\", \"attributes\": {\"glyph\": {\"id\": \"90e843f7-4bd9-4bb5-9b1c-6b5dab2efbbf\", \"type\": \"Circle\"}, \"id\": \"a8ef6f48-a1ed-454b-a9bf-fc001691d195\", \"nonselection_glyph\": null, \"data_source\": {\"id\": \"180ecab9-aad1-4ecd-86dd-707521237e53\", \"type\": \"ColumnDataSource\"}, \"doc\": null, \"selection_glyph\": null, \"tags\": []}, \"type\": \"GlyphRenderer\"}, {\"id\": \"bf7772dc-3602-41b8-a41c-82e2e47013de\", \"attributes\": {\"glyph\": {\"id\": \"50cf47db-4e50-43d5-849c-8b166ee0310c\", \"type\": \"Circle\"}, \"id\": \"bf7772dc-3602-41b8-a41c-82e2e47013de\", \"nonselection_glyph\": null, \"data_source\": {\"id\": \"180ecab9-aad1-4ecd-86dd-707521237e53\", \"type\": \"ColumnDataSource\"}, \"doc\": null, \"selection_glyph\": null, \"tags\": []}, \"type\": \"GlyphRenderer\"}, {\"id\": \"180ecab9-aad1-4ecd-86dd-707521237e53\", \"attributes\": {\"column_names\": [\"sepal_width\", \"color\", \"sepal_length\", \"petal_width\", \"petal_length\"], \"selected\": {\"2d\": {\"indices\": []}, \"0d\": {\"indices\": [], \"flag\": false}, \"1d\": {\"indices\": []}}, \"doc\": null, \"data\": {\"sepal_width\": [3.5, 3.0, 3.2, 3.1, 3.6, 3.9, 3.4, 3.4, 2.9, 3.1, 3.7, 3.4, 3.0, 3.0, 4.0, 4.4, 3.9, 3.5, 3.8, 3.8, 3.4, 3.7, 3.6, 3.3, 3.4, 3.0, 3.4, 3.5, 3.4, 3.2, 3.1, 3.4, 4.1, 4.2, 3.1, 3.2, 3.5, 3.6, 3.0, 3.4, 3.5, 2.3, 3.2, 3.5, 3.8, 3.0, 3.8, 3.2, 3.7, 3.3, 3.2, 3.2, 3.1, 2.3, 2.8, 2.8, 3.3, 2.4, 2.9, 2.7, 2.0, 3.0, 2.2, 2.9, 2.9, 3.1, 3.0, 2.7, 2.2, 2.5, 3.2, 2.8, 2.5, 2.8, 2.9, 3.0, 2.8, 3.0, 2.9, 2.6, 2.4, 2.4, 2.7, 2.7, 3.0, 3.4, 3.1, 2.3, 3.0, 2.5, 2.6, 3.0, 2.6, 2.3, 2.7, 3.0, 2.9, 2.9, 2.5, 2.8, 3.3, 2.7, 3.0, 2.9, 3.0, 3.0, 2.5, 2.9, 2.5, 3.6, 3.2, 2.7, 3.0, 2.5, 2.8, 3.2, 3.0, 3.8, 2.6, 2.2, 3.2, 2.8, 2.8, 2.7, 3.3, 3.2, 2.8, 3.0, 2.8, 3.0, 2.8, 3.8, 2.8, 2.8, 2.6, 3.0, 3.4, 3.1, 3.0, 3.1, 3.1, 3.1, 2.7, 3.2, 3.3, 3.0, 2.5, 3.0, 3.4, 3.0], \"color\": [\"red\", \"red\", \"red\", \"red\", \"red\", \"red\", \"red\", \"red\", \"red\", \"red\", \"red\", \"red\", \"red\", \"red\", \"red\", \"red\", \"red\", \"red\", \"red\", \"red\", \"red\", \"red\", \"red\", \"red\", \"red\", \"red\", \"red\", \"red\", \"red\", \"red\", \"red\", \"red\", \"red\", \"red\", \"red\", \"red\", \"red\", \"red\", \"red\", \"red\", \"red\", \"red\", \"red\", \"red\", \"red\", \"red\", \"red\", \"red\", \"red\", \"red\", \"green\", \"green\", \"green\", \"green\", \"green\", \"green\", \"green\", \"green\", \"green\", \"green\", \"green\", \"green\", \"green\", \"green\", \"green\", \"green\", \"green\", \"green\", \"green\", \"green\", \"green\", \"green\", \"green\", \"green\", \"green\", \"green\", \"green\", \"green\", \"green\", \"green\", \"green\", \"green\", \"green\", \"green\", \"green\", \"green\", \"green\", \"green\", \"green\", \"green\", \"green\", \"green\", \"green\", \"green\", \"green\", \"green\", \"green\", \"green\", \"green\", \"green\", \"blue\", \"blue\", \"blue\", \"blue\", \"blue\", \"blue\", \"blue\", \"blue\", \"blue\", \"blue\", \"blue\", \"blue\", \"blue\", \"blue\", \"blue\", \"blue\", \"blue\", \"blue\", \"blue\", \"blue\", \"blue\", \"blue\", \"blue\", \"blue\", \"blue\", \"blue\", \"blue\", \"blue\", \"blue\", \"blue\", \"blue\", \"blue\", \"blue\", \"blue\", \"blue\", \"blue\", \"blue\", \"blue\", \"blue\", \"blue\", \"blue\", \"blue\", \"blue\", \"blue\", \"blue\", \"blue\", \"blue\", \"blue\", \"blue\", \"blue\"], \"sepal_length\": [5.1, 4.9, 4.7, 4.6, 5.0, 5.4, 4.6, 5.0, 4.4, 4.9, 5.4, 4.8, 4.8, 4.3, 5.8, 5.7, 5.4, 5.1, 5.7, 5.1, 5.4, 5.1, 4.6, 5.1, 4.8, 5.0, 5.0, 5.2, 5.2, 4.7, 4.8, 5.4, 5.2, 5.5, 4.9, 5.0, 5.5, 4.9, 4.4, 5.1, 5.0, 4.5, 4.4, 5.0, 5.1, 4.8, 5.1, 4.6, 5.3, 5.0, 7.0, 6.4, 6.9, 5.5, 6.5, 5.7, 6.3, 4.9, 6.6, 5.2, 5.0, 5.9, 6.0, 6.1, 5.6, 6.7, 5.6, 5.8, 6.2, 5.6, 5.9, 6.1, 6.3, 6.1, 6.4, 6.6, 6.8, 6.7, 6.0, 5.7, 5.5, 5.5, 5.8, 6.0, 5.4, 6.0, 6.7, 6.3, 5.6, 5.5, 5.5, 6.1, 5.8, 5.0, 5.6, 5.7, 5.7, 6.2, 5.1, 5.7, 6.3, 5.8, 7.1, 6.3, 6.5, 7.6, 4.9, 7.3, 6.7, 7.2, 6.5, 6.4, 6.8, 5.7, 5.8, 6.4, 6.5, 7.7, 7.7, 6.0, 6.9, 5.6, 7.7, 6.3, 6.7, 7.2, 6.2, 6.1, 6.4, 7.2, 7.4, 7.9, 6.4, 6.3, 6.1, 7.7, 6.3, 6.4, 6.0, 6.9, 6.7, 6.9, 5.8, 6.8, 6.7, 6.7, 6.3, 6.5, 6.2, 5.9], \"petal_width\": [0.2, 0.2, 0.2, 0.2, 0.2, 0.4, 0.3, 0.2, 0.2, 0.1, 0.2, 0.2, 0.1, 0.1, 0.2, 0.4, 0.4, 0.3, 0.3, 0.3, 0.2, 0.4, 0.2, 0.5, 0.2, 0.2, 0.4, 0.2, 0.2, 0.2, 0.2, 0.4, 0.1, 0.2, 0.2, 0.2, 0.2, 0.1, 0.2, 0.2, 0.3, 0.3, 0.2, 0.6, 0.4, 0.3, 0.2, 0.2, 0.2, 0.2, 1.4, 1.5, 1.5, 1.3, 1.5, 1.3, 1.6, 1.0, 1.3, 1.4, 1.0, 1.5, 1.0, 1.4, 1.3, 1.4, 1.5, 1.0, 1.5, 1.1, 1.8, 1.3, 1.5, 1.2, 1.3, 1.4, 1.4, 1.7, 1.5, 1.0, 1.1, 1.0, 1.2, 1.6, 1.5, 1.6, 1.5, 1.3, 1.3, 1.3, 1.2, 1.4, 1.2, 1.0, 1.3, 1.2, 1.3, 1.3, 1.1, 1.3, 2.5, 1.9, 2.1, 1.8, 2.2, 2.1, 1.7, 1.8, 1.8, 2.5, 2.0, 1.9, 2.1, 2.0, 2.4, 2.3, 1.8, 2.2, 2.3, 1.5, 2.3, 2.0, 2.0, 1.8, 2.1, 1.8, 1.8, 1.8, 2.1, 1.6, 1.9, 2.0, 2.2, 1.5, 1.4, 2.3, 2.4, 1.8, 1.8, 2.1, 2.4, 2.3, 1.9, 2.3, 2.5, 2.3, 1.9, 2.0, 2.3, 1.8], \"petal_length\": [1.4, 1.4, 1.3, 1.5, 1.4, 1.7, 1.4, 1.5, 1.4, 1.5, 1.5, 1.6, 1.4, 1.1, 1.2, 1.5, 1.3, 1.4, 1.7, 1.5, 1.7, 1.5, 1.0, 1.7, 1.9, 1.6, 1.6, 1.5, 1.4, 1.6, 1.6, 1.5, 1.5, 1.4, 1.5, 1.2, 1.3, 1.4, 1.3, 1.5, 1.3, 1.3, 1.3, 1.6, 1.9, 1.4, 1.6, 1.4, 1.5, 1.4, 4.7, 4.5, 4.9, 4.0, 4.6, 4.5, 4.7, 3.3, 4.6, 3.9, 3.5, 4.2, 4.0, 4.7, 3.6, 4.4, 4.5, 4.1, 4.5, 3.9, 4.8, 4.0, 4.9, 4.7, 4.3, 4.4, 4.8, 5.0, 4.5, 3.5, 3.8, 3.7, 3.9, 5.1, 4.5, 4.5, 4.7, 4.4, 4.1, 4.0, 4.4, 4.6, 4.0, 3.3, 4.2, 4.2, 4.2, 4.3, 3.0, 4.1, 6.0, 5.1, 5.9, 5.6, 5.8, 6.6, 4.5, 6.3, 5.8, 6.1, 5.1, 5.3, 5.5, 5.0, 5.1, 5.3, 5.5, 6.7, 6.9, 5.0, 5.7, 4.9, 6.7, 4.9, 5.7, 6.0, 4.8, 4.9, 5.6, 5.8, 6.1, 6.4, 5.6, 5.1, 5.6, 6.1, 5.6, 5.5, 4.8, 5.4, 5.6, 5.1, 5.1, 5.9, 5.7, 5.2, 5.0, 5.2, 5.4, 5.1]}, \"callback\": null, \"id\": \"180ecab9-aad1-4ecd-86dd-707521237e53\", \"tags\": []}, \"type\": \"ColumnDataSource\"}, {\"id\": \"5b8baf42-ccee-4505-bcd3-1a61197e49f3\", \"attributes\": {\"id\": \"5b8baf42-ccee-4505-bcd3-1a61197e49f3\", \"mantissas\": [2, 5, 10], \"doc\": null, \"tags\": []}, \"type\": \"BasicTicker\"}, {\"id\": \"bdeb9bdc-7513-467e-ad22-ae6893cc8e45\", \"attributes\": {\"id\": \"bdeb9bdc-7513-467e-ad22-ae6893cc8e45\", \"doc\": null, \"geometries\": [], \"tags\": []}, \"type\": \"ToolEvents\"}, {\"id\": \"31593026-a123-43e8-962c-9554913d59f8\", \"attributes\": {\"glyph\": {\"id\": \"61f4aca9-4277-4f7f-b390-1583b4e0498f\", \"type\": \"Circle\"}, \"id\": \"31593026-a123-43e8-962c-9554913d59f8\", \"nonselection_glyph\": null, \"data_source\": {\"id\": \"180ecab9-aad1-4ecd-86dd-707521237e53\", \"type\": \"ColumnDataSource\"}, \"doc\": null, \"selection_glyph\": null, \"tags\": []}, \"type\": \"GlyphRenderer\"}, {\"id\": \"97e3e8fe-0056-49ec-acad-b0fce7510491\", \"attributes\": {\"renderers\": [{\"id\": \"fc28b94a-09c4-4548-a329-238f1cbc4082\", \"type\": \"GlyphRenderer\"}, {\"id\": \"b04b6810-5865-4bcf-961d-45ccebbd7f10\", \"type\": \"Grid\"}, {\"id\": \"153b4eb5-eb41-407a-b236-93b9e43ea025\", \"type\": \"Grid\"}, {\"id\": \"41a12f53-093d-4b2a-bf72-2bdd7c8b3ad0\", \"type\": \"GlyphRenderer\"}], \"min_border\": 2, \"above\": [], \"extra_y_ranges\": {}, \"background_fill\": \"#efe8e2\", \"id\": \"97e3e8fe-0056-49ec-acad-b0fce7510491\", \"x_range\": {\"id\": \"2f21dfdd-f07e-4589-94ef-8badd17aebcd\", \"type\": \"DataRange1d\"}, \"h_symmetry\": false, \"tool_events\": {\"id\": \"0fb6d8e6-0c51-4a5c-b186-1bada12e3d58\", \"type\": \"ToolEvents\"}, \"v_symmetry\": false, \"tools\": [{\"id\": \"2225d149-5106-4824-8220-908d5f1180f7\", \"type\": \"PanTool\"}, {\"id\": \"34a6ef45-77c6-4879-b623-dfccdcb4c5bd\", \"type\": \"WheelZoomTool\"}], \"below\": [], \"y_range\": {\"id\": \"968cc2ad-f835-4752-979b-bc538cc62538\", \"type\": \"DataRange1d\"}, \"doc\": null, \"right\": [], \"extra_x_ranges\": {}, \"title\": \"\", \"plot_width\": 150, \"plot_height\": 150, \"border_fill\": \"white\", \"left\": [], \"tags\": []}, \"type\": \"Plot\"}, {\"id\": \"e689f0ea-9d7d-4657-be34-6834f1d468b8\", \"attributes\": {\"renderers\": [{\"id\": \"558c6b77-bf58-4f11-9a14-927107a729b6\", \"type\": \"GlyphRenderer\"}, {\"id\": \"0f27f0f4-d7a5-4453-bf6a-8de431a749cb\", \"type\": \"Grid\"}, {\"id\": \"08251a48-cf8d-4179-b7ec-300dc82dd6e2\", \"type\": \"LinearAxis\"}, {\"id\": \"09b4e412-e734-407e-834c-f52cbae53610\", \"type\": \"Grid\"}], \"min_border\": 2, \"above\": [], \"extra_y_ranges\": {}, \"background_fill\": \"#efe8e2\", \"id\": \"e689f0ea-9d7d-4657-be34-6834f1d468b8\", \"x_range\": {\"id\": \"2f21dfdd-f07e-4589-94ef-8badd17aebcd\", \"type\": \"DataRange1d\"}, \"h_symmetry\": false, \"tool_events\": {\"id\": \"4e6c4350-ac3f-4089-b222-1ebcc84f7a2a\", \"type\": \"ToolEvents\"}, \"v_symmetry\": false, \"tools\": [{\"id\": \"4dd2cca9-703c-4095-b4d1-f52cf9662751\", \"type\": \"PanTool\"}, {\"id\": \"15d00e47-24eb-448c-b69f-d61ec827c259\", \"type\": \"WheelZoomTool\"}], \"below\": [], \"y_range\": {\"id\": \"968cc2ad-f835-4752-979b-bc538cc62538\", \"type\": \"DataRange1d\"}, \"doc\": null, \"right\": [], \"extra_x_ranges\": {}, \"title\": \"\", \"plot_width\": 150, \"plot_height\": 150, \"border_fill\": \"white\", \"left\": [{\"id\": \"08251a48-cf8d-4179-b7ec-300dc82dd6e2\", \"type\": \"LinearAxis\"}], \"tags\": []}, \"type\": \"Plot\"}, {\"id\": \"2353ed18-ce7e-42d8-951b-20fde3ca3fa5\", \"attributes\": {\"id\": \"2353ed18-ce7e-42d8-951b-20fde3ca3fa5\", \"plot\": {\"id\": \"a27f9cdc-14cd-42f4-8d83-eca16b18c50a\", \"type\": \"Plot\"}, \"doc\": null, \"dimensions\": [\"width\", \"height\"], \"tags\": []}, \"type\": \"WheelZoomTool\"}, {\"id\": \"72b5cd03-1c28-4c62-a283-7a694686948b\", \"attributes\": {\"id\": \"72b5cd03-1c28-4c62-a283-7a694686948b\", \"doc\": null, \"geometries\": [], \"tags\": []}, \"type\": \"ToolEvents\"}, {\"id\": \"4e6c4350-ac3f-4089-b222-1ebcc84f7a2a\", \"attributes\": {\"id\": \"4e6c4350-ac3f-4089-b222-1ebcc84f7a2a\", \"doc\": null, \"geometries\": [], \"tags\": []}, \"type\": \"ToolEvents\"}, {\"id\": \"8b00a6c7-7146-4574-8fc2-7e01519b4d94\", \"attributes\": {\"id\": \"8b00a6c7-7146-4574-8fc2-7e01519b4d94\", \"doc\": null, \"geometries\": [], \"tags\": []}, \"type\": \"ToolEvents\"}, {\"id\": \"5c6987a2-b2e3-4039-9a0a-5afe819d3c35\", \"attributes\": {\"id\": \"5c6987a2-b2e3-4039-9a0a-5afe819d3c35\", \"dimension\": 0, \"doc\": null, \"plot\": {\"id\": \"7433c4ce-47a4-4ab7-a560-53ca3d217d3f\", \"type\": \"Plot\"}, \"ticker\": {\"id\": \"9831a7a5-d1fa-4a81-9bae-304eaf3284a2\", \"type\": \"BasicTicker\"}, \"tags\": []}, \"type\": \"Grid\"}, {\"id\": \"08d3a944-9cc1-49c4-a7b1-b4f6df4115eb\", \"attributes\": {\"id\": \"08d3a944-9cc1-49c4-a7b1-b4f6df4115eb\", \"doc\": null, \"size\": {\"value\": 4, \"units\": \"screen\"}, \"line_color\": {\"field\": \"color\"}, \"x\": {\"field\": \"sepal_width\"}, \"y\": {\"field\": \"sepal_width\"}, \"fill_alpha\": {\"value\": 0.2}, \"fill_color\": {\"field\": \"color\"}, \"tags\": []}, \"type\": \"Circle\"}, {\"id\": \"c44c6baf-d2bc-47e5-afeb-986b82c575ed\", \"attributes\": {\"id\": \"c44c6baf-d2bc-47e5-afeb-986b82c575ed\", \"doc\": null, \"tags\": []}, \"type\": \"BasicTickFormatter\"}, {\"id\": \"41a0d68f-e8e5-46ca-94db-cfac6a13da80\", \"attributes\": {\"id\": \"41a0d68f-e8e5-46ca-94db-cfac6a13da80\", \"dimension\": 1, \"doc\": null, \"plot\": {\"id\": \"f8d22ff5-8e38-4f59-ae61-976f444e161c\", \"type\": \"Plot\"}, \"ticker\": {\"id\": \"d248aca9-730d-43c5-8140-e1ca56abd30b\", \"type\": \"BasicTicker\"}, \"tags\": []}, \"type\": \"Grid\"}, {\"id\": \"5f1e661f-4a3a-4199-9ea8-2e82207bc9cd\", \"attributes\": {\"id\": \"5f1e661f-4a3a-4199-9ea8-2e82207bc9cd\", \"mantissas\": [2, 5, 10], \"doc\": null, \"tags\": []}, \"type\": \"BasicTicker\"}, {\"id\": \"0fb6d8e6-0c51-4a5c-b186-1bada12e3d58\", \"attributes\": {\"id\": \"0fb6d8e6-0c51-4a5c-b186-1bada12e3d58\", \"doc\": null, \"geometries\": [], \"tags\": []}, \"type\": \"ToolEvents\"}, {\"id\": \"bcf9db8e-5832-45d5-acc3-974ff0a5198f\", \"attributes\": {\"id\": \"bcf9db8e-5832-45d5-acc3-974ff0a5198f\", \"doc\": null, \"tags\": []}, \"type\": \"BasicTickFormatter\"}, {\"id\": \"558c6b77-bf58-4f11-9a14-927107a729b6\", \"attributes\": {\"glyph\": {\"id\": \"34d50fac-527b-4d2e-8c95-ad28d24f9991\", \"type\": \"Circle\"}, \"id\": \"558c6b77-bf58-4f11-9a14-927107a729b6\", \"nonselection_glyph\": null, \"data_source\": {\"id\": \"180ecab9-aad1-4ecd-86dd-707521237e53\", \"type\": \"ColumnDataSource\"}, \"doc\": null, \"selection_glyph\": null, \"tags\": []}, \"type\": \"GlyphRenderer\"}, {\"id\": \"0517ba52-db25-45b0-b20d-ecd7b325e5cc\", \"attributes\": {\"id\": \"0517ba52-db25-45b0-b20d-ecd7b325e5cc\", \"dimension\": 1, \"doc\": null, \"plot\": {\"id\": \"3eddff6c-5c32-4054-a405-c1c7b8ba2851\", \"type\": \"Plot\"}, \"ticker\": {\"id\": \"437ce123-4bd0-4e95-81c0-110569c4bc22\", \"type\": \"BasicTicker\"}, \"tags\": []}, \"type\": \"Grid\"}, {\"id\": \"50857430-6faf-4713-bc9b-5baddf014a3d\", \"attributes\": {\"id\": \"50857430-6faf-4713-bc9b-5baddf014a3d\", \"mantissas\": [2, 5, 10], \"doc\": null, \"tags\": []}, \"type\": \"BasicTicker\"}, {\"id\": \"703b5ddf-6a04-4db4-92e9-43ae8e272f7f\", \"attributes\": {\"id\": \"703b5ddf-6a04-4db4-92e9-43ae8e272f7f\", \"mantissas\": [2, 5, 10], \"doc\": null, \"tags\": []}, \"type\": \"BasicTicker\"}, {\"id\": \"9c6e6133-276c-4ff6-84eb-13354a9c4f62\", \"attributes\": {\"id\": \"9c6e6133-276c-4ff6-84eb-13354a9c4f62\", \"doc\": null, \"tags\": []}, \"type\": \"BasicTickFormatter\"}, {\"id\": \"513f01fb-1fa5-458c-ad26-37b7db3bc5e6\", \"attributes\": {\"id\": \"513f01fb-1fa5-458c-ad26-37b7db3bc5e6\", \"doc\": null, \"size\": {\"value\": 4, \"units\": \"screen\"}, \"line_color\": {\"field\": \"color\"}, \"x\": {\"field\": \"petal_width\"}, \"y\": {\"field\": \"sepal_width\"}, \"fill_alpha\": {\"value\": 0.2}, \"fill_color\": {\"field\": \"color\"}, \"tags\": []}, \"type\": \"Circle\"}, {\"id\": \"f4fae22d-ee03-4f04-871c-503261608f98\", \"attributes\": {\"id\": \"f4fae22d-ee03-4f04-871c-503261608f98\", \"mantissas\": [2, 5, 10], \"doc\": null, \"tags\": []}, \"type\": \"BasicTicker\"}, {\"id\": \"4eca8080-bd49-420a-8ca0-c5b3e9e97899\", \"attributes\": {\"id\": \"4eca8080-bd49-420a-8ca0-c5b3e9e97899\", \"dimension\": 1, \"doc\": null, \"plot\": {\"id\": \"7433c4ce-47a4-4ab7-a560-53ca3d217d3f\", \"type\": \"Plot\"}, \"ticker\": {\"id\": \"f63f3a38-a4af-47dd-9d29-3947044a0d76\", \"type\": \"BasicTicker\"}, \"tags\": []}, \"type\": \"Grid\"}, {\"id\": \"6e14bcf8-79b3-4c9c-a5a1-340762a54875\", \"attributes\": {\"id\": \"6e14bcf8-79b3-4c9c-a5a1-340762a54875\", \"doc\": null, \"size\": {\"value\": 4, \"units\": \"screen\"}, \"line_color\": {\"field\": \"color\"}, \"x\": {\"field\": \"sepal_width\"}, \"y\": {\"field\": \"petal_length\"}, \"fill_alpha\": {\"value\": 0.2}, \"fill_color\": {\"field\": \"color\"}, \"tags\": []}, \"type\": \"Circle\"}, {\"id\": \"19b6048a-4b77-4019-8c6a-e4fea7a4a753\", \"attributes\": {\"id\": \"19b6048a-4b77-4019-8c6a-e4fea7a4a753\", \"dimension\": 0, \"doc\": null, \"plot\": {\"id\": \"668ef729-b704-411f-b906-43d25ccd789c\", \"type\": \"Plot\"}, \"ticker\": {\"id\": \"7d994a5e-b801-4c7a-a406-e43312cd618b\", \"type\": \"BasicTicker\"}, \"tags\": []}, \"type\": \"Grid\"}, {\"id\": \"a91e13af-e79f-48aa-bb78-7456614c5543\", \"attributes\": {\"angle\": {\"value\": 0.7853981633974483, \"units\": \"rad\"}, \"doc\": null, \"text_alpha\": {\"value\": 0.7}, \"y\": {\"units\": \"screen\", \"field\": \"ycenter\"}, \"x\": {\"units\": \"screen\", \"field\": \"xcenter\"}, \"text_font_size\": {\"value\": \"28pt\"}, \"id\": \"a91e13af-e79f-48aa-bb78-7456614c5543\", \"text_color\": {\"value\": \"#ffaaaa\"}, \"text_align\": \"center\", \"text\": {\"value\": \"sepal width\"}, \"text_baseline\": \"top\", \"tags\": [], \"text_font_style\": \"bold\"}, \"type\": \"Text\"}, {\"id\": \"236f2bbf-95d2-4794-b95e-591c4831828f\", \"attributes\": {\"id\": \"236f2bbf-95d2-4794-b95e-591c4831828f\", \"doc\": null, \"geometries\": [], \"tags\": []}, \"type\": \"ToolEvents\"}, {\"id\": \"153b4eb5-eb41-407a-b236-93b9e43ea025\", \"attributes\": {\"id\": \"153b4eb5-eb41-407a-b236-93b9e43ea025\", \"dimension\": 1, \"doc\": null, \"plot\": {\"id\": \"97e3e8fe-0056-49ec-acad-b0fce7510491\", \"type\": \"Plot\"}, \"ticker\": {\"id\": \"703b5ddf-6a04-4db4-92e9-43ae8e272f7f\", \"type\": \"BasicTicker\"}, \"tags\": []}, \"type\": \"Grid\"}, {\"id\": \"dd74423c-568e-48d8-bfdd-68799e479ff7\", \"attributes\": {\"id\": \"dd74423c-568e-48d8-bfdd-68799e479ff7\", \"plot\": {\"id\": \"f8d22ff5-8e38-4f59-ae61-976f444e161c\", \"type\": \"Plot\"}, \"doc\": null, \"formatter\": {\"id\": \"011ca95f-3f11-467c-9fef-46e0f878afe2\", \"type\": \"BasicTickFormatter\"}, \"ticker\": {\"id\": \"3c34c553-e67e-4fe4-b197-794740924300\", \"type\": \"BasicTicker\"}, \"tags\": []}, \"type\": \"LinearAxis\"}, {\"id\": \"fba52f66-ff00-4d33-96fa-7c86b2748f8b\", \"attributes\": {\"glyph\": {\"id\": \"f6b4e7c3-513b-49ab-aac8-887392f5199d\", \"type\": \"Circle\"}, \"id\": \"fba52f66-ff00-4d33-96fa-7c86b2748f8b\", \"nonselection_glyph\": null, \"data_source\": {\"id\": \"180ecab9-aad1-4ecd-86dd-707521237e53\", \"type\": \"ColumnDataSource\"}, \"doc\": null, \"selection_glyph\": null, \"tags\": []}, \"type\": \"GlyphRenderer\"}, {\"id\": \"2225d149-5106-4824-8220-908d5f1180f7\", \"attributes\": {\"id\": \"2225d149-5106-4824-8220-908d5f1180f7\", \"plot\": {\"id\": \"97e3e8fe-0056-49ec-acad-b0fce7510491\", \"type\": \"Plot\"}, \"doc\": null, \"dimensions\": [\"width\", \"height\"], \"tags\": []}, \"type\": \"PanTool\"}, {\"id\": \"db3903a3-0c48-4b59-882a-98fa935e67d5\", \"attributes\": {\"id\": \"db3903a3-0c48-4b59-882a-98fa935e67d5\", \"mantissas\": [2, 5, 10], \"doc\": null, \"tags\": []}, \"type\": \"BasicTicker\"}, {\"id\": \"41e20220-cb24-4689-821b-521040d1bab6\", \"attributes\": {\"id\": \"41e20220-cb24-4689-821b-521040d1bab6\", \"plot\": {\"id\": \"d38402f6-ff0e-451a-a27f-2a3921c34773\", \"type\": \"Plot\"}, \"doc\": null, \"dimensions\": [\"width\", \"height\"], \"tags\": []}, \"type\": \"PanTool\"}, {\"id\": \"ba8ee5a9-5eae-4fdb-8f6a-938fe306247f\", \"attributes\": {\"id\": \"ba8ee5a9-5eae-4fdb-8f6a-938fe306247f\", \"plot\": {\"id\": \"7433c4ce-47a4-4ab7-a560-53ca3d217d3f\", \"type\": \"Plot\"}, \"doc\": null, \"dimensions\": [\"width\", \"height\"], \"tags\": []}, \"type\": \"PanTool\"}, {\"id\": \"22e1c299-16cd-4cd1-ae34-31594d69add4\", \"attributes\": {\"glyph\": {\"id\": \"180535d1-716c-42fb-8e9a-52fef6b9a8f5\", \"type\": \"Circle\"}, \"id\": \"22e1c299-16cd-4cd1-ae34-31594d69add4\", \"nonselection_glyph\": null, \"data_source\": {\"id\": \"180ecab9-aad1-4ecd-86dd-707521237e53\", \"type\": \"ColumnDataSource\"}, \"doc\": null, \"selection_glyph\": null, \"tags\": []}, \"type\": \"GlyphRenderer\"}, {\"id\": \"0f27f0f4-d7a5-4453-bf6a-8de431a749cb\", \"attributes\": {\"id\": \"0f27f0f4-d7a5-4453-bf6a-8de431a749cb\", \"dimension\": 0, \"doc\": null, \"plot\": {\"id\": \"e689f0ea-9d7d-4657-be34-6834f1d468b8\", \"type\": \"Plot\"}, \"ticker\": {\"id\": \"db3903a3-0c48-4b59-882a-98fa935e67d5\", \"type\": \"BasicTicker\"}, \"tags\": []}, \"type\": \"Grid\"}, {\"id\": \"f8d22ff5-8e38-4f59-ae61-976f444e161c\", \"attributes\": {\"renderers\": [{\"id\": \"31593026-a123-43e8-962c-9554913d59f8\", \"type\": \"GlyphRenderer\"}, {\"id\": \"dd74423c-568e-48d8-bfdd-68799e479ff7\", \"type\": \"LinearAxis\"}, {\"id\": \"8803ec22-01ec-4551-a8a8-aa092467a120\", \"type\": \"Grid\"}, {\"id\": \"41a0d68f-e8e5-46ca-94db-cfac6a13da80\", \"type\": \"Grid\"}], \"min_border\": 2, \"above\": [], \"extra_y_ranges\": {}, \"background_fill\": \"#efe8e2\", \"id\": \"f8d22ff5-8e38-4f59-ae61-976f444e161c\", \"x_range\": {\"id\": \"2f21dfdd-f07e-4589-94ef-8badd17aebcd\", \"type\": \"DataRange1d\"}, \"h_symmetry\": false, \"tool_events\": {\"id\": \"bdeb9bdc-7513-467e-ad22-ae6893cc8e45\", \"type\": \"ToolEvents\"}, \"v_symmetry\": false, \"tools\": [{\"id\": \"aae3cf3d-fedd-40f7-9028-43c77f325e10\", \"type\": \"PanTool\"}, {\"id\": \"bf561a16-894f-4dfb-8c06-353d0a40c0d3\", \"type\": \"WheelZoomTool\"}], \"below\": [{\"id\": \"dd74423c-568e-48d8-bfdd-68799e479ff7\", \"type\": \"LinearAxis\"}], \"y_range\": {\"id\": \"968cc2ad-f835-4752-979b-bc538cc62538\", \"type\": \"DataRange1d\"}, \"doc\": null, \"right\": [], \"extra_x_ranges\": {}, \"title\": \"\", \"plot_width\": 150, \"plot_height\": 150, \"border_fill\": \"white\", \"left\": [], \"tags\": []}, \"type\": \"Plot\"}, {\"id\": \"ddd0eba5-5f6d-48a0-b975-cb8365cb80f0\", \"attributes\": {\"id\": \"ddd0eba5-5f6d-48a0-b975-cb8365cb80f0\", \"doc\": null, \"size\": {\"value\": 4, \"units\": \"screen\"}, \"line_color\": {\"field\": \"color\"}, \"x\": {\"field\": \"sepal_length\"}, \"y\": {\"field\": \"sepal_length\"}, \"fill_alpha\": {\"value\": 0.2}, \"fill_color\": {\"field\": \"color\"}, \"tags\": []}, \"type\": \"Circle\"}, {\"id\": \"34a6ef45-77c6-4879-b623-dfccdcb4c5bd\", \"attributes\": {\"id\": \"34a6ef45-77c6-4879-b623-dfccdcb4c5bd\", \"plot\": {\"id\": \"97e3e8fe-0056-49ec-acad-b0fce7510491\", \"type\": \"Plot\"}, \"doc\": null, \"dimensions\": [\"width\", \"height\"], \"tags\": []}, \"type\": \"WheelZoomTool\"}, {\"id\": \"8c46a57b-8c32-4ef4-9584-7c024b4ffed0\", \"attributes\": {\"id\": \"8c46a57b-8c32-4ef4-9584-7c024b4ffed0\", \"plot\": {\"id\": \"7433c4ce-47a4-4ab7-a560-53ca3d217d3f\", \"type\": \"Plot\"}, \"doc\": null, \"dimensions\": [\"width\", \"height\"], \"tags\": []}, \"type\": \"WheelZoomTool\"}, {\"id\": \"4dd2cca9-703c-4095-b4d1-f52cf9662751\", \"attributes\": {\"id\": \"4dd2cca9-703c-4095-b4d1-f52cf9662751\", \"plot\": {\"id\": \"e689f0ea-9d7d-4657-be34-6834f1d468b8\", \"type\": \"Plot\"}, \"doc\": null, \"dimensions\": [\"width\", \"height\"], \"tags\": []}, \"type\": \"PanTool\"}, {\"id\": \"2a1f3ae6-bd93-4a09-a788-d93a5e510dcf\", \"attributes\": {\"id\": \"2a1f3ae6-bd93-4a09-a788-d93a5e510dcf\", \"mantissas\": [2, 5, 10], \"doc\": null, \"tags\": []}, \"type\": \"BasicTicker\"}, {\"id\": \"011ca95f-3f11-467c-9fef-46e0f878afe2\", \"attributes\": {\"id\": \"011ca95f-3f11-467c-9fef-46e0f878afe2\", \"doc\": null, \"tags\": []}, \"type\": \"BasicTickFormatter\"}, {\"id\": \"e84b3122-da22-459e-a24c-0658c5bb94d8\", \"attributes\": {\"glyph\": {\"id\": \"6e14bcf8-79b3-4c9c-a5a1-340762a54875\", \"type\": \"Circle\"}, \"id\": \"e84b3122-da22-459e-a24c-0658c5bb94d8\", \"nonselection_glyph\": null, \"data_source\": {\"id\": \"180ecab9-aad1-4ecd-86dd-707521237e53\", \"type\": \"ColumnDataSource\"}, \"doc\": null, \"selection_glyph\": null, \"tags\": []}, \"type\": \"GlyphRenderer\"}, {\"id\": \"09b4e412-e734-407e-834c-f52cbae53610\", \"attributes\": {\"id\": \"09b4e412-e734-407e-834c-f52cbae53610\", \"dimension\": 1, \"doc\": null, \"plot\": {\"id\": \"e689f0ea-9d7d-4657-be34-6834f1d468b8\", \"type\": \"Plot\"}, \"ticker\": {\"id\": \"c78c3efa-5eb7-482c-a2b0-b92b76441743\", \"type\": \"BasicTicker\"}, \"tags\": []}, \"type\": \"Grid\"}, {\"id\": \"c0ed1e52-2bf2-4129-ae15-332b1fcf576a\", \"attributes\": {\"id\": \"c0ed1e52-2bf2-4129-ae15-332b1fcf576a\", \"dimension\": 1, \"doc\": null, \"plot\": {\"id\": \"d38402f6-ff0e-451a-a27f-2a3921c34773\", \"type\": \"Plot\"}, \"ticker\": {\"id\": \"761f77d0-034d-40cb-b315-2c53794c90d6\", \"type\": \"BasicTicker\"}, \"tags\": []}, \"type\": \"Grid\"}, {\"id\": \"c78c3efa-5eb7-482c-a2b0-b92b76441743\", \"attributes\": {\"id\": \"c78c3efa-5eb7-482c-a2b0-b92b76441743\", \"mantissas\": [2, 5, 10], \"doc\": null, \"tags\": []}, \"type\": \"BasicTicker\"}, {\"id\": \"41a12f53-093d-4b2a-bf72-2bdd7c8b3ad0\", \"attributes\": {\"glyph\": {\"id\": \"a91e13af-e79f-48aa-bb78-7456614c5543\", \"type\": \"Text\"}, \"id\": \"41a12f53-093d-4b2a-bf72-2bdd7c8b3ad0\", \"nonselection_glyph\": null, \"data_source\": {\"id\": \"01dee305-ebde-4719-bd2f-24a88aba7c85\", \"type\": \"ColumnDataSource\"}, \"doc\": null, \"selection_glyph\": null, \"tags\": []}, \"type\": \"GlyphRenderer\"}, {\"id\": \"0d10ba0c-f44d-4f18-a389-9e877a14c6ef\", \"attributes\": {\"glyph\": {\"id\": \"d33fbecc-9a6b-4719-ae93-0631e76b14c0\", \"type\": \"Text\"}, \"id\": \"0d10ba0c-f44d-4f18-a389-9e877a14c6ef\", \"nonselection_glyph\": null, \"data_source\": {\"id\": \"01dee305-ebde-4719-bd2f-24a88aba7c85\", \"type\": \"ColumnDataSource\"}, \"doc\": null, \"selection_glyph\": null, \"tags\": []}, \"type\": \"GlyphRenderer\"}, {\"id\": \"15d00e47-24eb-448c-b69f-d61ec827c259\", \"attributes\": {\"id\": \"15d00e47-24eb-448c-b69f-d61ec827c259\", \"plot\": {\"id\": \"e689f0ea-9d7d-4657-be34-6834f1d468b8\", \"type\": \"Plot\"}, \"doc\": null, \"dimensions\": [\"width\", \"height\"], \"tags\": []}, \"type\": \"WheelZoomTool\"}, {\"id\": \"761f77d0-034d-40cb-b315-2c53794c90d6\", \"attributes\": {\"id\": \"761f77d0-034d-40cb-b315-2c53794c90d6\", \"mantissas\": [2, 5, 10], \"doc\": null, \"tags\": []}, \"type\": \"BasicTicker\"}, {\"id\": \"08251a48-cf8d-4179-b7ec-300dc82dd6e2\", \"attributes\": {\"id\": \"08251a48-cf8d-4179-b7ec-300dc82dd6e2\", \"plot\": {\"id\": \"e689f0ea-9d7d-4657-be34-6834f1d468b8\", \"type\": \"Plot\"}, \"doc\": null, \"formatter\": {\"id\": \"c44c6baf-d2bc-47e5-afeb-986b82c575ed\", \"type\": \"BasicTickFormatter\"}, \"ticker\": {\"id\": \"c78c3efa-5eb7-482c-a2b0-b92b76441743\", \"type\": \"BasicTicker\"}, \"tags\": []}, \"type\": \"LinearAxis\"}, {\"id\": \"5d2148b2-5380-4199-a2c1-d0080626d64b\", \"attributes\": {\"id\": \"5d2148b2-5380-4199-a2c1-d0080626d64b\", \"dimension\": 1, \"doc\": null, \"plot\": {\"id\": \"5336e983-ab6f-4b00-bf75-f5fd4805120c\", \"type\": \"Plot\"}, \"ticker\": {\"id\": \"83c98eb9-f5bd-4945-8a1d-47756f42e3d1\", \"type\": \"BasicTicker\"}, \"tags\": []}, \"type\": \"Grid\"}, {\"id\": \"8803ec22-01ec-4551-a8a8-aa092467a120\", \"attributes\": {\"id\": \"8803ec22-01ec-4551-a8a8-aa092467a120\", \"dimension\": 0, \"doc\": null, \"plot\": {\"id\": \"f8d22ff5-8e38-4f59-ae61-976f444e161c\", \"type\": \"Plot\"}, \"ticker\": {\"id\": \"3c34c553-e67e-4fe4-b197-794740924300\", \"type\": \"BasicTicker\"}, \"tags\": []}, \"type\": \"Grid\"}, {\"id\": \"61f4aca9-4277-4f7f-b390-1583b4e0498f\", \"attributes\": {\"id\": \"61f4aca9-4277-4f7f-b390-1583b4e0498f\", \"doc\": null, \"size\": {\"value\": 4, \"units\": \"screen\"}, \"line_color\": {\"field\": \"color\"}, \"x\": {\"field\": \"petal_width\"}, \"y\": {\"field\": \"petal_length\"}, \"fill_alpha\": {\"value\": 0.2}, \"fill_color\": {\"field\": \"color\"}, \"tags\": []}, \"type\": \"Circle\"}, {\"id\": \"59e6ffa7-c3d6-42e0-ba2c-0f7229d34dbe\", \"attributes\": {\"glyph\": {\"id\": \"1a117462-4ebc-4c9c-ab23-1ea679b5e60f\", \"type\": \"Circle\"}, \"id\": \"59e6ffa7-c3d6-42e0-ba2c-0f7229d34dbe\", \"nonselection_glyph\": null, \"data_source\": {\"id\": \"180ecab9-aad1-4ecd-86dd-707521237e53\", \"type\": \"ColumnDataSource\"}, \"doc\": null, \"selection_glyph\": null, \"tags\": []}, \"type\": \"GlyphRenderer\"}, {\"id\": \"3eddff6c-5c32-4054-a405-c1c7b8ba2851\", \"attributes\": {\"renderers\": [{\"id\": \"f2575798-c947-4359-8618-3551da02264e\", \"type\": \"GlyphRenderer\"}, {\"id\": \"934e3f58-aacf-43cc-9045-dd7d35088215\", \"type\": \"Grid\"}, {\"id\": \"0517ba52-db25-45b0-b20d-ecd7b325e5cc\", \"type\": \"Grid\"}, {\"id\": \"379a59b9-06ce-4384-84d2-07b98cda71fb\", \"type\": \"GlyphRenderer\"}], \"min_border\": 2, \"above\": [], \"extra_y_ranges\": {}, \"background_fill\": \"#efe8e2\", \"id\": \"3eddff6c-5c32-4054-a405-c1c7b8ba2851\", \"x_range\": {\"id\": \"2f21dfdd-f07e-4589-94ef-8badd17aebcd\", \"type\": \"DataRange1d\"}, \"h_symmetry\": false, \"tool_events\": {\"id\": \"7c20f8cc-d85e-4488-88a6-74c72fda5f14\", \"type\": \"ToolEvents\"}, \"v_symmetry\": false, \"tools\": [{\"id\": \"47826fd7-444b-41f2-81c1-3d0dd1ca9ddc\", \"type\": \"PanTool\"}, {\"id\": \"28a30f15-1c9b-4ef9-958a-5f9e4f9f9078\", \"type\": \"WheelZoomTool\"}], \"below\": [], \"y_range\": {\"id\": \"968cc2ad-f835-4752-979b-bc538cc62538\", \"type\": \"DataRange1d\"}, \"doc\": null, \"right\": [], \"extra_x_ranges\": {}, \"title\": \"\", \"plot_width\": 150, \"plot_height\": 150, \"border_fill\": \"white\", \"left\": [], \"tags\": []}, \"type\": \"Plot\"}, {\"id\": \"03a16c63-c24f-43be-bedd-4bb657d0947e\", \"attributes\": {\"glyph\": {\"id\": \"ddd0eba5-5f6d-48a0-b975-cb8365cb80f0\", \"type\": \"Circle\"}, \"id\": \"03a16c63-c24f-43be-bedd-4bb657d0947e\", \"nonselection_glyph\": null, \"data_source\": {\"id\": \"180ecab9-aad1-4ecd-86dd-707521237e53\", \"type\": \"ColumnDataSource\"}, \"doc\": null, \"selection_glyph\": null, \"tags\": []}, \"type\": \"GlyphRenderer\"}, {\"id\": \"d38402f6-ff0e-451a-a27f-2a3921c34773\", \"attributes\": {\"renderers\": [{\"id\": \"94b34fee-4bd1-41c9-9cdc-d14784d3e60a\", \"type\": \"GlyphRenderer\"}, {\"id\": \"74e3f1d1-c9f3-4553-8338-a254ff9a2b8d\", \"type\": \"Grid\"}, {\"id\": \"c0ed1e52-2bf2-4129-ae15-332b1fcf576a\", \"type\": \"Grid\"}], \"min_border\": 2, \"above\": [], \"extra_y_ranges\": {}, \"background_fill\": \"#efe8e2\", \"id\": \"d38402f6-ff0e-451a-a27f-2a3921c34773\", \"x_range\": {\"id\": \"2f21dfdd-f07e-4589-94ef-8badd17aebcd\", \"type\": \"DataRange1d\"}, \"h_symmetry\": false, \"tool_events\": {\"id\": \"8b00a6c7-7146-4574-8fc2-7e01519b4d94\", \"type\": \"ToolEvents\"}, \"v_symmetry\": false, \"tools\": [{\"id\": \"41e20220-cb24-4689-821b-521040d1bab6\", \"type\": \"PanTool\"}, {\"id\": \"9e215be6-269a-487f-b375-9f88d9e8fe72\", \"type\": \"WheelZoomTool\"}], \"below\": [], \"y_range\": {\"id\": \"968cc2ad-f835-4752-979b-bc538cc62538\", \"type\": \"DataRange1d\"}, \"doc\": null, \"right\": [], \"extra_x_ranges\": {}, \"title\": \"\", \"plot_width\": 150, \"plot_height\": 150, \"border_fill\": \"white\", \"left\": [], \"tags\": []}, \"type\": \"Plot\"}, {\"id\": \"21f6a5da-c2a4-4a1c-b056-a61bd2b9891e\", \"attributes\": {\"id\": \"21f6a5da-c2a4-4a1c-b056-a61bd2b9891e\", \"plot\": {\"id\": \"b7f438ce-7135-4047-b283-ab00bfffd361\", \"type\": \"Plot\"}, \"doc\": null, \"dimensions\": [\"width\", \"height\"], \"tags\": []}, \"type\": \"PanTool\"}, {\"id\": \"94b34fee-4bd1-41c9-9cdc-d14784d3e60a\", \"attributes\": {\"glyph\": {\"id\": \"4bce08dc-d952-492d-b9f9-66a2782e83c3\", \"type\": \"Circle\"}, \"id\": \"94b34fee-4bd1-41c9-9cdc-d14784d3e60a\", \"nonselection_glyph\": null, \"data_source\": {\"id\": \"180ecab9-aad1-4ecd-86dd-707521237e53\", \"type\": \"ColumnDataSource\"}, \"doc\": null, \"selection_glyph\": null, \"tags\": []}, \"type\": \"GlyphRenderer\"}, {\"id\": \"7d994a5e-b801-4c7a-a406-e43312cd618b\", \"attributes\": {\"id\": \"7d994a5e-b801-4c7a-a406-e43312cd618b\", \"mantissas\": [2, 5, 10], \"doc\": null, \"tags\": []}, \"type\": \"BasicTicker\"}, {\"id\": \"aae3cf3d-fedd-40f7-9028-43c77f325e10\", \"attributes\": {\"id\": \"aae3cf3d-fedd-40f7-9028-43c77f325e10\", \"plot\": {\"id\": \"f8d22ff5-8e38-4f59-ae61-976f444e161c\", \"type\": \"Plot\"}, \"doc\": null, \"dimensions\": [\"width\", \"height\"], \"tags\": []}, \"type\": \"PanTool\"}, {\"id\": \"2146c220-8cb2-4fb2-bbb2-7ce835301b9f\", \"attributes\": {\"id\": \"2146c220-8cb2-4fb2-bbb2-7ce835301b9f\", \"doc\": null, \"geometries\": [], \"tags\": []}, \"type\": \"ToolEvents\"}, {\"id\": \"5336e983-ab6f-4b00-bf75-f5fd4805120c\", \"attributes\": {\"renderers\": [{\"id\": \"0cf6b872-d2b1-44fd-8451-dd29093b53a8\", \"type\": \"GlyphRenderer\"}, {\"id\": \"95840b23-dd76-479d-95ea-b262fec7465b\", \"type\": \"Grid\"}, {\"id\": \"857a1aa2-cbe0-4b89-a21f-ec394a36c181\", \"type\": \"LinearAxis\"}, {\"id\": \"5d2148b2-5380-4199-a2c1-d0080626d64b\", \"type\": \"Grid\"}], \"min_border\": 2, \"above\": [], \"extra_y_ranges\": {}, \"background_fill\": \"#efe8e2\", \"id\": \"5336e983-ab6f-4b00-bf75-f5fd4805120c\", \"x_range\": {\"id\": \"2f21dfdd-f07e-4589-94ef-8badd17aebcd\", \"type\": \"DataRange1d\"}, \"h_symmetry\": false, \"tool_events\": {\"id\": \"dfd88c5e-5a67-4c1a-ace2-4579ecae1868\", \"type\": \"ToolEvents\"}, \"v_symmetry\": false, \"tools\": [{\"id\": \"95d5c6c7-f17c-443c-9cf0-866831236bb9\", \"type\": \"PanTool\"}, {\"id\": \"42ac56c4-b01a-49a9-be3d-a5576c85cf97\", \"type\": \"WheelZoomTool\"}], \"below\": [], \"y_range\": {\"id\": \"968cc2ad-f835-4752-979b-bc538cc62538\", \"type\": \"DataRange1d\"}, \"doc\": null, \"right\": [], \"extra_x_ranges\": {}, \"title\": \"\", \"plot_width\": 150, \"plot_height\": 150, \"border_fill\": \"white\", \"left\": [{\"id\": \"857a1aa2-cbe0-4b89-a21f-ec394a36c181\", \"type\": \"LinearAxis\"}], \"tags\": []}, \"type\": \"Plot\"}, {\"id\": \"0b597706-aaa6-4ce2-bc58-156275310f4d\", \"attributes\": {\"id\": \"0b597706-aaa6-4ce2-bc58-156275310f4d\", \"doc\": null, \"geometries\": [], \"tags\": []}, \"type\": \"ToolEvents\"}, {\"id\": \"8db4b161-b0b9-446a-ad89-ed7491d440d0\", \"attributes\": {\"renderers\": [{\"id\": \"03a16c63-c24f-43be-bedd-4bb657d0947e\", \"type\": \"GlyphRenderer\"}, {\"id\": \"d511d08c-6fbf-40cc-a112-96dd35f67707\", \"type\": \"Grid\"}, {\"id\": \"8bc3252a-87fa-4fe0-8834-2e95b19b0b56\", \"type\": \"Grid\"}, {\"id\": \"3fe35681-570f-43d7-9f37-d7d0a41fb4df\", \"type\": \"GlyphRenderer\"}], \"min_border\": 2, \"above\": [], \"extra_y_ranges\": {}, \"background_fill\": \"#efe8e2\", \"id\": \"8db4b161-b0b9-446a-ad89-ed7491d440d0\", \"x_range\": {\"id\": \"2f21dfdd-f07e-4589-94ef-8badd17aebcd\", \"type\": \"DataRange1d\"}, \"h_symmetry\": false, \"tool_events\": {\"id\": \"236f2bbf-95d2-4794-b95e-591c4831828f\", \"type\": \"ToolEvents\"}, \"v_symmetry\": false, \"tools\": [{\"id\": \"9435718b-4135-4303-b53c-044c388ca23c\", \"type\": \"PanTool\"}, {\"id\": \"2827faa6-90d9-444f-8571-bcb93a7aff8c\", \"type\": \"WheelZoomTool\"}], \"below\": [], \"y_range\": {\"id\": \"968cc2ad-f835-4752-979b-bc538cc62538\", \"type\": \"DataRange1d\"}, \"doc\": null, \"right\": [], \"extra_x_ranges\": {}, \"title\": \"\", \"plot_width\": 150, \"plot_height\": 150, \"border_fill\": \"white\", \"left\": [], \"tags\": []}, \"type\": \"Plot\"}, {\"id\": \"9e215be6-269a-487f-b375-9f88d9e8fe72\", \"attributes\": {\"id\": \"9e215be6-269a-487f-b375-9f88d9e8fe72\", \"plot\": {\"id\": \"d38402f6-ff0e-451a-a27f-2a3921c34773\", \"type\": \"Plot\"}, \"doc\": null, \"dimensions\": [\"width\", \"height\"], \"tags\": []}, \"type\": \"WheelZoomTool\"}, {\"id\": \"f03b9102-268e-414e-bf9f-59ed5605de80\", \"attributes\": {\"id\": \"f03b9102-268e-414e-bf9f-59ed5605de80\", \"mantissas\": [2, 5, 10], \"doc\": null, \"tags\": []}, \"type\": \"BasicTicker\"}, {\"id\": \"89341480-05a3-46ab-9046-864e9f902ebe\", \"attributes\": {\"glyph\": {\"id\": \"3e9c6eaf-46e8-46db-bed9-a5571f8831a2\", \"type\": \"Circle\"}, \"id\": \"89341480-05a3-46ab-9046-864e9f902ebe\", \"nonselection_glyph\": null, \"data_source\": {\"id\": \"180ecab9-aad1-4ecd-86dd-707521237e53\", \"type\": \"ColumnDataSource\"}, \"doc\": null, \"selection_glyph\": null, \"tags\": []}, \"type\": \"GlyphRenderer\"}, {\"id\": \"2a4a8ba2-12ec-412f-8c29-450b070677a1\", \"attributes\": {\"angle\": {\"value\": 0.7853981633974483, \"units\": \"rad\"}, \"doc\": null, \"text_alpha\": {\"value\": 0.7}, \"y\": {\"units\": \"screen\", \"field\": \"ycenter\"}, \"x\": {\"units\": \"screen\", \"field\": \"xcenter\"}, \"text_font_size\": {\"value\": \"28pt\"}, \"id\": \"2a4a8ba2-12ec-412f-8c29-450b070677a1\", \"text_color\": {\"value\": \"#ffaaaa\"}, \"text_align\": \"center\", \"text\": {\"value\": \"petal width\"}, \"text_baseline\": \"top\", \"tags\": [], \"text_font_style\": \"bold\"}, \"type\": \"Text\"}, {\"id\": \"d7804182-3b18-482e-854d-2cb96584faf3\", \"attributes\": {\"id\": \"d7804182-3b18-482e-854d-2cb96584faf3\", \"dimension\": 0, \"doc\": null, \"plot\": {\"id\": \"b7f438ce-7135-4047-b283-ab00bfffd361\", \"type\": \"Plot\"}, \"ticker\": {\"id\": \"f03b9102-268e-414e-bf9f-59ed5605de80\", \"type\": \"BasicTicker\"}, \"tags\": []}, \"type\": \"Grid\"}, {\"id\": \"093ad13d-ea84-4cff-98f3-d643a378ed82\", \"attributes\": {\"id\": \"093ad13d-ea84-4cff-98f3-d643a378ed82\", \"mantissas\": [2, 5, 10], \"doc\": null, \"tags\": []}, \"type\": \"BasicTicker\"}, {\"id\": \"e24a5b55-bec5-4fc5-bdcd-ea6decf81cef\", \"attributes\": {\"id\": \"e24a5b55-bec5-4fc5-bdcd-ea6decf81cef\", \"mantissas\": [2, 5, 10], \"doc\": null, \"tags\": []}, \"type\": \"BasicTicker\"}, {\"id\": \"b7f438ce-7135-4047-b283-ab00bfffd361\", \"attributes\": {\"renderers\": [{\"id\": \"e84b3122-da22-459e-a24c-0658c5bb94d8\", \"type\": \"GlyphRenderer\"}, {\"id\": \"40317b1b-e78e-47fb-a072-9701cac82a04\", \"type\": \"LinearAxis\"}, {\"id\": \"d7804182-3b18-482e-854d-2cb96584faf3\", \"type\": \"Grid\"}, {\"id\": \"7316e944-ab23-4ac5-a7eb-39f01cba4404\", \"type\": \"Grid\"}], \"min_border\": 2, \"above\": [], \"extra_y_ranges\": {}, \"background_fill\": \"#efe8e2\", \"id\": \"b7f438ce-7135-4047-b283-ab00bfffd361\", \"x_range\": {\"id\": \"2f21dfdd-f07e-4589-94ef-8badd17aebcd\", \"type\": \"DataRange1d\"}, \"h_symmetry\": false, \"tool_events\": {\"id\": \"6523e4d1-1095-4eea-bea4-d795154a7dd1\", \"type\": \"ToolEvents\"}, \"v_symmetry\": false, \"tools\": [{\"id\": \"21f6a5da-c2a4-4a1c-b056-a61bd2b9891e\", \"type\": \"PanTool\"}, {\"id\": \"633053bf-4182-4c8f-87cb-09b7693c2b7e\", \"type\": \"WheelZoomTool\"}], \"below\": [{\"id\": \"40317b1b-e78e-47fb-a072-9701cac82a04\", \"type\": \"LinearAxis\"}], \"y_range\": {\"id\": \"968cc2ad-f835-4752-979b-bc538cc62538\", \"type\": \"DataRange1d\"}, \"doc\": null, \"right\": [], \"extra_x_ranges\": {}, \"title\": \"\", \"plot_width\": 150, \"plot_height\": 150, \"border_fill\": \"white\", \"left\": [], \"tags\": []}, \"type\": \"Plot\"}, {\"id\": \"48094e68-1bbd-4454-886c-0e40303f1c05\", \"attributes\": {\"id\": \"48094e68-1bbd-4454-886c-0e40303f1c05\", \"plot\": {\"id\": \"da8f6199-6687-4d99-8631-3001261cf1f3\", \"type\": \"Plot\"}, \"doc\": null, \"dimensions\": [\"width\", \"height\"], \"tags\": []}, \"type\": \"WheelZoomTool\"}, {\"id\": \"4a4c9694-3d69-4f88-ad9f-6ed54f3878ef\", \"attributes\": {\"id\": \"4a4c9694-3d69-4f88-ad9f-6ed54f3878ef\", \"plot\": {\"id\": \"021cdfdf-1b25-43ef-a3b5-b4059f7c470f\", \"type\": \"Plot\"}, \"doc\": null, \"dimensions\": [\"width\", \"height\"], \"tags\": []}, \"type\": \"WheelZoomTool\"}, {\"id\": \"7316e944-ab23-4ac5-a7eb-39f01cba4404\", \"attributes\": {\"id\": \"7316e944-ab23-4ac5-a7eb-39f01cba4404\", \"dimension\": 1, \"doc\": null, \"plot\": {\"id\": \"b7f438ce-7135-4047-b283-ab00bfffd361\", \"type\": \"Plot\"}, \"ticker\": {\"id\": \"17e69db6-f900-4fcd-b83d-05ff4a0e6e76\", \"type\": \"BasicTicker\"}, \"tags\": []}, \"type\": \"Grid\"}, {\"id\": \"34d50fac-527b-4d2e-8c95-ad28d24f9991\", \"attributes\": {\"id\": \"34d50fac-527b-4d2e-8c95-ad28d24f9991\", \"doc\": null, \"size\": {\"value\": 4, \"units\": \"screen\"}, \"line_color\": {\"field\": \"color\"}, \"x\": {\"field\": \"petal_length\"}, \"y\": {\"field\": \"sepal_length\"}, \"fill_alpha\": {\"value\": 0.2}, \"fill_color\": {\"field\": \"color\"}, \"tags\": []}, \"type\": \"Circle\"}, {\"id\": \"1da3c877-deb1-4bcf-9465-faa327e3d861\", \"attributes\": {\"id\": \"1da3c877-deb1-4bcf-9465-faa327e3d861\", \"doc\": null, \"size\": {\"value\": 4, \"units\": \"screen\"}, \"line_color\": {\"field\": \"color\"}, \"x\": {\"field\": \"petal_length\"}, \"y\": {\"field\": \"petal_width\"}, \"fill_alpha\": {\"value\": 0.2}, \"fill_color\": {\"field\": \"color\"}, \"tags\": []}, \"type\": \"Circle\"}, {\"id\": \"37657771-e55b-4d07-87e7-cabfd420951d\", \"attributes\": {\"id\": \"37657771-e55b-4d07-87e7-cabfd420951d\", \"dimension\": 1, \"doc\": null, \"plot\": {\"id\": \"668ef729-b704-411f-b906-43d25ccd789c\", \"type\": \"Plot\"}, \"ticker\": {\"id\": \"50857430-6faf-4713-bc9b-5baddf014a3d\", \"type\": \"BasicTicker\"}, \"tags\": []}, \"type\": \"Grid\"}, {\"id\": \"b99a35fe-e816-4819-a0c8-180286e75682\", \"attributes\": {\"id\": \"b99a35fe-e816-4819-a0c8-180286e75682\", \"dimension\": 1, \"doc\": null, \"plot\": {\"id\": \"fb9e8964-c73b-4188-b25a-174bbd9b415b\", \"type\": \"Plot\"}, \"ticker\": {\"id\": \"524a1144-72c7-421c-9565-6e8700c3630c\", \"type\": \"BasicTicker\"}, \"tags\": []}, \"type\": \"Grid\"}, {\"id\": \"fe3a2748-51a6-4a38-9934-808f4747815c\", \"attributes\": {\"id\": \"fe3a2748-51a6-4a38-9934-808f4747815c\", \"plot\": {\"id\": \"668ef729-b704-411f-b906-43d25ccd789c\", \"type\": \"Plot\"}, \"doc\": null, \"dimensions\": [\"width\", \"height\"], \"tags\": []}, \"type\": \"PanTool\"}, {\"id\": \"83c98eb9-f5bd-4945-8a1d-47756f42e3d1\", \"attributes\": {\"id\": \"83c98eb9-f5bd-4945-8a1d-47756f42e3d1\", \"mantissas\": [2, 5, 10], \"doc\": null, \"tags\": []}, \"type\": \"BasicTicker\"}, {\"id\": \"1354511c-28bd-4a04-9693-146e63daa05a\", \"attributes\": {\"id\": \"1354511c-28bd-4a04-9693-146e63daa05a\", \"doc\": null, \"tags\": []}, \"type\": \"BasicTickFormatter\"}, {\"id\": \"981d5d39-5266-4fae-8077-b76623a1d88c\", \"attributes\": {\"id\": \"981d5d39-5266-4fae-8077-b76623a1d88c\", \"dimension\": 0, \"doc\": null, \"plot\": {\"id\": \"da8f6199-6687-4d99-8631-3001261cf1f3\", \"type\": \"Plot\"}, \"ticker\": {\"id\": \"d414ca31-758d-47a8-8cf9-ae22ebedc201\", \"type\": \"BasicTicker\"}, \"tags\": []}, \"type\": \"Grid\"}, {\"id\": \"28a30f15-1c9b-4ef9-958a-5f9e4f9f9078\", \"attributes\": {\"id\": \"28a30f15-1c9b-4ef9-958a-5f9e4f9f9078\", \"plot\": {\"id\": \"3eddff6c-5c32-4054-a405-c1c7b8ba2851\", \"type\": \"Plot\"}, \"doc\": null, \"dimensions\": [\"width\", \"height\"], \"tags\": []}, \"type\": \"WheelZoomTool\"}, {\"id\": \"1473590a-48d9-44dd-8e9a-e43982d6842e\", \"attributes\": {\"id\": \"1473590a-48d9-44dd-8e9a-e43982d6842e\", \"mantissas\": [2, 5, 10], \"doc\": null, \"tags\": []}, \"type\": \"BasicTicker\"}, {\"id\": \"e20f6590-12bb-47ec-b18f-bce46d59cc93\", \"attributes\": {\"id\": \"e20f6590-12bb-47ec-b18f-bce46d59cc93\", \"doc\": null, \"geometries\": [], \"tags\": []}, \"type\": \"ToolEvents\"}, {\"id\": \"dfd88c5e-5a67-4c1a-ace2-4579ecae1868\", \"attributes\": {\"id\": \"dfd88c5e-5a67-4c1a-ace2-4579ecae1868\", \"doc\": null, \"geometries\": [], \"tags\": []}, \"type\": \"ToolEvents\"}, {\"id\": \"633053bf-4182-4c8f-87cb-09b7693c2b7e\", \"attributes\": {\"id\": \"633053bf-4182-4c8f-87cb-09b7693c2b7e\", \"plot\": {\"id\": \"b7f438ce-7135-4047-b283-ab00bfffd361\", \"type\": \"Plot\"}, \"doc\": null, \"dimensions\": [\"width\", \"height\"], \"tags\": []}, \"type\": \"WheelZoomTool\"}, {\"id\": \"16cfb903-247f-4cd1-8703-7a2f11ace1d1\", \"attributes\": {\"id\": \"16cfb903-247f-4cd1-8703-7a2f11ace1d1\", \"plot\": {\"id\": \"668ef729-b704-411f-b906-43d25ccd789c\", \"type\": \"Plot\"}, \"doc\": null, \"dimensions\": [\"width\", \"height\"], \"tags\": []}, \"type\": \"WheelZoomTool\"}, {\"id\": \"857a1aa2-cbe0-4b89-a21f-ec394a36c181\", \"attributes\": {\"id\": \"857a1aa2-cbe0-4b89-a21f-ec394a36c181\", \"plot\": {\"id\": \"5336e983-ab6f-4b00-bf75-f5fd4805120c\", \"type\": \"Plot\"}, \"doc\": null, \"formatter\": {\"id\": \"392bfd7f-7aba-4669-8cfd-d365506b3c08\", \"type\": \"BasicTickFormatter\"}, \"ticker\": {\"id\": \"83c98eb9-f5bd-4945-8a1d-47756f42e3d1\", \"type\": \"BasicTicker\"}, \"tags\": []}, \"type\": \"LinearAxis\"}, {\"id\": \"6523e4d1-1095-4eea-bea4-d795154a7dd1\", \"attributes\": {\"id\": \"6523e4d1-1095-4eea-bea4-d795154a7dd1\", \"doc\": null, \"geometries\": [], \"tags\": []}, \"type\": \"ToolEvents\"}, {\"id\": \"0cf6b872-d2b1-44fd-8451-dd29093b53a8\", \"attributes\": {\"glyph\": {\"id\": \"1da3c877-deb1-4bcf-9465-faa327e3d861\", \"type\": \"Circle\"}, \"id\": \"0cf6b872-d2b1-44fd-8451-dd29093b53a8\", \"nonselection_glyph\": null, \"data_source\": {\"id\": \"180ecab9-aad1-4ecd-86dd-707521237e53\", \"type\": \"ColumnDataSource\"}, \"doc\": null, \"selection_glyph\": null, \"tags\": []}, \"type\": \"GlyphRenderer\"}, {\"id\": \"da8f6199-6687-4d99-8631-3001261cf1f3\", \"attributes\": {\"renderers\": [{\"id\": \"89341480-05a3-46ab-9046-864e9f902ebe\", \"type\": \"GlyphRenderer\"}, {\"id\": \"981d5d39-5266-4fae-8077-b76623a1d88c\", \"type\": \"Grid\"}, {\"id\": \"ab5fb8a1-289b-4f97-818f-a97614945580\", \"type\": \"Grid\"}], \"min_border\": 2, \"above\": [], \"extra_y_ranges\": {}, \"background_fill\": \"#efe8e2\", \"id\": \"da8f6199-6687-4d99-8631-3001261cf1f3\", \"x_range\": {\"id\": \"2f21dfdd-f07e-4589-94ef-8badd17aebcd\", \"type\": \"DataRange1d\"}, \"h_symmetry\": false, \"tool_events\": {\"id\": \"e20f6590-12bb-47ec-b18f-bce46d59cc93\", \"type\": \"ToolEvents\"}, \"v_symmetry\": false, \"tools\": [{\"id\": \"c66a61ca-ed09-4b75-84eb-a27f0cb49249\", \"type\": \"PanTool\"}, {\"id\": \"48094e68-1bbd-4454-886c-0e40303f1c05\", \"type\": \"WheelZoomTool\"}], \"below\": [], \"y_range\": {\"id\": \"968cc2ad-f835-4752-979b-bc538cc62538\", \"type\": \"DataRange1d\"}, \"doc\": null, \"right\": [], \"extra_x_ranges\": {}, \"title\": \"\", \"plot_width\": 150, \"plot_height\": 150, \"border_fill\": \"white\", \"left\": [], \"tags\": []}, \"type\": \"Plot\"}, {\"id\": \"ab5fb8a1-289b-4f97-818f-a97614945580\", \"attributes\": {\"id\": \"ab5fb8a1-289b-4f97-818f-a97614945580\", \"dimension\": 1, \"doc\": null, \"plot\": {\"id\": \"da8f6199-6687-4d99-8631-3001261cf1f3\", \"type\": \"Plot\"}, \"ticker\": {\"id\": \"2eeb2ba3-6aaf-4512-bc7f-3aff3065aec8\", \"type\": \"BasicTicker\"}, \"tags\": []}, \"type\": \"Grid\"}, {\"id\": \"392bfd7f-7aba-4669-8cfd-d365506b3c08\", \"attributes\": {\"id\": \"392bfd7f-7aba-4669-8cfd-d365506b3c08\", \"doc\": null, \"tags\": []}, \"type\": \"BasicTickFormatter\"}, {\"id\": \"17e69db6-f900-4fcd-b83d-05ff4a0e6e76\", \"attributes\": {\"id\": \"17e69db6-f900-4fcd-b83d-05ff4a0e6e76\", \"mantissas\": [2, 5, 10], \"doc\": null, \"tags\": []}, \"type\": \"BasicTicker\"}, {\"id\": \"d414ca31-758d-47a8-8cf9-ae22ebedc201\", \"attributes\": {\"id\": \"d414ca31-758d-47a8-8cf9-ae22ebedc201\", \"mantissas\": [2, 5, 10], \"doc\": null, \"tags\": []}, \"type\": \"BasicTicker\"}, {\"id\": \"437ce123-4bd0-4e95-81c0-110569c4bc22\", \"attributes\": {\"id\": \"437ce123-4bd0-4e95-81c0-110569c4bc22\", \"mantissas\": [2, 5, 10], \"doc\": null, \"tags\": []}, \"type\": \"BasicTicker\"}, {\"id\": \"fb9e8964-c73b-4188-b25a-174bbd9b415b\", \"attributes\": {\"renderers\": [{\"id\": \"59e6ffa7-c3d6-42e0-ba2c-0f7229d34dbe\", \"type\": \"GlyphRenderer\"}, {\"id\": \"3c241b43-f728-4969-8f29-a338e30cf610\", \"type\": \"LinearAxis\"}, {\"id\": \"fb9bab26-6795-4529-b981-6af085221762\", \"type\": \"Grid\"}, {\"id\": \"b99a35fe-e816-4819-a0c8-180286e75682\", \"type\": \"Grid\"}], \"min_border\": 2, \"above\": [], \"extra_y_ranges\": {}, \"background_fill\": \"#efe8e2\", \"id\": \"fb9e8964-c73b-4188-b25a-174bbd9b415b\", \"x_range\": {\"id\": \"2f21dfdd-f07e-4589-94ef-8badd17aebcd\", \"type\": \"DataRange1d\"}, \"h_symmetry\": false, \"tool_events\": {\"id\": \"0b597706-aaa6-4ce2-bc58-156275310f4d\", \"type\": \"ToolEvents\"}, \"v_symmetry\": false, \"tools\": [{\"id\": \"a9c0a808-130e-45af-8a83-df6c2040a088\", \"type\": \"PanTool\"}, {\"id\": \"dfb93312-e5e2-4ca3-a950-6491fe9c129d\", \"type\": \"WheelZoomTool\"}], \"below\": [{\"id\": \"3c241b43-f728-4969-8f29-a338e30cf610\", \"type\": \"LinearAxis\"}], \"y_range\": {\"id\": \"968cc2ad-f835-4752-979b-bc538cc62538\", \"type\": \"DataRange1d\"}, \"doc\": null, \"right\": [], \"extra_x_ranges\": {}, \"title\": \"\", \"plot_width\": 150, \"plot_height\": 150, \"border_fill\": \"white\", \"left\": [], \"tags\": []}, \"type\": \"Plot\"}, {\"id\": \"2eeb2ba3-6aaf-4512-bc7f-3aff3065aec8\", \"attributes\": {\"id\": \"2eeb2ba3-6aaf-4512-bc7f-3aff3065aec8\", \"mantissas\": [2, 5, 10], \"doc\": null, \"tags\": []}, \"type\": \"BasicTicker\"}, {\"id\": \"8fa8c051-ae3e-47a4-852f-5eb0104ca2c5\", \"attributes\": {\"renderers\": [{\"id\": \"22e1c299-16cd-4cd1-ae34-31594d69add4\", \"type\": \"GlyphRenderer\"}, {\"id\": \"8a7bedf6-5011-4460-924a-eaf6ca42d4de\", \"type\": \"Grid\"}, {\"id\": \"4f72c3cb-a510-416f-90c3-02f1e1292fee\", \"type\": \"Grid\"}], \"min_border\": 2, \"above\": [], \"extra_y_ranges\": {}, \"background_fill\": \"#efe8e2\", \"id\": \"8fa8c051-ae3e-47a4-852f-5eb0104ca2c5\", \"x_range\": {\"id\": \"2f21dfdd-f07e-4589-94ef-8badd17aebcd\", \"type\": \"DataRange1d\"}, \"h_symmetry\": false, \"tool_events\": {\"id\": \"63eefd3c-f154-4ab4-ac9c-2ece081978ab\", \"type\": \"ToolEvents\"}, \"v_symmetry\": false, \"tools\": [{\"id\": \"822abc7d-e88a-499c-8903-b7f19e2f76b7\", \"type\": \"PanTool\"}, {\"id\": \"f7c9f8d8-32c0-4872-b3a8-eadd07aade25\", \"type\": \"WheelZoomTool\"}], \"below\": [], \"y_range\": {\"id\": \"968cc2ad-f835-4752-979b-bc538cc62538\", \"type\": \"DataRange1d\"}, \"doc\": null, \"right\": [], \"extra_x_ranges\": {}, \"title\": \"\", \"plot_width\": 150, \"plot_height\": 150, \"border_fill\": \"white\", \"left\": [], \"tags\": []}, \"type\": \"Plot\"}, {\"id\": \"3e9c6eaf-46e8-46db-bed9-a5571f8831a2\", \"attributes\": {\"id\": \"3e9c6eaf-46e8-46db-bed9-a5571f8831a2\", \"doc\": null, \"size\": {\"value\": 4, \"units\": \"screen\"}, \"line_color\": {\"field\": \"color\"}, \"x\": {\"field\": \"sepal_width\"}, \"y\": {\"field\": \"sepal_length\"}, \"fill_alpha\": {\"value\": 0.2}, \"fill_color\": {\"field\": \"color\"}, \"tags\": []}, \"type\": \"Circle\"}, {\"id\": \"2f21dfdd-f07e-4589-94ef-8badd17aebcd\", \"attributes\": {\"id\": \"2f21dfdd-f07e-4589-94ef-8badd17aebcd\", \"doc\": null, \"renderers\": [{\"id\": \"558c6b77-bf58-4f11-9a14-927107a729b6\", \"type\": \"GlyphRenderer\"}, {\"id\": \"fba52f66-ff00-4d33-96fa-7c86b2748f8b\", \"type\": \"GlyphRenderer\"}, {\"id\": \"89341480-05a3-46ab-9046-864e9f902ebe\", \"type\": \"GlyphRenderer\"}, {\"id\": \"03a16c63-c24f-43be-bedd-4bb657d0947e\", \"type\": \"GlyphRenderer\"}, {\"id\": \"3846eb4e-4503-436e-b40d-e1ca3f8f298e\", \"type\": \"GlyphRenderer\"}, {\"id\": \"885887dc-beac-4dbe-8488-affb84dbad9a\", \"type\": \"GlyphRenderer\"}, {\"id\": \"fc28b94a-09c4-4548-a329-238f1cbc4082\", \"type\": \"GlyphRenderer\"}, {\"id\": \"94b34fee-4bd1-41c9-9cdc-d14784d3e60a\", \"type\": \"GlyphRenderer\"}, {\"id\": \"0cf6b872-d2b1-44fd-8451-dd29093b53a8\", \"type\": \"GlyphRenderer\"}, {\"id\": \"f2575798-c947-4359-8618-3551da02264e\", \"type\": \"GlyphRenderer\"}, {\"id\": \"a8ef6f48-a1ed-454b-a9bf-fc001691d195\", \"type\": \"GlyphRenderer\"}, {\"id\": \"22e1c299-16cd-4cd1-ae34-31594d69add4\", \"type\": \"GlyphRenderer\"}, {\"id\": \"bf7772dc-3602-41b8-a41c-82e2e47013de\", \"type\": \"GlyphRenderer\"}, {\"id\": \"31593026-a123-43e8-962c-9554913d59f8\", \"type\": \"GlyphRenderer\"}, {\"id\": \"e84b3122-da22-459e-a24c-0658c5bb94d8\", \"type\": \"GlyphRenderer\"}, {\"id\": \"59e6ffa7-c3d6-42e0-ba2c-0f7229d34dbe\", \"type\": \"GlyphRenderer\"}], \"names\": [], \"callback\": null, \"tags\": []}, \"type\": \"DataRange1d\"}, {\"id\": \"021cdfdf-1b25-43ef-a3b5-b4059f7c470f\", \"attributes\": {\"renderers\": [{\"id\": \"a8ef6f48-a1ed-454b-a9bf-fc001691d195\", \"type\": \"GlyphRenderer\"}, {\"id\": \"7a5ff148-fa67-4670-a25c-1ba20274b315\", \"type\": \"Grid\"}, {\"id\": \"c2e83a22-209b-4969-bb47-cadcee6a999c\", \"type\": \"Grid\"}], \"min_border\": 2, \"above\": [], \"extra_y_ranges\": {}, \"background_fill\": \"#efe8e2\", \"id\": \"021cdfdf-1b25-43ef-a3b5-b4059f7c470f\", \"x_range\": {\"id\": \"2f21dfdd-f07e-4589-94ef-8badd17aebcd\", \"type\": \"DataRange1d\"}, \"h_symmetry\": false, \"tool_events\": {\"id\": \"e5d55cc6-7f46-42a3-bb31-c90163fd22fc\", \"type\": \"ToolEvents\"}, \"v_symmetry\": false, \"tools\": [{\"id\": \"fb75e08f-b0a4-4d4d-99d5-41c796284006\", \"type\": \"PanTool\"}, {\"id\": \"4a4c9694-3d69-4f88-ad9f-6ed54f3878ef\", \"type\": \"WheelZoomTool\"}], \"below\": [], \"y_range\": {\"id\": \"968cc2ad-f835-4752-979b-bc538cc62538\", \"type\": \"DataRange1d\"}, \"doc\": null, \"right\": [], \"extra_x_ranges\": {}, \"title\": \"\", \"plot_width\": 150, \"plot_height\": 150, \"border_fill\": \"white\", \"left\": [], \"tags\": []}, \"type\": \"Plot\"}, {\"id\": \"1a117462-4ebc-4c9c-ab23-1ea679b5e60f\", \"attributes\": {\"id\": \"1a117462-4ebc-4c9c-ab23-1ea679b5e60f\", \"doc\": null, \"size\": {\"value\": 4, \"units\": \"screen\"}, \"line_color\": {\"field\": \"color\"}, \"x\": {\"field\": \"sepal_length\"}, \"y\": {\"field\": \"petal_length\"}, \"fill_alpha\": {\"value\": 0.2}, \"fill_color\": {\"field\": \"color\"}, \"tags\": []}, \"type\": \"Circle\"}, {\"id\": \"c66a61ca-ed09-4b75-84eb-a27f0cb49249\", \"attributes\": {\"id\": \"c66a61ca-ed09-4b75-84eb-a27f0cb49249\", \"plot\": {\"id\": \"da8f6199-6687-4d99-8631-3001261cf1f3\", \"type\": \"Plot\"}, \"doc\": null, \"dimensions\": [\"width\", \"height\"], \"tags\": []}, \"type\": \"PanTool\"}, {\"id\": \"95d5c6c7-f17c-443c-9cf0-866831236bb9\", \"attributes\": {\"id\": \"95d5c6c7-f17c-443c-9cf0-866831236bb9\", \"plot\": {\"id\": \"5336e983-ab6f-4b00-bf75-f5fd4805120c\", \"type\": \"Plot\"}, \"doc\": null, \"dimensions\": [\"width\", \"height\"], \"tags\": []}, \"type\": \"PanTool\"}, {\"id\": \"e053343f-170a-481f-ba89-9d45d4be36f8\", \"attributes\": {\"id\": \"e053343f-170a-481f-ba89-9d45d4be36f8\", \"mantissas\": [2, 5, 10], \"doc\": null, \"tags\": []}, \"type\": \"BasicTicker\"}, {\"id\": \"7c20f8cc-d85e-4488-88a6-74c72fda5f14\", \"attributes\": {\"id\": \"7c20f8cc-d85e-4488-88a6-74c72fda5f14\", \"doc\": null, \"geometries\": [], \"tags\": []}, \"type\": \"ToolEvents\"}, {\"id\": \"3846eb4e-4503-436e-b40d-e1ca3f8f298e\", \"attributes\": {\"glyph\": {\"id\": \"809e2a57-0a21-4b10-9120-1dbe520866f1\", \"type\": \"Circle\"}, \"id\": \"3846eb4e-4503-436e-b40d-e1ca3f8f298e\", \"nonselection_glyph\": null, \"data_source\": {\"id\": \"180ecab9-aad1-4ecd-86dd-707521237e53\", \"type\": \"ColumnDataSource\"}, \"doc\": null, \"selection_glyph\": null, \"tags\": []}, \"type\": \"GlyphRenderer\"}, {\"id\": \"42ac56c4-b01a-49a9-be3d-a5576c85cf97\", \"attributes\": {\"id\": \"42ac56c4-b01a-49a9-be3d-a5576c85cf97\", \"plot\": {\"id\": \"5336e983-ab6f-4b00-bf75-f5fd4805120c\", \"type\": \"Plot\"}, \"doc\": null, \"dimensions\": [\"width\", \"height\"], \"tags\": []}, \"type\": \"WheelZoomTool\"}, {\"id\": \"d511d08c-6fbf-40cc-a112-96dd35f67707\", \"attributes\": {\"id\": \"d511d08c-6fbf-40cc-a112-96dd35f67707\", \"dimension\": 0, \"doc\": null, \"plot\": {\"id\": \"8db4b161-b0b9-446a-ad89-ed7491d440d0\", \"type\": \"Plot\"}, \"ticker\": {\"id\": \"5f1e661f-4a3a-4199-9ea8-2e82207bc9cd\", \"type\": \"BasicTicker\"}, \"tags\": []}, \"type\": \"Grid\"}, {\"id\": \"e5d55cc6-7f46-42a3-bb31-c90163fd22fc\", \"attributes\": {\"id\": \"e5d55cc6-7f46-42a3-bb31-c90163fd22fc\", \"doc\": null, \"geometries\": [], \"tags\": []}, \"type\": \"ToolEvents\"}, {\"id\": \"3c241b43-f728-4969-8f29-a338e30cf610\", \"attributes\": {\"id\": \"3c241b43-f728-4969-8f29-a338e30cf610\", \"plot\": {\"id\": \"fb9e8964-c73b-4188-b25a-174bbd9b415b\", \"type\": \"Plot\"}, \"doc\": null, \"formatter\": {\"id\": \"8ee41814-0d18-4b89-a443-85fd4ef1c403\", \"type\": \"BasicTickFormatter\"}, \"ticker\": {\"id\": \"1473590a-48d9-44dd-8e9a-e43982d6842e\", \"type\": \"BasicTicker\"}, \"tags\": []}, \"type\": \"LinearAxis\"}, {\"id\": \"6e9cc3fc-0c52-4ff5-80ef-b3655b9a83f3\", \"attributes\": {\"angle\": {\"value\": 0.7853981633974483, \"units\": \"rad\"}, \"doc\": null, \"text_alpha\": {\"value\": 0.7}, \"y\": {\"units\": \"screen\", \"field\": \"ycenter\"}, \"x\": {\"units\": \"screen\", \"field\": \"xcenter\"}, \"text_font_size\": {\"value\": \"28pt\"}, \"id\": \"6e9cc3fc-0c52-4ff5-80ef-b3655b9a83f3\", \"text_color\": {\"value\": \"#ffaaaa\"}, \"text_align\": \"center\", \"text\": {\"value\": \"sepal length\"}, \"text_baseline\": \"top\", \"tags\": [], \"text_font_style\": \"bold\"}, \"type\": \"Text\"}, {\"id\": \"934e3f58-aacf-43cc-9045-dd7d35088215\", \"attributes\": {\"id\": \"934e3f58-aacf-43cc-9045-dd7d35088215\", \"dimension\": 0, \"doc\": null, \"plot\": {\"id\": \"3eddff6c-5c32-4054-a405-c1c7b8ba2851\", \"type\": \"Plot\"}, \"ticker\": {\"id\": \"e24a5b55-bec5-4fc5-bdcd-ea6decf81cef\", \"type\": \"BasicTicker\"}, \"tags\": []}, \"type\": \"Grid\"}, {\"id\": \"8ee41814-0d18-4b89-a443-85fd4ef1c403\", \"attributes\": {\"id\": \"8ee41814-0d18-4b89-a443-85fd4ef1c403\", \"doc\": null, \"tags\": []}, \"type\": \"BasicTickFormatter\"}, {\"id\": \"eb97d1e1-c4cd-4bbb-a8d5-3895c2241a69\", \"attributes\": {\"id\": \"eb97d1e1-c4cd-4bbb-a8d5-3895c2241a69\", \"doc\": null, \"size\": {\"value\": 4, \"units\": \"screen\"}, \"line_color\": {\"field\": \"color\"}, \"x\": {\"field\": \"petal_width\"}, \"y\": {\"field\": \"petal_width\"}, \"fill_alpha\": {\"value\": 0.2}, \"fill_color\": {\"field\": \"color\"}, \"tags\": []}, \"type\": \"Circle\"}, {\"id\": \"1505720b-ad07-4b3b-b496-7b048928443f\", \"attributes\": {\"id\": \"1505720b-ad07-4b3b-b496-7b048928443f\", \"dimension\": 0, \"doc\": null, \"plot\": {\"id\": \"d53207ec-03f0-47b5-a846-1307bda36b41\", \"type\": \"Plot\"}, \"ticker\": {\"id\": \"638b367b-890b-42ca-bdf4-b58687523ad8\", \"type\": \"BasicTicker\"}, \"tags\": []}, \"type\": \"Grid\"}, {\"id\": \"fb9bab26-6795-4529-b981-6af085221762\", \"attributes\": {\"id\": \"fb9bab26-6795-4529-b981-6af085221762\", \"dimension\": 0, \"doc\": null, \"plot\": {\"id\": \"fb9e8964-c73b-4188-b25a-174bbd9b415b\", \"type\": \"Plot\"}, \"ticker\": {\"id\": \"1473590a-48d9-44dd-8e9a-e43982d6842e\", \"type\": \"BasicTicker\"}, \"tags\": []}, \"type\": \"Grid\"}, {\"id\": \"809e2a57-0a21-4b10-9120-1dbe520866f1\", \"attributes\": {\"id\": \"809e2a57-0a21-4b10-9120-1dbe520866f1\", \"doc\": null, \"size\": {\"value\": 4, \"units\": \"screen\"}, \"line_color\": {\"field\": \"color\"}, \"x\": {\"field\": \"petal_length\"}, \"y\": {\"field\": \"sepal_width\"}, \"fill_alpha\": {\"value\": 0.2}, \"fill_color\": {\"field\": \"color\"}, \"tags\": []}, \"type\": \"Circle\"}, {\"id\": \"f2575798-c947-4359-8618-3551da02264e\", \"attributes\": {\"glyph\": {\"id\": \"eb97d1e1-c4cd-4bbb-a8d5-3895c2241a69\", \"type\": \"Circle\"}, \"id\": \"f2575798-c947-4359-8618-3551da02264e\", \"nonselection_glyph\": null, \"data_source\": {\"id\": \"180ecab9-aad1-4ecd-86dd-707521237e53\", \"type\": \"ColumnDataSource\"}, \"doc\": null, \"selection_glyph\": null, \"tags\": []}, \"type\": \"GlyphRenderer\"}, {\"id\": \"3fe35681-570f-43d7-9f37-d7d0a41fb4df\", \"attributes\": {\"glyph\": {\"id\": \"6e9cc3fc-0c52-4ff5-80ef-b3655b9a83f3\", \"type\": \"Text\"}, \"id\": \"3fe35681-570f-43d7-9f37-d7d0a41fb4df\", \"nonselection_glyph\": null, \"data_source\": {\"id\": \"01dee305-ebde-4719-bd2f-24a88aba7c85\", \"type\": \"ColumnDataSource\"}, \"doc\": null, \"selection_glyph\": null, \"tags\": []}, \"type\": \"GlyphRenderer\"}, {\"id\": \"47826fd7-444b-41f2-81c1-3d0dd1ca9ddc\", \"attributes\": {\"id\": \"47826fd7-444b-41f2-81c1-3d0dd1ca9ddc\", \"plot\": {\"id\": \"3eddff6c-5c32-4054-a405-c1c7b8ba2851\", \"type\": \"Plot\"}, \"doc\": null, \"dimensions\": [\"width\", \"height\"], \"tags\": []}, \"type\": \"PanTool\"}, {\"id\": \"8bc3252a-87fa-4fe0-8834-2e95b19b0b56\", \"attributes\": {\"id\": \"8bc3252a-87fa-4fe0-8834-2e95b19b0b56\", \"dimension\": 1, \"doc\": null, \"plot\": {\"id\": \"8db4b161-b0b9-446a-ad89-ed7491d440d0\", \"type\": \"Plot\"}, \"ticker\": {\"id\": \"093ad13d-ea84-4cff-98f3-d643a378ed82\", \"type\": \"BasicTicker\"}, \"tags\": []}, \"type\": \"Grid\"}, {\"id\": \"87a51118-8042-4028-9137-8f8e1d4b1000\", \"attributes\": {\"id\": \"87a51118-8042-4028-9137-8f8e1d4b1000\", \"mantissas\": [2, 5, 10], \"doc\": null, \"tags\": []}, \"type\": \"BasicTicker\"}, {\"id\": \"9435718b-4135-4303-b53c-044c388ca23c\", \"attributes\": {\"id\": \"9435718b-4135-4303-b53c-044c388ca23c\", \"plot\": {\"id\": \"8db4b161-b0b9-446a-ad89-ed7491d440d0\", \"type\": \"Plot\"}, \"doc\": null, \"dimensions\": [\"width\", \"height\"], \"tags\": []}, \"type\": \"PanTool\"}, {\"id\": \"379a59b9-06ce-4384-84d2-07b98cda71fb\", \"attributes\": {\"glyph\": {\"id\": \"2a4a8ba2-12ec-412f-8c29-450b070677a1\", \"type\": \"Text\"}, \"id\": \"379a59b9-06ce-4384-84d2-07b98cda71fb\", \"nonselection_glyph\": null, \"data_source\": {\"id\": \"01dee305-ebde-4719-bd2f-24a88aba7c85\", \"type\": \"ColumnDataSource\"}, \"doc\": null, \"selection_glyph\": null, \"tags\": []}, \"type\": \"GlyphRenderer\"}, {\"id\": \"2827faa6-90d9-444f-8571-bcb93a7aff8c\", \"attributes\": {\"id\": \"2827faa6-90d9-444f-8571-bcb93a7aff8c\", \"plot\": {\"id\": \"8db4b161-b0b9-446a-ad89-ed7491d440d0\", \"type\": \"Plot\"}, \"doc\": null, \"dimensions\": [\"width\", \"height\"], \"tags\": []}, \"type\": \"WheelZoomTool\"}, {\"id\": \"fb75e08f-b0a4-4d4d-99d5-41c796284006\", \"attributes\": {\"id\": \"fb75e08f-b0a4-4d4d-99d5-41c796284006\", \"plot\": {\"id\": \"021cdfdf-1b25-43ef-a3b5-b4059f7c470f\", \"type\": \"Plot\"}, \"doc\": null, \"dimensions\": [\"width\", \"height\"], \"tags\": []}, \"type\": \"PanTool\"}, {\"id\": \"524a1144-72c7-421c-9565-6e8700c3630c\", \"attributes\": {\"id\": \"524a1144-72c7-421c-9565-6e8700c3630c\", \"mantissas\": [2, 5, 10], \"doc\": null, \"tags\": []}, \"type\": \"BasicTicker\"}, {\"id\": \"90e843f7-4bd9-4bb5-9b1c-6b5dab2efbbf\", \"attributes\": {\"id\": \"90e843f7-4bd9-4bb5-9b1c-6b5dab2efbbf\", \"doc\": null, \"size\": {\"value\": 4, \"units\": \"screen\"}, \"line_color\": {\"field\": \"color\"}, \"x\": {\"field\": \"sepal_width\"}, \"y\": {\"field\": \"petal_width\"}, \"fill_alpha\": {\"value\": 0.2}, \"fill_color\": {\"field\": \"color\"}, \"tags\": []}, \"type\": \"Circle\"}, {\"id\": \"a3d484f7-f3ff-4b4d-9f8e-b8224f0e5973\", \"attributes\": {\"id\": \"a3d484f7-f3ff-4b4d-9f8e-b8224f0e5973\", \"dimension\": 1, \"doc\": null, \"plot\": {\"id\": \"d53207ec-03f0-47b5-a846-1307bda36b41\", \"type\": \"Plot\"}, \"ticker\": {\"id\": \"311f6aae-e1ef-478c-a05a-39c6028db679\", \"type\": \"BasicTicker\"}, \"tags\": []}, \"type\": \"Grid\"}, {\"id\": \"668ef729-b704-411f-b906-43d25ccd789c\", \"attributes\": {\"renderers\": [{\"id\": \"fba52f66-ff00-4d33-96fa-7c86b2748f8b\", \"type\": \"GlyphRenderer\"}, {\"id\": \"19b6048a-4b77-4019-8c6a-e4fea7a4a753\", \"type\": \"Grid\"}, {\"id\": \"37657771-e55b-4d07-87e7-cabfd420951d\", \"type\": \"Grid\"}], \"min_border\": 2, \"above\": [], \"extra_y_ranges\": {}, \"background_fill\": \"#efe8e2\", \"id\": \"668ef729-b704-411f-b906-43d25ccd789c\", \"x_range\": {\"id\": \"2f21dfdd-f07e-4589-94ef-8badd17aebcd\", \"type\": \"DataRange1d\"}, \"h_symmetry\": false, \"tool_events\": {\"id\": \"2146c220-8cb2-4fb2-bbb2-7ce835301b9f\", \"type\": \"ToolEvents\"}, \"v_symmetry\": false, \"tools\": [{\"id\": \"fe3a2748-51a6-4a38-9934-808f4747815c\", \"type\": \"PanTool\"}, {\"id\": \"16cfb903-247f-4cd1-8703-7a2f11ace1d1\", \"type\": \"WheelZoomTool\"}], \"below\": [], \"y_range\": {\"id\": \"968cc2ad-f835-4752-979b-bc538cc62538\", \"type\": \"DataRange1d\"}, \"doc\": null, \"right\": [], \"extra_x_ranges\": {}, \"title\": \"\", \"plot_width\": 150, \"plot_height\": 150, \"border_fill\": \"white\", \"left\": [], \"tags\": []}, \"type\": \"Plot\"}, {\"id\": \"b85c71b3-4a70-40c4-acf1-afedb4b53629\", \"attributes\": {\"id\": \"b85c71b3-4a70-40c4-acf1-afedb4b53629\", \"plot\": {\"id\": \"d53207ec-03f0-47b5-a846-1307bda36b41\", \"type\": \"Plot\"}, \"doc\": null, \"dimensions\": [\"width\", \"height\"], \"tags\": []}, \"type\": \"WheelZoomTool\"}, {\"id\": \"2848a515-49a1-4759-abc4-0380b8046d61\", \"attributes\": {\"id\": \"2848a515-49a1-4759-abc4-0380b8046d61\", \"mantissas\": [2, 5, 10], \"doc\": null, \"tags\": []}, \"type\": \"BasicTicker\"}, {\"id\": \"a9c0a808-130e-45af-8a83-df6c2040a088\", \"attributes\": {\"id\": \"a9c0a808-130e-45af-8a83-df6c2040a088\", \"plot\": {\"id\": \"fb9e8964-c73b-4188-b25a-174bbd9b415b\", \"type\": \"Plot\"}, \"doc\": null, \"dimensions\": [\"width\", \"height\"], \"tags\": []}, \"type\": \"PanTool\"}, {\"id\": \"d53207ec-03f0-47b5-a846-1307bda36b41\", \"attributes\": {\"renderers\": [{\"id\": \"3846eb4e-4503-436e-b40d-e1ca3f8f298e\", \"type\": \"GlyphRenderer\"}, {\"id\": \"1505720b-ad07-4b3b-b496-7b048928443f\", \"type\": \"Grid\"}, {\"id\": \"931b3598-5371-47c2-a194-9a13d7d25005\", \"type\": \"LinearAxis\"}, {\"id\": \"a3d484f7-f3ff-4b4d-9f8e-b8224f0e5973\", \"type\": \"Grid\"}], \"min_border\": 2, \"above\": [], \"extra_y_ranges\": {}, \"background_fill\": \"#efe8e2\", \"id\": \"d53207ec-03f0-47b5-a846-1307bda36b41\", \"x_range\": {\"id\": \"2f21dfdd-f07e-4589-94ef-8badd17aebcd\", \"type\": \"DataRange1d\"}, \"h_symmetry\": false, \"tool_events\": {\"id\": \"9640b2d9-ef60-49f3-b9cc-4e373990ad4f\", \"type\": \"ToolEvents\"}, \"v_symmetry\": false, \"tools\": [{\"id\": \"eb407229-f45a-4903-8308-fbde08c25544\", \"type\": \"PanTool\"}, {\"id\": \"b85c71b3-4a70-40c4-acf1-afedb4b53629\", \"type\": \"WheelZoomTool\"}], \"below\": [], \"y_range\": {\"id\": \"968cc2ad-f835-4752-979b-bc538cc62538\", \"type\": \"DataRange1d\"}, \"doc\": null, \"right\": [], \"extra_x_ranges\": {}, \"title\": \"\", \"plot_width\": 150, \"plot_height\": 150, \"border_fill\": \"white\", \"left\": [{\"id\": \"931b3598-5371-47c2-a194-9a13d7d25005\", \"type\": \"LinearAxis\"}], \"tags\": []}, \"type\": \"Plot\"}, {\"id\": \"7a5ff148-fa67-4670-a25c-1ba20274b315\", \"attributes\": {\"id\": \"7a5ff148-fa67-4670-a25c-1ba20274b315\", \"dimension\": 0, \"doc\": null, \"plot\": {\"id\": \"021cdfdf-1b25-43ef-a3b5-b4059f7c470f\", \"type\": \"Plot\"}, \"ticker\": {\"id\": \"5b8baf42-ccee-4505-bcd3-1a61197e49f3\", \"type\": \"BasicTicker\"}, \"tags\": []}, \"type\": \"Grid\"}, {\"id\": \"dfb93312-e5e2-4ca3-a950-6491fe9c129d\", \"attributes\": {\"id\": \"dfb93312-e5e2-4ca3-a950-6491fe9c129d\", \"plot\": {\"id\": \"fb9e8964-c73b-4188-b25a-174bbd9b415b\", \"type\": \"Plot\"}, \"doc\": null, \"dimensions\": [\"width\", \"height\"], \"tags\": []}, \"type\": \"WheelZoomTool\"}, {\"id\": \"50cf47db-4e50-43d5-849c-8b166ee0310c\", \"attributes\": {\"id\": \"50cf47db-4e50-43d5-849c-8b166ee0310c\", \"doc\": null, \"size\": {\"value\": 4, \"units\": \"screen\"}, \"line_color\": {\"field\": \"color\"}, \"x\": {\"field\": \"petal_length\"}, \"y\": {\"field\": \"petal_length\"}, \"fill_alpha\": {\"value\": 0.2}, \"fill_color\": {\"field\": \"color\"}, \"tags\": []}, \"type\": \"Circle\"}, {\"id\": \"638b367b-890b-42ca-bdf4-b58687523ad8\", \"attributes\": {\"id\": \"638b367b-890b-42ca-bdf4-b58687523ad8\", \"mantissas\": [2, 5, 10], \"doc\": null, \"tags\": []}, \"type\": \"BasicTicker\"}, {\"id\": \"885887dc-beac-4dbe-8488-affb84dbad9a\", \"attributes\": {\"glyph\": {\"id\": \"513f01fb-1fa5-458c-ad26-37b7db3bc5e6\", \"type\": \"Circle\"}, \"id\": \"885887dc-beac-4dbe-8488-affb84dbad9a\", \"nonselection_glyph\": null, \"data_source\": {\"id\": \"180ecab9-aad1-4ecd-86dd-707521237e53\", \"type\": \"ColumnDataSource\"}, \"doc\": null, \"selection_glyph\": null, \"tags\": []}, \"type\": \"GlyphRenderer\"}, {\"id\": \"c2e83a22-209b-4969-bb47-cadcee6a999c\", \"attributes\": {\"id\": \"c2e83a22-209b-4969-bb47-cadcee6a999c\", \"dimension\": 1, \"doc\": null, \"plot\": {\"id\": \"021cdfdf-1b25-43ef-a3b5-b4059f7c470f\", \"type\": \"Plot\"}, \"ticker\": {\"id\": \"2848a515-49a1-4759-abc4-0380b8046d61\", \"type\": \"BasicTicker\"}, \"tags\": []}, \"type\": \"Grid\"}, {\"id\": \"01dee305-ebde-4719-bd2f-24a88aba7c85\", \"attributes\": {\"column_names\": [\"ycenter\", \"xcenter\"], \"selected\": {\"2d\": {\"indices\": []}, \"0d\": {\"indices\": [], \"flag\": false}, \"1d\": {\"indices\": []}}, \"doc\": null, \"data\": {\"ycenter\": [135], \"xcenter\": [125]}, \"callback\": null, \"id\": \"01dee305-ebde-4719-bd2f-24a88aba7c85\", \"tags\": []}, \"type\": \"ColumnDataSource\"}, {\"id\": \"968cc2ad-f835-4752-979b-bc538cc62538\", \"attributes\": {\"id\": \"968cc2ad-f835-4752-979b-bc538cc62538\", \"doc\": null, \"renderers\": [{\"id\": \"558c6b77-bf58-4f11-9a14-927107a729b6\", \"type\": \"GlyphRenderer\"}, {\"id\": \"fba52f66-ff00-4d33-96fa-7c86b2748f8b\", \"type\": \"GlyphRenderer\"}, {\"id\": \"89341480-05a3-46ab-9046-864e9f902ebe\", \"type\": \"GlyphRenderer\"}, {\"id\": \"03a16c63-c24f-43be-bedd-4bb657d0947e\", \"type\": \"GlyphRenderer\"}, {\"id\": \"3846eb4e-4503-436e-b40d-e1ca3f8f298e\", \"type\": \"GlyphRenderer\"}, {\"id\": \"885887dc-beac-4dbe-8488-affb84dbad9a\", \"type\": \"GlyphRenderer\"}, {\"id\": \"fc28b94a-09c4-4548-a329-238f1cbc4082\", \"type\": \"GlyphRenderer\"}, {\"id\": \"94b34fee-4bd1-41c9-9cdc-d14784d3e60a\", \"type\": \"GlyphRenderer\"}, {\"id\": \"0cf6b872-d2b1-44fd-8451-dd29093b53a8\", \"type\": \"GlyphRenderer\"}, {\"id\": \"f2575798-c947-4359-8618-3551da02264e\", \"type\": \"GlyphRenderer\"}, {\"id\": \"a8ef6f48-a1ed-454b-a9bf-fc001691d195\", \"type\": \"GlyphRenderer\"}, {\"id\": \"22e1c299-16cd-4cd1-ae34-31594d69add4\", \"type\": \"GlyphRenderer\"}, {\"id\": \"bf7772dc-3602-41b8-a41c-82e2e47013de\", \"type\": \"GlyphRenderer\"}, {\"id\": \"31593026-a123-43e8-962c-9554913d59f8\", \"type\": \"GlyphRenderer\"}, {\"id\": \"e84b3122-da22-459e-a24c-0658c5bb94d8\", \"type\": \"GlyphRenderer\"}, {\"id\": \"59e6ffa7-c3d6-42e0-ba2c-0f7229d34dbe\", \"type\": \"GlyphRenderer\"}], \"names\": [], \"callback\": null, \"tags\": []}, \"type\": \"DataRange1d\"}, {\"id\": \"31714cdc-2882-40df-ba1b-58f75734f44b\", \"attributes\": {\"id\": \"31714cdc-2882-40df-ba1b-58f75734f44b\", \"doc\": null, \"geometries\": [], \"tags\": []}, \"type\": \"ToolEvents\"}, {\"id\": \"55a4aa2f-2886-4469-aea8-8aa337f14e3b\", \"attributes\": {\"below\": [], \"left\": [], \"x_range\": null, \"doc\": null, \"tags\": [], \"children\": [[{\"id\": \"e689f0ea-9d7d-4657-be34-6834f1d468b8\", \"type\": \"Plot\"}, {\"id\": \"668ef729-b704-411f-b906-43d25ccd789c\", \"type\": \"Plot\"}, {\"id\": \"da8f6199-6687-4d99-8631-3001261cf1f3\", \"type\": \"Plot\"}, {\"id\": \"8db4b161-b0b9-446a-ad89-ed7491d440d0\", \"type\": \"Plot\"}], [{\"id\": \"d53207ec-03f0-47b5-a846-1307bda36b41\", \"type\": \"Plot\"}, {\"id\": \"a27f9cdc-14cd-42f4-8d83-eca16b18c50a\", \"type\": \"Plot\"}, {\"id\": \"97e3e8fe-0056-49ec-acad-b0fce7510491\", \"type\": \"Plot\"}, {\"id\": \"d38402f6-ff0e-451a-a27f-2a3921c34773\", \"type\": \"Plot\"}], [{\"id\": \"5336e983-ab6f-4b00-bf75-f5fd4805120c\", \"type\": \"Plot\"}, {\"id\": \"3eddff6c-5c32-4054-a405-c1c7b8ba2851\", \"type\": \"Plot\"}, {\"id\": \"021cdfdf-1b25-43ef-a3b5-b4059f7c470f\", \"type\": \"Plot\"}, {\"id\": \"8fa8c051-ae3e-47a4-852f-5eb0104ca2c5\", \"type\": \"Plot\"}], [{\"id\": \"7433c4ce-47a4-4ab7-a560-53ca3d217d3f\", \"type\": \"Plot\"}, {\"id\": \"f8d22ff5-8e38-4f59-ae61-976f444e161c\", \"type\": \"Plot\"}, {\"id\": \"b7f438ce-7135-4047-b283-ab00bfffd361\", \"type\": \"Plot\"}, {\"id\": \"fb9e8964-c73b-4188-b25a-174bbd9b415b\", \"type\": \"Plot\"}]], \"extra_x_ranges\": {}, \"renderers\": [], \"y_range\": null, \"above\": [], \"extra_y_ranges\": {}, \"title\": \"iris_splom\", \"id\": \"55a4aa2f-2886-4469-aea8-8aa337f14e3b\", \"tool_events\": {\"id\": \"31714cdc-2882-40df-ba1b-58f75734f44b\", \"type\": \"ToolEvents\"}, \"tools\": [], \"right\": []}, \"type\": \"GridPlot\"}];\n",
       "        Bokeh.load_models(all_models);\n",
       "        var plots = [{'modeltype': 'GridPlot', 'elementid': '660e58f8-d16e-47cb-953f-ffbd0173778c', 'modelid': '55a4aa2f-2886-4469-aea8-8aa337f14e3b'}];\n",
       "        for (idx in plots) {\n",
       "        \tvar plot = plots[idx];\n",
       "        \tvar model = Bokeh.Collections(plot.modeltype).get(plot.modelid);\n",
       "        \tBokeh.logger.info('Realizing plot:')\n",
       "        \tBokeh.logger.info(' - modeltype: ' + plot.modeltype);\n",
       "        \tBokeh.logger.info(' - modelid: ' + plot.modelid);\n",
       "        \tBokeh.logger.info(' - elementid: ' + plot.elementid);\n",
       "        \tvar view = new model.default_view({\n",
       "        \t\tmodel: model,\n",
       "        \t\tel: '#' + plot.elementid\n",
       "        \t});\n",
       "        \tBokeh.index[plot.modelid] = view;\n",
       "        }\n",
       "    });\n",
       "    </script>\n",
       "<div class=\"plotdiv\" id=\"660e58f8-d16e-47cb-953f-ffbd0173778c\"></div>\n",
       "\n"
      ]
     },
     "metadata": {},
     "output_type": "display_data"
    }
   ],
   "source": [
    "show(grid)"
   ]
  },
  {
   "cell_type": "markdown",
   "metadata": {
    "slideshow": {
     "slide_type": "slide"
    }
   },
   "source": [
    "# Staying up-to-date\n",
    "* Get on [Twitter](https://twitter.com/twiecki)\n",
    "* Frequent [HackerNews](https://news.ycombinator.com)\n",
    "* Frequent [DataTau](https://datatau.com)\n",
    "* Visit [PyData conferences](http://pydata.org/) and the [SciPy conference](http://conference.scipy.org/)\n"
   ]
  }
 ],
 "metadata": {
  "celltoolbar": "Slideshow",
  "kernelspec": {
   "display_name": "Python 3",
   "language": "python",
   "name": "python3"
  },
  "language_info": {
   "codemirror_mode": {
    "name": "ipython",
    "version": 3
   },
   "file_extension": ".py",
   "mimetype": "text/x-python",
   "name": "python",
   "nbconvert_exporter": "python",
   "pygments_lexer": "ipython3",
   "version": "3.4.3"
  }
 },
 "nbformat": 4,
 "nbformat_minor": 0
}
